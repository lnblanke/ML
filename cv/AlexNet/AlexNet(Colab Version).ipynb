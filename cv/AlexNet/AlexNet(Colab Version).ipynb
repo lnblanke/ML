{
  "nbformat": 4,
  "nbformat_minor": 0,
  "metadata": {
    "accelerator": "GPU",
    "colab": {
      "name": "AlexNet.ipynb",
      "provenance": [],
      "collapsed_sections": []
    },
    "kernelspec": {
      "display_name": "Python 3",
      "name": "python3"
    },
    "language_info": {
      "name": "python"
    },
    "widgets": {
      "application/vnd.jupyter.widget-state+json": {
        "f2246be2f82c485f918e145ac4981b27": {
          "model_module": "@jupyter-widgets/controls",
          "model_name": "HBoxModel",
          "model_module_version": "1.5.0",
          "state": {
            "_view_name": "HBoxView",
            "_dom_classes": [],
            "_model_name": "HBoxModel",
            "_view_module": "@jupyter-widgets/controls",
            "_model_module_version": "1.5.0",
            "_view_count": null,
            "_view_module_version": "1.5.0",
            "box_style": "",
            "layout": "IPY_MODEL_0fbb0e4875134188aa254f44c622eeaf",
            "_model_module": "@jupyter-widgets/controls",
            "children": [
              "IPY_MODEL_da81307882d145ee9e976b23a66884b4",
              "IPY_MODEL_c6728b1f027745caa7c42f2e7472b41d",
              "IPY_MODEL_527ea14f56904c0ca01339873f22a0aa"
            ]
          }
        },
        "0fbb0e4875134188aa254f44c622eeaf": {
          "model_module": "@jupyter-widgets/base",
          "model_name": "LayoutModel",
          "model_module_version": "1.2.0",
          "state": {
            "_view_name": "LayoutView",
            "grid_template_rows": null,
            "right": null,
            "justify_content": null,
            "_view_module": "@jupyter-widgets/base",
            "overflow": null,
            "_model_module_version": "1.2.0",
            "_view_count": null,
            "flex_flow": null,
            "width": null,
            "min_width": null,
            "border": null,
            "align_items": null,
            "bottom": null,
            "_model_module": "@jupyter-widgets/base",
            "top": null,
            "grid_column": null,
            "overflow_y": null,
            "overflow_x": null,
            "grid_auto_flow": null,
            "grid_area": null,
            "grid_template_columns": null,
            "flex": null,
            "_model_name": "LayoutModel",
            "justify_items": null,
            "grid_row": null,
            "max_height": null,
            "align_content": null,
            "visibility": null,
            "align_self": null,
            "height": null,
            "min_height": null,
            "padding": null,
            "grid_auto_rows": null,
            "grid_gap": null,
            "max_width": null,
            "order": null,
            "_view_module_version": "1.2.0",
            "grid_template_areas": null,
            "object_position": null,
            "object_fit": null,
            "grid_auto_columns": null,
            "margin": null,
            "display": null,
            "left": null
          }
        },
        "da81307882d145ee9e976b23a66884b4": {
          "model_module": "@jupyter-widgets/controls",
          "model_name": "HTMLModel",
          "model_module_version": "1.5.0",
          "state": {
            "_view_name": "HTMLView",
            "style": "IPY_MODEL_ffa55516ec904bfaad3760f6d2c6c6ff",
            "_dom_classes": [],
            "description": "",
            "_model_name": "HTMLModel",
            "placeholder": "​",
            "_view_module": "@jupyter-widgets/controls",
            "_model_module_version": "1.5.0",
            "value": "Dl Completed...: 100%",
            "_view_count": null,
            "_view_module_version": "1.5.0",
            "description_tooltip": null,
            "_model_module": "@jupyter-widgets/controls",
            "layout": "IPY_MODEL_5a0cf4285d5147e592ff61fde5b75719"
          }
        },
        "c6728b1f027745caa7c42f2e7472b41d": {
          "model_module": "@jupyter-widgets/controls",
          "model_name": "FloatProgressModel",
          "model_module_version": "1.5.0",
          "state": {
            "_view_name": "ProgressView",
            "style": "IPY_MODEL_c6e749d3154e411fa1d7b6d546443750",
            "_dom_classes": [],
            "description": "",
            "_model_name": "FloatProgressModel",
            "bar_style": "success",
            "max": 1,
            "_view_module": "@jupyter-widgets/controls",
            "_model_module_version": "1.5.0",
            "value": 1,
            "_view_count": null,
            "_view_module_version": "1.5.0",
            "orientation": "horizontal",
            "min": 0,
            "description_tooltip": null,
            "_model_module": "@jupyter-widgets/controls",
            "layout": "IPY_MODEL_6337a0e43d6b437da323e6a4d8685e97"
          }
        },
        "527ea14f56904c0ca01339873f22a0aa": {
          "model_module": "@jupyter-widgets/controls",
          "model_name": "HTMLModel",
          "model_module_version": "1.5.0",
          "state": {
            "_view_name": "HTMLView",
            "style": "IPY_MODEL_b0cb8b9d07a9412f90087fbd5778e0cc",
            "_dom_classes": [],
            "description": "",
            "_model_name": "HTMLModel",
            "placeholder": "​",
            "_view_module": "@jupyter-widgets/controls",
            "_model_module_version": "1.5.0",
            "value": " 1/1 [00:06&lt;00:00,  4.72s/ url]",
            "_view_count": null,
            "_view_module_version": "1.5.0",
            "description_tooltip": null,
            "_model_module": "@jupyter-widgets/controls",
            "layout": "IPY_MODEL_be8f1a2f4424479e9538f6a82c524274"
          }
        },
        "ffa55516ec904bfaad3760f6d2c6c6ff": {
          "model_module": "@jupyter-widgets/controls",
          "model_name": "DescriptionStyleModel",
          "model_module_version": "1.5.0",
          "state": {
            "_view_name": "StyleView",
            "_model_name": "DescriptionStyleModel",
            "description_width": "",
            "_view_module": "@jupyter-widgets/base",
            "_model_module_version": "1.5.0",
            "_view_count": null,
            "_view_module_version": "1.2.0",
            "_model_module": "@jupyter-widgets/controls"
          }
        },
        "5a0cf4285d5147e592ff61fde5b75719": {
          "model_module": "@jupyter-widgets/base",
          "model_name": "LayoutModel",
          "model_module_version": "1.2.0",
          "state": {
            "_view_name": "LayoutView",
            "grid_template_rows": null,
            "right": null,
            "justify_content": null,
            "_view_module": "@jupyter-widgets/base",
            "overflow": null,
            "_model_module_version": "1.2.0",
            "_view_count": null,
            "flex_flow": null,
            "width": null,
            "min_width": null,
            "border": null,
            "align_items": null,
            "bottom": null,
            "_model_module": "@jupyter-widgets/base",
            "top": null,
            "grid_column": null,
            "overflow_y": null,
            "overflow_x": null,
            "grid_auto_flow": null,
            "grid_area": null,
            "grid_template_columns": null,
            "flex": null,
            "_model_name": "LayoutModel",
            "justify_items": null,
            "grid_row": null,
            "max_height": null,
            "align_content": null,
            "visibility": null,
            "align_self": null,
            "height": null,
            "min_height": null,
            "padding": null,
            "grid_auto_rows": null,
            "grid_gap": null,
            "max_width": null,
            "order": null,
            "_view_module_version": "1.2.0",
            "grid_template_areas": null,
            "object_position": null,
            "object_fit": null,
            "grid_auto_columns": null,
            "margin": null,
            "display": null,
            "left": null
          }
        },
        "c6e749d3154e411fa1d7b6d546443750": {
          "model_module": "@jupyter-widgets/controls",
          "model_name": "ProgressStyleModel",
          "model_module_version": "1.5.0",
          "state": {
            "_view_name": "StyleView",
            "_model_name": "ProgressStyleModel",
            "description_width": "",
            "_view_module": "@jupyter-widgets/base",
            "_model_module_version": "1.5.0",
            "_view_count": null,
            "_view_module_version": "1.2.0",
            "bar_color": null,
            "_model_module": "@jupyter-widgets/controls"
          }
        },
        "6337a0e43d6b437da323e6a4d8685e97": {
          "model_module": "@jupyter-widgets/base",
          "model_name": "LayoutModel",
          "model_module_version": "1.2.0",
          "state": {
            "_view_name": "LayoutView",
            "grid_template_rows": null,
            "right": null,
            "justify_content": null,
            "_view_module": "@jupyter-widgets/base",
            "overflow": null,
            "_model_module_version": "1.2.0",
            "_view_count": null,
            "flex_flow": null,
            "width": "20px",
            "min_width": null,
            "border": null,
            "align_items": null,
            "bottom": null,
            "_model_module": "@jupyter-widgets/base",
            "top": null,
            "grid_column": null,
            "overflow_y": null,
            "overflow_x": null,
            "grid_auto_flow": null,
            "grid_area": null,
            "grid_template_columns": null,
            "flex": null,
            "_model_name": "LayoutModel",
            "justify_items": null,
            "grid_row": null,
            "max_height": null,
            "align_content": null,
            "visibility": null,
            "align_self": null,
            "height": null,
            "min_height": null,
            "padding": null,
            "grid_auto_rows": null,
            "grid_gap": null,
            "max_width": null,
            "order": null,
            "_view_module_version": "1.2.0",
            "grid_template_areas": null,
            "object_position": null,
            "object_fit": null,
            "grid_auto_columns": null,
            "margin": null,
            "display": null,
            "left": null
          }
        },
        "b0cb8b9d07a9412f90087fbd5778e0cc": {
          "model_module": "@jupyter-widgets/controls",
          "model_name": "DescriptionStyleModel",
          "model_module_version": "1.5.0",
          "state": {
            "_view_name": "StyleView",
            "_model_name": "DescriptionStyleModel",
            "description_width": "",
            "_view_module": "@jupyter-widgets/base",
            "_model_module_version": "1.5.0",
            "_view_count": null,
            "_view_module_version": "1.2.0",
            "_model_module": "@jupyter-widgets/controls"
          }
        },
        "be8f1a2f4424479e9538f6a82c524274": {
          "model_module": "@jupyter-widgets/base",
          "model_name": "LayoutModel",
          "model_module_version": "1.2.0",
          "state": {
            "_view_name": "LayoutView",
            "grid_template_rows": null,
            "right": null,
            "justify_content": null,
            "_view_module": "@jupyter-widgets/base",
            "overflow": null,
            "_model_module_version": "1.2.0",
            "_view_count": null,
            "flex_flow": null,
            "width": null,
            "min_width": null,
            "border": null,
            "align_items": null,
            "bottom": null,
            "_model_module": "@jupyter-widgets/base",
            "top": null,
            "grid_column": null,
            "overflow_y": null,
            "overflow_x": null,
            "grid_auto_flow": null,
            "grid_area": null,
            "grid_template_columns": null,
            "flex": null,
            "_model_name": "LayoutModel",
            "justify_items": null,
            "grid_row": null,
            "max_height": null,
            "align_content": null,
            "visibility": null,
            "align_self": null,
            "height": null,
            "min_height": null,
            "padding": null,
            "grid_auto_rows": null,
            "grid_gap": null,
            "max_width": null,
            "order": null,
            "_view_module_version": "1.2.0",
            "grid_template_areas": null,
            "object_position": null,
            "object_fit": null,
            "grid_auto_columns": null,
            "margin": null,
            "display": null,
            "left": null
          }
        },
        "f3091dcb3dc34c0a802530a03f59d70d": {
          "model_module": "@jupyter-widgets/controls",
          "model_name": "HBoxModel",
          "model_module_version": "1.5.0",
          "state": {
            "_view_name": "HBoxView",
            "_dom_classes": [],
            "_model_name": "HBoxModel",
            "_view_module": "@jupyter-widgets/controls",
            "_model_module_version": "1.5.0",
            "_view_count": null,
            "_view_module_version": "1.5.0",
            "box_style": "",
            "layout": "IPY_MODEL_e0d63aa58fb14194bc1edc54f5520f69",
            "_model_module": "@jupyter-widgets/controls",
            "children": [
              "IPY_MODEL_7b919c73077f4806acc11f9510dc1509",
              "IPY_MODEL_225c6a866bfe4880bbd9c9395b4b9eca",
              "IPY_MODEL_10cc967f660e4ddaac06590eb2487fcb"
            ]
          }
        },
        "e0d63aa58fb14194bc1edc54f5520f69": {
          "model_module": "@jupyter-widgets/base",
          "model_name": "LayoutModel",
          "model_module_version": "1.2.0",
          "state": {
            "_view_name": "LayoutView",
            "grid_template_rows": null,
            "right": null,
            "justify_content": null,
            "_view_module": "@jupyter-widgets/base",
            "overflow": null,
            "_model_module_version": "1.2.0",
            "_view_count": null,
            "flex_flow": null,
            "width": null,
            "min_width": null,
            "border": null,
            "align_items": null,
            "bottom": null,
            "_model_module": "@jupyter-widgets/base",
            "top": null,
            "grid_column": null,
            "overflow_y": null,
            "overflow_x": null,
            "grid_auto_flow": null,
            "grid_area": null,
            "grid_template_columns": null,
            "flex": null,
            "_model_name": "LayoutModel",
            "justify_items": null,
            "grid_row": null,
            "max_height": null,
            "align_content": null,
            "visibility": null,
            "align_self": null,
            "height": null,
            "min_height": null,
            "padding": null,
            "grid_auto_rows": null,
            "grid_gap": null,
            "max_width": null,
            "order": null,
            "_view_module_version": "1.2.0",
            "grid_template_areas": null,
            "object_position": null,
            "object_fit": null,
            "grid_auto_columns": null,
            "margin": null,
            "display": null,
            "left": null
          }
        },
        "7b919c73077f4806acc11f9510dc1509": {
          "model_module": "@jupyter-widgets/controls",
          "model_name": "HTMLModel",
          "model_module_version": "1.5.0",
          "state": {
            "_view_name": "HTMLView",
            "style": "IPY_MODEL_0bba6ad70a034d28bfbe3ed118fc6c5d",
            "_dom_classes": [],
            "description": "",
            "_model_name": "HTMLModel",
            "placeholder": "​",
            "_view_module": "@jupyter-widgets/controls",
            "_model_module_version": "1.5.0",
            "value": "Dl Size...: 100%",
            "_view_count": null,
            "_view_module_version": "1.5.0",
            "description_tooltip": null,
            "_model_module": "@jupyter-widgets/controls",
            "layout": "IPY_MODEL_7f993225b8fa49f0b0e6e0a0cf6190ba"
          }
        },
        "225c6a866bfe4880bbd9c9395b4b9eca": {
          "model_module": "@jupyter-widgets/controls",
          "model_name": "FloatProgressModel",
          "model_module_version": "1.5.0",
          "state": {
            "_view_name": "ProgressView",
            "style": "IPY_MODEL_6a2d602a6475475bad58297550140b4c",
            "_dom_classes": [],
            "description": "",
            "_model_name": "FloatProgressModel",
            "bar_style": "success",
            "max": 1,
            "_view_module": "@jupyter-widgets/controls",
            "_model_module_version": "1.5.0",
            "value": 1,
            "_view_count": null,
            "_view_module_version": "1.5.0",
            "orientation": "horizontal",
            "min": 0,
            "description_tooltip": null,
            "_model_module": "@jupyter-widgets/controls",
            "layout": "IPY_MODEL_a1de1b1686cc447aac135d7f683f279d"
          }
        },
        "10cc967f660e4ddaac06590eb2487fcb": {
          "model_module": "@jupyter-widgets/controls",
          "model_name": "HTMLModel",
          "model_module_version": "1.5.0",
          "state": {
            "_view_name": "HTMLView",
            "style": "IPY_MODEL_56d5b2da78be49baac1253d30ed8d906",
            "_dom_classes": [],
            "description": "",
            "_model_name": "HTMLModel",
            "placeholder": "​",
            "_view_module": "@jupyter-widgets/controls",
            "_model_module_version": "1.5.0",
            "value": " 162/162 [00:06&lt;00:00, 43.78 MiB/s]",
            "_view_count": null,
            "_view_module_version": "1.5.0",
            "description_tooltip": null,
            "_model_module": "@jupyter-widgets/controls",
            "layout": "IPY_MODEL_a3e978263d0741bd9e43ed7bdcf79f9c"
          }
        },
        "0bba6ad70a034d28bfbe3ed118fc6c5d": {
          "model_module": "@jupyter-widgets/controls",
          "model_name": "DescriptionStyleModel",
          "model_module_version": "1.5.0",
          "state": {
            "_view_name": "StyleView",
            "_model_name": "DescriptionStyleModel",
            "description_width": "",
            "_view_module": "@jupyter-widgets/base",
            "_model_module_version": "1.5.0",
            "_view_count": null,
            "_view_module_version": "1.2.0",
            "_model_module": "@jupyter-widgets/controls"
          }
        },
        "7f993225b8fa49f0b0e6e0a0cf6190ba": {
          "model_module": "@jupyter-widgets/base",
          "model_name": "LayoutModel",
          "model_module_version": "1.2.0",
          "state": {
            "_view_name": "LayoutView",
            "grid_template_rows": null,
            "right": null,
            "justify_content": null,
            "_view_module": "@jupyter-widgets/base",
            "overflow": null,
            "_model_module_version": "1.2.0",
            "_view_count": null,
            "flex_flow": null,
            "width": null,
            "min_width": null,
            "border": null,
            "align_items": null,
            "bottom": null,
            "_model_module": "@jupyter-widgets/base",
            "top": null,
            "grid_column": null,
            "overflow_y": null,
            "overflow_x": null,
            "grid_auto_flow": null,
            "grid_area": null,
            "grid_template_columns": null,
            "flex": null,
            "_model_name": "LayoutModel",
            "justify_items": null,
            "grid_row": null,
            "max_height": null,
            "align_content": null,
            "visibility": null,
            "align_self": null,
            "height": null,
            "min_height": null,
            "padding": null,
            "grid_auto_rows": null,
            "grid_gap": null,
            "max_width": null,
            "order": null,
            "_view_module_version": "1.2.0",
            "grid_template_areas": null,
            "object_position": null,
            "object_fit": null,
            "grid_auto_columns": null,
            "margin": null,
            "display": null,
            "left": null
          }
        },
        "6a2d602a6475475bad58297550140b4c": {
          "model_module": "@jupyter-widgets/controls",
          "model_name": "ProgressStyleModel",
          "model_module_version": "1.5.0",
          "state": {
            "_view_name": "StyleView",
            "_model_name": "ProgressStyleModel",
            "description_width": "",
            "_view_module": "@jupyter-widgets/base",
            "_model_module_version": "1.5.0",
            "_view_count": null,
            "_view_module_version": "1.2.0",
            "bar_color": null,
            "_model_module": "@jupyter-widgets/controls"
          }
        },
        "a1de1b1686cc447aac135d7f683f279d": {
          "model_module": "@jupyter-widgets/base",
          "model_name": "LayoutModel",
          "model_module_version": "1.2.0",
          "state": {
            "_view_name": "LayoutView",
            "grid_template_rows": null,
            "right": null,
            "justify_content": null,
            "_view_module": "@jupyter-widgets/base",
            "overflow": null,
            "_model_module_version": "1.2.0",
            "_view_count": null,
            "flex_flow": null,
            "width": "20px",
            "min_width": null,
            "border": null,
            "align_items": null,
            "bottom": null,
            "_model_module": "@jupyter-widgets/base",
            "top": null,
            "grid_column": null,
            "overflow_y": null,
            "overflow_x": null,
            "grid_auto_flow": null,
            "grid_area": null,
            "grid_template_columns": null,
            "flex": null,
            "_model_name": "LayoutModel",
            "justify_items": null,
            "grid_row": null,
            "max_height": null,
            "align_content": null,
            "visibility": null,
            "align_self": null,
            "height": null,
            "min_height": null,
            "padding": null,
            "grid_auto_rows": null,
            "grid_gap": null,
            "max_width": null,
            "order": null,
            "_view_module_version": "1.2.0",
            "grid_template_areas": null,
            "object_position": null,
            "object_fit": null,
            "grid_auto_columns": null,
            "margin": null,
            "display": null,
            "left": null
          }
        },
        "56d5b2da78be49baac1253d30ed8d906": {
          "model_module": "@jupyter-widgets/controls",
          "model_name": "DescriptionStyleModel",
          "model_module_version": "1.5.0",
          "state": {
            "_view_name": "StyleView",
            "_model_name": "DescriptionStyleModel",
            "description_width": "",
            "_view_module": "@jupyter-widgets/base",
            "_model_module_version": "1.5.0",
            "_view_count": null,
            "_view_module_version": "1.2.0",
            "_model_module": "@jupyter-widgets/controls"
          }
        },
        "a3e978263d0741bd9e43ed7bdcf79f9c": {
          "model_module": "@jupyter-widgets/base",
          "model_name": "LayoutModel",
          "model_module_version": "1.2.0",
          "state": {
            "_view_name": "LayoutView",
            "grid_template_rows": null,
            "right": null,
            "justify_content": null,
            "_view_module": "@jupyter-widgets/base",
            "overflow": null,
            "_model_module_version": "1.2.0",
            "_view_count": null,
            "flex_flow": null,
            "width": null,
            "min_width": null,
            "border": null,
            "align_items": null,
            "bottom": null,
            "_model_module": "@jupyter-widgets/base",
            "top": null,
            "grid_column": null,
            "overflow_y": null,
            "overflow_x": null,
            "grid_auto_flow": null,
            "grid_area": null,
            "grid_template_columns": null,
            "flex": null,
            "_model_name": "LayoutModel",
            "justify_items": null,
            "grid_row": null,
            "max_height": null,
            "align_content": null,
            "visibility": null,
            "align_self": null,
            "height": null,
            "min_height": null,
            "padding": null,
            "grid_auto_rows": null,
            "grid_gap": null,
            "max_width": null,
            "order": null,
            "_view_module_version": "1.2.0",
            "grid_template_areas": null,
            "object_position": null,
            "object_fit": null,
            "grid_auto_columns": null,
            "margin": null,
            "display": null,
            "left": null
          }
        },
        "5086486749704672b72adb6022df7168": {
          "model_module": "@jupyter-widgets/controls",
          "model_name": "HBoxModel",
          "model_module_version": "1.5.0",
          "state": {
            "_view_name": "HBoxView",
            "_dom_classes": [],
            "_model_name": "HBoxModel",
            "_view_module": "@jupyter-widgets/controls",
            "_model_module_version": "1.5.0",
            "_view_count": null,
            "_view_module_version": "1.5.0",
            "box_style": "",
            "layout": "IPY_MODEL_edc817658e4f40439566825a54bb90e5",
            "_model_module": "@jupyter-widgets/controls",
            "children": [
              "IPY_MODEL_e2424c0b0ab1435bbe643cb5c0af84b6",
              "IPY_MODEL_6f486d665e34419d96dc5b0679583e4a",
              "IPY_MODEL_f935177e863a4166b9d552405545b12a"
            ]
          }
        },
        "edc817658e4f40439566825a54bb90e5": {
          "model_module": "@jupyter-widgets/base",
          "model_name": "LayoutModel",
          "model_module_version": "1.2.0",
          "state": {
            "_view_name": "LayoutView",
            "grid_template_rows": null,
            "right": null,
            "justify_content": null,
            "_view_module": "@jupyter-widgets/base",
            "overflow": null,
            "_model_module_version": "1.2.0",
            "_view_count": null,
            "flex_flow": null,
            "width": null,
            "min_width": null,
            "border": null,
            "align_items": null,
            "bottom": null,
            "_model_module": "@jupyter-widgets/base",
            "top": null,
            "grid_column": null,
            "overflow_y": null,
            "overflow_x": null,
            "grid_auto_flow": null,
            "grid_area": null,
            "grid_template_columns": null,
            "flex": null,
            "_model_name": "LayoutModel",
            "justify_items": null,
            "grid_row": null,
            "max_height": null,
            "align_content": null,
            "visibility": null,
            "align_self": null,
            "height": null,
            "min_height": null,
            "padding": null,
            "grid_auto_rows": null,
            "grid_gap": null,
            "max_width": null,
            "order": null,
            "_view_module_version": "1.2.0",
            "grid_template_areas": null,
            "object_position": null,
            "object_fit": null,
            "grid_auto_columns": null,
            "margin": null,
            "display": null,
            "left": null
          }
        },
        "e2424c0b0ab1435bbe643cb5c0af84b6": {
          "model_module": "@jupyter-widgets/controls",
          "model_name": "HTMLModel",
          "model_module_version": "1.5.0",
          "state": {
            "_view_name": "HTMLView",
            "style": "IPY_MODEL_9792365fa899496da0edeed0e7835577",
            "_dom_classes": [],
            "description": "",
            "_model_name": "HTMLModel",
            "placeholder": "​",
            "_view_module": "@jupyter-widgets/controls",
            "_model_module_version": "1.5.0",
            "value": "Extraction completed...: 100%",
            "_view_count": null,
            "_view_module_version": "1.5.0",
            "description_tooltip": null,
            "_model_module": "@jupyter-widgets/controls",
            "layout": "IPY_MODEL_5bcedc2058c543138f5b9dc133f95caa"
          }
        },
        "6f486d665e34419d96dc5b0679583e4a": {
          "model_module": "@jupyter-widgets/controls",
          "model_name": "FloatProgressModel",
          "model_module_version": "1.5.0",
          "state": {
            "_view_name": "ProgressView",
            "style": "IPY_MODEL_6d5d5571b6d54e35adf16f4afe84d557",
            "_dom_classes": [],
            "description": "",
            "_model_name": "FloatProgressModel",
            "bar_style": "success",
            "max": 1,
            "_view_module": "@jupyter-widgets/controls",
            "_model_module_version": "1.5.0",
            "value": 1,
            "_view_count": null,
            "_view_module_version": "1.5.0",
            "orientation": "horizontal",
            "min": 0,
            "description_tooltip": null,
            "_model_module": "@jupyter-widgets/controls",
            "layout": "IPY_MODEL_2c731c25904e42bdb3422d3fa80ac373"
          }
        },
        "f935177e863a4166b9d552405545b12a": {
          "model_module": "@jupyter-widgets/controls",
          "model_name": "HTMLModel",
          "model_module_version": "1.5.0",
          "state": {
            "_view_name": "HTMLView",
            "style": "IPY_MODEL_3f227146e3a448e7aee2de052394fcf3",
            "_dom_classes": [],
            "description": "",
            "_model_name": "HTMLModel",
            "placeholder": "​",
            "_view_module": "@jupyter-widgets/controls",
            "_model_module_version": "1.5.0",
            "value": " 1/1 [00:06&lt;00:00,  6.58s/ file]",
            "_view_count": null,
            "_view_module_version": "1.5.0",
            "description_tooltip": null,
            "_model_module": "@jupyter-widgets/controls",
            "layout": "IPY_MODEL_38eddbbc97e246a0bb77338c871c545f"
          }
        },
        "9792365fa899496da0edeed0e7835577": {
          "model_module": "@jupyter-widgets/controls",
          "model_name": "DescriptionStyleModel",
          "model_module_version": "1.5.0",
          "state": {
            "_view_name": "StyleView",
            "_model_name": "DescriptionStyleModel",
            "description_width": "",
            "_view_module": "@jupyter-widgets/base",
            "_model_module_version": "1.5.0",
            "_view_count": null,
            "_view_module_version": "1.2.0",
            "_model_module": "@jupyter-widgets/controls"
          }
        },
        "5bcedc2058c543138f5b9dc133f95caa": {
          "model_module": "@jupyter-widgets/base",
          "model_name": "LayoutModel",
          "model_module_version": "1.2.0",
          "state": {
            "_view_name": "LayoutView",
            "grid_template_rows": null,
            "right": null,
            "justify_content": null,
            "_view_module": "@jupyter-widgets/base",
            "overflow": null,
            "_model_module_version": "1.2.0",
            "_view_count": null,
            "flex_flow": null,
            "width": null,
            "min_width": null,
            "border": null,
            "align_items": null,
            "bottom": null,
            "_model_module": "@jupyter-widgets/base",
            "top": null,
            "grid_column": null,
            "overflow_y": null,
            "overflow_x": null,
            "grid_auto_flow": null,
            "grid_area": null,
            "grid_template_columns": null,
            "flex": null,
            "_model_name": "LayoutModel",
            "justify_items": null,
            "grid_row": null,
            "max_height": null,
            "align_content": null,
            "visibility": null,
            "align_self": null,
            "height": null,
            "min_height": null,
            "padding": null,
            "grid_auto_rows": null,
            "grid_gap": null,
            "max_width": null,
            "order": null,
            "_view_module_version": "1.2.0",
            "grid_template_areas": null,
            "object_position": null,
            "object_fit": null,
            "grid_auto_columns": null,
            "margin": null,
            "display": null,
            "left": null
          }
        },
        "6d5d5571b6d54e35adf16f4afe84d557": {
          "model_module": "@jupyter-widgets/controls",
          "model_name": "ProgressStyleModel",
          "model_module_version": "1.5.0",
          "state": {
            "_view_name": "StyleView",
            "_model_name": "ProgressStyleModel",
            "description_width": "",
            "_view_module": "@jupyter-widgets/base",
            "_model_module_version": "1.5.0",
            "_view_count": null,
            "_view_module_version": "1.2.0",
            "bar_color": null,
            "_model_module": "@jupyter-widgets/controls"
          }
        },
        "2c731c25904e42bdb3422d3fa80ac373": {
          "model_module": "@jupyter-widgets/base",
          "model_name": "LayoutModel",
          "model_module_version": "1.2.0",
          "state": {
            "_view_name": "LayoutView",
            "grid_template_rows": null,
            "right": null,
            "justify_content": null,
            "_view_module": "@jupyter-widgets/base",
            "overflow": null,
            "_model_module_version": "1.2.0",
            "_view_count": null,
            "flex_flow": null,
            "width": "20px",
            "min_width": null,
            "border": null,
            "align_items": null,
            "bottom": null,
            "_model_module": "@jupyter-widgets/base",
            "top": null,
            "grid_column": null,
            "overflow_y": null,
            "overflow_x": null,
            "grid_auto_flow": null,
            "grid_area": null,
            "grid_template_columns": null,
            "flex": null,
            "_model_name": "LayoutModel",
            "justify_items": null,
            "grid_row": null,
            "max_height": null,
            "align_content": null,
            "visibility": null,
            "align_self": null,
            "height": null,
            "min_height": null,
            "padding": null,
            "grid_auto_rows": null,
            "grid_gap": null,
            "max_width": null,
            "order": null,
            "_view_module_version": "1.2.0",
            "grid_template_areas": null,
            "object_position": null,
            "object_fit": null,
            "grid_auto_columns": null,
            "margin": null,
            "display": null,
            "left": null
          }
        },
        "3f227146e3a448e7aee2de052394fcf3": {
          "model_module": "@jupyter-widgets/controls",
          "model_name": "DescriptionStyleModel",
          "model_module_version": "1.5.0",
          "state": {
            "_view_name": "StyleView",
            "_model_name": "DescriptionStyleModel",
            "description_width": "",
            "_view_module": "@jupyter-widgets/base",
            "_model_module_version": "1.5.0",
            "_view_count": null,
            "_view_module_version": "1.2.0",
            "_model_module": "@jupyter-widgets/controls"
          }
        },
        "38eddbbc97e246a0bb77338c871c545f": {
          "model_module": "@jupyter-widgets/base",
          "model_name": "LayoutModel",
          "model_module_version": "1.2.0",
          "state": {
            "_view_name": "LayoutView",
            "grid_template_rows": null,
            "right": null,
            "justify_content": null,
            "_view_module": "@jupyter-widgets/base",
            "overflow": null,
            "_model_module_version": "1.2.0",
            "_view_count": null,
            "flex_flow": null,
            "width": null,
            "min_width": null,
            "border": null,
            "align_items": null,
            "bottom": null,
            "_model_module": "@jupyter-widgets/base",
            "top": null,
            "grid_column": null,
            "overflow_y": null,
            "overflow_x": null,
            "grid_auto_flow": null,
            "grid_area": null,
            "grid_template_columns": null,
            "flex": null,
            "_model_name": "LayoutModel",
            "justify_items": null,
            "grid_row": null,
            "max_height": null,
            "align_content": null,
            "visibility": null,
            "align_self": null,
            "height": null,
            "min_height": null,
            "padding": null,
            "grid_auto_rows": null,
            "grid_gap": null,
            "max_width": null,
            "order": null,
            "_view_module_version": "1.2.0",
            "grid_template_areas": null,
            "object_position": null,
            "object_fit": null,
            "grid_auto_columns": null,
            "margin": null,
            "display": null,
            "left": null
          }
        },
        "0d65c972eee8481ba15d021a7bf63755": {
          "model_module": "@jupyter-widgets/controls",
          "model_name": "HBoxModel",
          "model_module_version": "1.5.0",
          "state": {
            "_view_name": "HBoxView",
            "_dom_classes": [],
            "_model_name": "HBoxModel",
            "_view_module": "@jupyter-widgets/controls",
            "_model_module_version": "1.5.0",
            "_view_count": null,
            "_view_module_version": "1.5.0",
            "box_style": "",
            "layout": "IPY_MODEL_a1068e8339794f5f9f9e719c853842a5",
            "_model_module": "@jupyter-widgets/controls",
            "children": [
              "IPY_MODEL_8d1b32cc23544f018502a07359b88cdb",
              "IPY_MODEL_fb69bc2f496b43cc98f1dca8d67c54d8",
              "IPY_MODEL_388c1d0257a3485fa5f37e69203443ab"
            ]
          }
        },
        "a1068e8339794f5f9f9e719c853842a5": {
          "model_module": "@jupyter-widgets/base",
          "model_name": "LayoutModel",
          "model_module_version": "1.2.0",
          "state": {
            "_view_name": "LayoutView",
            "grid_template_rows": null,
            "right": null,
            "justify_content": null,
            "_view_module": "@jupyter-widgets/base",
            "overflow": null,
            "_model_module_version": "1.2.0",
            "_view_count": null,
            "flex_flow": null,
            "width": null,
            "min_width": null,
            "border": null,
            "align_items": null,
            "bottom": null,
            "_model_module": "@jupyter-widgets/base",
            "top": null,
            "grid_column": null,
            "overflow_y": null,
            "overflow_x": null,
            "grid_auto_flow": null,
            "grid_area": null,
            "grid_template_columns": null,
            "flex": null,
            "_model_name": "LayoutModel",
            "justify_items": null,
            "grid_row": null,
            "max_height": null,
            "align_content": null,
            "visibility": null,
            "align_self": null,
            "height": null,
            "min_height": null,
            "padding": null,
            "grid_auto_rows": null,
            "grid_gap": null,
            "max_width": null,
            "order": null,
            "_view_module_version": "1.2.0",
            "grid_template_areas": null,
            "object_position": null,
            "object_fit": null,
            "grid_auto_columns": null,
            "margin": null,
            "display": null,
            "left": null
          }
        },
        "8d1b32cc23544f018502a07359b88cdb": {
          "model_module": "@jupyter-widgets/controls",
          "model_name": "HTMLModel",
          "model_module_version": "1.5.0",
          "state": {
            "_view_name": "HTMLView",
            "style": "IPY_MODEL_a501588da7f8488db23cf45c9499c559",
            "_dom_classes": [],
            "description": "",
            "_model_name": "HTMLModel",
            "placeholder": "​",
            "_view_module": "@jupyter-widgets/controls",
            "_model_module_version": "1.5.0",
            "value": "",
            "_view_count": null,
            "_view_module_version": "1.5.0",
            "description_tooltip": null,
            "_model_module": "@jupyter-widgets/controls",
            "layout": "IPY_MODEL_e2fe976ce5264c6f8a7cfb377df39068"
          }
        },
        "fb69bc2f496b43cc98f1dca8d67c54d8": {
          "model_module": "@jupyter-widgets/controls",
          "model_name": "FloatProgressModel",
          "model_module_version": "1.5.0",
          "state": {
            "_view_name": "ProgressView",
            "style": "IPY_MODEL_bf21b4ac6f52461dbec682d9d4c4a140",
            "_dom_classes": [],
            "description": "",
            "_model_name": "FloatProgressModel",
            "bar_style": "info",
            "max": 1,
            "_view_module": "@jupyter-widgets/controls",
            "_model_module_version": "1.5.0",
            "value": 1,
            "_view_count": null,
            "_view_module_version": "1.5.0",
            "orientation": "horizontal",
            "min": 0,
            "description_tooltip": null,
            "_model_module": "@jupyter-widgets/controls",
            "layout": "IPY_MODEL_543216ad51e14126bd7e188d93180478"
          }
        },
        "388c1d0257a3485fa5f37e69203443ab": {
          "model_module": "@jupyter-widgets/controls",
          "model_name": "HTMLModel",
          "model_module_version": "1.5.0",
          "state": {
            "_view_name": "HTMLView",
            "style": "IPY_MODEL_f2bcf721034e4405aad1392a5f1917d7",
            "_dom_classes": [],
            "description": "",
            "_model_name": "HTMLModel",
            "placeholder": "​",
            "_view_module": "@jupyter-widgets/controls",
            "_model_module_version": "1.5.0",
            "value": " 49904/0 [00:47&lt;00:00, 1095.75 examples/s]",
            "_view_count": null,
            "_view_module_version": "1.5.0",
            "description_tooltip": null,
            "_model_module": "@jupyter-widgets/controls",
            "layout": "IPY_MODEL_f9c5057f0e5a46f684edf0bd55708044"
          }
        },
        "a501588da7f8488db23cf45c9499c559": {
          "model_module": "@jupyter-widgets/controls",
          "model_name": "DescriptionStyleModel",
          "model_module_version": "1.5.0",
          "state": {
            "_view_name": "StyleView",
            "_model_name": "DescriptionStyleModel",
            "description_width": "",
            "_view_module": "@jupyter-widgets/base",
            "_model_module_version": "1.5.0",
            "_view_count": null,
            "_view_module_version": "1.2.0",
            "_model_module": "@jupyter-widgets/controls"
          }
        },
        "e2fe976ce5264c6f8a7cfb377df39068": {
          "model_module": "@jupyter-widgets/base",
          "model_name": "LayoutModel",
          "model_module_version": "1.2.0",
          "state": {
            "_view_name": "LayoutView",
            "grid_template_rows": null,
            "right": null,
            "justify_content": null,
            "_view_module": "@jupyter-widgets/base",
            "overflow": null,
            "_model_module_version": "1.2.0",
            "_view_count": null,
            "flex_flow": null,
            "width": null,
            "min_width": null,
            "border": null,
            "align_items": null,
            "bottom": null,
            "_model_module": "@jupyter-widgets/base",
            "top": null,
            "grid_column": null,
            "overflow_y": null,
            "overflow_x": null,
            "grid_auto_flow": null,
            "grid_area": null,
            "grid_template_columns": null,
            "flex": null,
            "_model_name": "LayoutModel",
            "justify_items": null,
            "grid_row": null,
            "max_height": null,
            "align_content": null,
            "visibility": null,
            "align_self": null,
            "height": null,
            "min_height": null,
            "padding": null,
            "grid_auto_rows": null,
            "grid_gap": null,
            "max_width": null,
            "order": null,
            "_view_module_version": "1.2.0",
            "grid_template_areas": null,
            "object_position": null,
            "object_fit": null,
            "grid_auto_columns": null,
            "margin": null,
            "display": null,
            "left": null
          }
        },
        "bf21b4ac6f52461dbec682d9d4c4a140": {
          "model_module": "@jupyter-widgets/controls",
          "model_name": "ProgressStyleModel",
          "model_module_version": "1.5.0",
          "state": {
            "_view_name": "StyleView",
            "_model_name": "ProgressStyleModel",
            "description_width": "",
            "_view_module": "@jupyter-widgets/base",
            "_model_module_version": "1.5.0",
            "_view_count": null,
            "_view_module_version": "1.2.0",
            "bar_color": null,
            "_model_module": "@jupyter-widgets/controls"
          }
        },
        "543216ad51e14126bd7e188d93180478": {
          "model_module": "@jupyter-widgets/base",
          "model_name": "LayoutModel",
          "model_module_version": "1.2.0",
          "state": {
            "_view_name": "LayoutView",
            "grid_template_rows": null,
            "right": null,
            "justify_content": null,
            "_view_module": "@jupyter-widgets/base",
            "overflow": null,
            "_model_module_version": "1.2.0",
            "_view_count": null,
            "flex_flow": null,
            "width": "20px",
            "min_width": null,
            "border": null,
            "align_items": null,
            "bottom": null,
            "_model_module": "@jupyter-widgets/base",
            "top": null,
            "grid_column": null,
            "overflow_y": null,
            "overflow_x": null,
            "grid_auto_flow": null,
            "grid_area": null,
            "grid_template_columns": null,
            "flex": null,
            "_model_name": "LayoutModel",
            "justify_items": null,
            "grid_row": null,
            "max_height": null,
            "align_content": null,
            "visibility": null,
            "align_self": null,
            "height": null,
            "min_height": null,
            "padding": null,
            "grid_auto_rows": null,
            "grid_gap": null,
            "max_width": null,
            "order": null,
            "_view_module_version": "1.2.0",
            "grid_template_areas": null,
            "object_position": null,
            "object_fit": null,
            "grid_auto_columns": null,
            "margin": null,
            "display": null,
            "left": null
          }
        },
        "f2bcf721034e4405aad1392a5f1917d7": {
          "model_module": "@jupyter-widgets/controls",
          "model_name": "DescriptionStyleModel",
          "model_module_version": "1.5.0",
          "state": {
            "_view_name": "StyleView",
            "_model_name": "DescriptionStyleModel",
            "description_width": "",
            "_view_module": "@jupyter-widgets/base",
            "_model_module_version": "1.5.0",
            "_view_count": null,
            "_view_module_version": "1.2.0",
            "_model_module": "@jupyter-widgets/controls"
          }
        },
        "f9c5057f0e5a46f684edf0bd55708044": {
          "model_module": "@jupyter-widgets/base",
          "model_name": "LayoutModel",
          "model_module_version": "1.2.0",
          "state": {
            "_view_name": "LayoutView",
            "grid_template_rows": null,
            "right": null,
            "justify_content": null,
            "_view_module": "@jupyter-widgets/base",
            "overflow": null,
            "_model_module_version": "1.2.0",
            "_view_count": null,
            "flex_flow": null,
            "width": null,
            "min_width": null,
            "border": null,
            "align_items": null,
            "bottom": null,
            "_model_module": "@jupyter-widgets/base",
            "top": null,
            "grid_column": null,
            "overflow_y": null,
            "overflow_x": null,
            "grid_auto_flow": null,
            "grid_area": null,
            "grid_template_columns": null,
            "flex": null,
            "_model_name": "LayoutModel",
            "justify_items": null,
            "grid_row": null,
            "max_height": null,
            "align_content": null,
            "visibility": null,
            "align_self": null,
            "height": null,
            "min_height": null,
            "padding": null,
            "grid_auto_rows": null,
            "grid_gap": null,
            "max_width": null,
            "order": null,
            "_view_module_version": "1.2.0",
            "grid_template_areas": null,
            "object_position": null,
            "object_fit": null,
            "grid_auto_columns": null,
            "margin": null,
            "display": null,
            "left": null
          }
        },
        "b25ef97df4db45ca9fae89427e9ad051": {
          "model_module": "@jupyter-widgets/controls",
          "model_name": "HBoxModel",
          "model_module_version": "1.5.0",
          "state": {
            "_view_name": "HBoxView",
            "_dom_classes": [],
            "_model_name": "HBoxModel",
            "_view_module": "@jupyter-widgets/controls",
            "_model_module_version": "1.5.0",
            "_view_count": null,
            "_view_module_version": "1.5.0",
            "box_style": "",
            "layout": "IPY_MODEL_4e3ac616401449f19916ec31330f75e5",
            "_model_module": "@jupyter-widgets/controls",
            "children": [
              "IPY_MODEL_a78c9be918074314bb73f41db8cbd861",
              "IPY_MODEL_5680cf9bcb8549f8bc3c605de94c0795",
              "IPY_MODEL_a20736d12beb44efa44db317d8efa1d0"
            ]
          }
        },
        "4e3ac616401449f19916ec31330f75e5": {
          "model_module": "@jupyter-widgets/base",
          "model_name": "LayoutModel",
          "model_module_version": "1.2.0",
          "state": {
            "_view_name": "LayoutView",
            "grid_template_rows": null,
            "right": null,
            "justify_content": null,
            "_view_module": "@jupyter-widgets/base",
            "overflow": null,
            "_model_module_version": "1.2.0",
            "_view_count": null,
            "flex_flow": null,
            "width": null,
            "min_width": null,
            "border": null,
            "align_items": null,
            "bottom": null,
            "_model_module": "@jupyter-widgets/base",
            "top": null,
            "grid_column": null,
            "overflow_y": null,
            "overflow_x": null,
            "grid_auto_flow": null,
            "grid_area": null,
            "grid_template_columns": null,
            "flex": null,
            "_model_name": "LayoutModel",
            "justify_items": null,
            "grid_row": null,
            "max_height": null,
            "align_content": null,
            "visibility": null,
            "align_self": null,
            "height": null,
            "min_height": null,
            "padding": null,
            "grid_auto_rows": null,
            "grid_gap": null,
            "max_width": null,
            "order": null,
            "_view_module_version": "1.2.0",
            "grid_template_areas": null,
            "object_position": null,
            "object_fit": null,
            "grid_auto_columns": null,
            "margin": null,
            "display": null,
            "left": null
          }
        },
        "a78c9be918074314bb73f41db8cbd861": {
          "model_module": "@jupyter-widgets/controls",
          "model_name": "HTMLModel",
          "model_module_version": "1.5.0",
          "state": {
            "_view_name": "HTMLView",
            "style": "IPY_MODEL_eef583d8dea44cf29fed0cc9d6cd17c6",
            "_dom_classes": [],
            "description": "",
            "_model_name": "HTMLModel",
            "placeholder": "​",
            "_view_module": "@jupyter-widgets/controls",
            "_model_module_version": "1.5.0",
            "value": "100%",
            "_view_count": null,
            "_view_module_version": "1.5.0",
            "description_tooltip": null,
            "_model_module": "@jupyter-widgets/controls",
            "layout": "IPY_MODEL_a4e3b3c9a7004658a3a1b00c114d554e"
          }
        },
        "5680cf9bcb8549f8bc3c605de94c0795": {
          "model_module": "@jupyter-widgets/controls",
          "model_name": "FloatProgressModel",
          "model_module_version": "1.5.0",
          "state": {
            "_view_name": "ProgressView",
            "style": "IPY_MODEL_8cf29e93d30a499594e00080d131c997",
            "_dom_classes": [],
            "description": "",
            "_model_name": "FloatProgressModel",
            "bar_style": "danger",
            "max": 50000,
            "_view_module": "@jupyter-widgets/controls",
            "_model_module_version": "1.5.0",
            "value": 49999,
            "_view_count": null,
            "_view_module_version": "1.5.0",
            "orientation": "horizontal",
            "min": 0,
            "description_tooltip": null,
            "_model_module": "@jupyter-widgets/controls",
            "layout": "IPY_MODEL_0a03c56370b14f96871aa76b00baf1f7"
          }
        },
        "a20736d12beb44efa44db317d8efa1d0": {
          "model_module": "@jupyter-widgets/controls",
          "model_name": "HTMLModel",
          "model_module_version": "1.5.0",
          "state": {
            "_view_name": "HTMLView",
            "style": "IPY_MODEL_8bf8cfc64d3d4ea2bda64229e8e94dc9",
            "_dom_classes": [],
            "description": "",
            "_model_name": "HTMLModel",
            "placeholder": "​",
            "_view_module": "@jupyter-widgets/controls",
            "_model_module_version": "1.5.0",
            "value": " 49999/50000 [00:00&lt;00:00, 154796.95 examples/s]",
            "_view_count": null,
            "_view_module_version": "1.5.0",
            "description_tooltip": null,
            "_model_module": "@jupyter-widgets/controls",
            "layout": "IPY_MODEL_4535b589a2394d059ae04432caa47fdd"
          }
        },
        "eef583d8dea44cf29fed0cc9d6cd17c6": {
          "model_module": "@jupyter-widgets/controls",
          "model_name": "DescriptionStyleModel",
          "model_module_version": "1.5.0",
          "state": {
            "_view_name": "StyleView",
            "_model_name": "DescriptionStyleModel",
            "description_width": "",
            "_view_module": "@jupyter-widgets/base",
            "_model_module_version": "1.5.0",
            "_view_count": null,
            "_view_module_version": "1.2.0",
            "_model_module": "@jupyter-widgets/controls"
          }
        },
        "a4e3b3c9a7004658a3a1b00c114d554e": {
          "model_module": "@jupyter-widgets/base",
          "model_name": "LayoutModel",
          "model_module_version": "1.2.0",
          "state": {
            "_view_name": "LayoutView",
            "grid_template_rows": null,
            "right": null,
            "justify_content": null,
            "_view_module": "@jupyter-widgets/base",
            "overflow": null,
            "_model_module_version": "1.2.0",
            "_view_count": null,
            "flex_flow": null,
            "width": null,
            "min_width": null,
            "border": null,
            "align_items": null,
            "bottom": null,
            "_model_module": "@jupyter-widgets/base",
            "top": null,
            "grid_column": null,
            "overflow_y": null,
            "overflow_x": null,
            "grid_auto_flow": null,
            "grid_area": null,
            "grid_template_columns": null,
            "flex": null,
            "_model_name": "LayoutModel",
            "justify_items": null,
            "grid_row": null,
            "max_height": null,
            "align_content": null,
            "visibility": null,
            "align_self": null,
            "height": null,
            "min_height": null,
            "padding": null,
            "grid_auto_rows": null,
            "grid_gap": null,
            "max_width": null,
            "order": null,
            "_view_module_version": "1.2.0",
            "grid_template_areas": null,
            "object_position": null,
            "object_fit": null,
            "grid_auto_columns": null,
            "margin": null,
            "display": null,
            "left": null
          }
        },
        "8cf29e93d30a499594e00080d131c997": {
          "model_module": "@jupyter-widgets/controls",
          "model_name": "ProgressStyleModel",
          "model_module_version": "1.5.0",
          "state": {
            "_view_name": "StyleView",
            "_model_name": "ProgressStyleModel",
            "description_width": "",
            "_view_module": "@jupyter-widgets/base",
            "_model_module_version": "1.5.0",
            "_view_count": null,
            "_view_module_version": "1.2.0",
            "bar_color": null,
            "_model_module": "@jupyter-widgets/controls"
          }
        },
        "0a03c56370b14f96871aa76b00baf1f7": {
          "model_module": "@jupyter-widgets/base",
          "model_name": "LayoutModel",
          "model_module_version": "1.2.0",
          "state": {
            "_view_name": "LayoutView",
            "grid_template_rows": null,
            "right": null,
            "justify_content": null,
            "_view_module": "@jupyter-widgets/base",
            "overflow": null,
            "_model_module_version": "1.2.0",
            "_view_count": null,
            "flex_flow": null,
            "width": null,
            "min_width": null,
            "border": null,
            "align_items": null,
            "bottom": null,
            "_model_module": "@jupyter-widgets/base",
            "top": null,
            "grid_column": null,
            "overflow_y": null,
            "overflow_x": null,
            "grid_auto_flow": null,
            "grid_area": null,
            "grid_template_columns": null,
            "flex": null,
            "_model_name": "LayoutModel",
            "justify_items": null,
            "grid_row": null,
            "max_height": null,
            "align_content": null,
            "visibility": null,
            "align_self": null,
            "height": null,
            "min_height": null,
            "padding": null,
            "grid_auto_rows": null,
            "grid_gap": null,
            "max_width": null,
            "order": null,
            "_view_module_version": "1.2.0",
            "grid_template_areas": null,
            "object_position": null,
            "object_fit": null,
            "grid_auto_columns": null,
            "margin": null,
            "display": null,
            "left": null
          }
        },
        "8bf8cfc64d3d4ea2bda64229e8e94dc9": {
          "model_module": "@jupyter-widgets/controls",
          "model_name": "DescriptionStyleModel",
          "model_module_version": "1.5.0",
          "state": {
            "_view_name": "StyleView",
            "_model_name": "DescriptionStyleModel",
            "description_width": "",
            "_view_module": "@jupyter-widgets/base",
            "_model_module_version": "1.5.0",
            "_view_count": null,
            "_view_module_version": "1.2.0",
            "_model_module": "@jupyter-widgets/controls"
          }
        },
        "4535b589a2394d059ae04432caa47fdd": {
          "model_module": "@jupyter-widgets/base",
          "model_name": "LayoutModel",
          "model_module_version": "1.2.0",
          "state": {
            "_view_name": "LayoutView",
            "grid_template_rows": null,
            "right": null,
            "justify_content": null,
            "_view_module": "@jupyter-widgets/base",
            "overflow": null,
            "_model_module_version": "1.2.0",
            "_view_count": null,
            "flex_flow": null,
            "width": null,
            "min_width": null,
            "border": null,
            "align_items": null,
            "bottom": null,
            "_model_module": "@jupyter-widgets/base",
            "top": null,
            "grid_column": null,
            "overflow_y": null,
            "overflow_x": null,
            "grid_auto_flow": null,
            "grid_area": null,
            "grid_template_columns": null,
            "flex": null,
            "_model_name": "LayoutModel",
            "justify_items": null,
            "grid_row": null,
            "max_height": null,
            "align_content": null,
            "visibility": null,
            "align_self": null,
            "height": null,
            "min_height": null,
            "padding": null,
            "grid_auto_rows": null,
            "grid_gap": null,
            "max_width": null,
            "order": null,
            "_view_module_version": "1.2.0",
            "grid_template_areas": null,
            "object_position": null,
            "object_fit": null,
            "grid_auto_columns": null,
            "margin": null,
            "display": null,
            "left": null
          }
        },
        "e22ea53edbfc4834937d64d7357b788d": {
          "model_module": "@jupyter-widgets/controls",
          "model_name": "HBoxModel",
          "model_module_version": "1.5.0",
          "state": {
            "_view_name": "HBoxView",
            "_dom_classes": [],
            "_model_name": "HBoxModel",
            "_view_module": "@jupyter-widgets/controls",
            "_model_module_version": "1.5.0",
            "_view_count": null,
            "_view_module_version": "1.5.0",
            "box_style": "",
            "layout": "IPY_MODEL_d4f3ef5c811d450ba145a7ebed10a0f9",
            "_model_module": "@jupyter-widgets/controls",
            "children": [
              "IPY_MODEL_bb570f62989248f4b013dd832dd25c7b",
              "IPY_MODEL_78003f72e018478cb7f0203bb40687b5",
              "IPY_MODEL_76ec451a5248489da580cc24122262dd"
            ]
          }
        },
        "d4f3ef5c811d450ba145a7ebed10a0f9": {
          "model_module": "@jupyter-widgets/base",
          "model_name": "LayoutModel",
          "model_module_version": "1.2.0",
          "state": {
            "_view_name": "LayoutView",
            "grid_template_rows": null,
            "right": null,
            "justify_content": null,
            "_view_module": "@jupyter-widgets/base",
            "overflow": null,
            "_model_module_version": "1.2.0",
            "_view_count": null,
            "flex_flow": null,
            "width": null,
            "min_width": null,
            "border": null,
            "align_items": null,
            "bottom": null,
            "_model_module": "@jupyter-widgets/base",
            "top": null,
            "grid_column": null,
            "overflow_y": null,
            "overflow_x": null,
            "grid_auto_flow": null,
            "grid_area": null,
            "grid_template_columns": null,
            "flex": null,
            "_model_name": "LayoutModel",
            "justify_items": null,
            "grid_row": null,
            "max_height": null,
            "align_content": null,
            "visibility": null,
            "align_self": null,
            "height": null,
            "min_height": null,
            "padding": null,
            "grid_auto_rows": null,
            "grid_gap": null,
            "max_width": null,
            "order": null,
            "_view_module_version": "1.2.0",
            "grid_template_areas": null,
            "object_position": null,
            "object_fit": null,
            "grid_auto_columns": null,
            "margin": null,
            "display": null,
            "left": null
          }
        },
        "bb570f62989248f4b013dd832dd25c7b": {
          "model_module": "@jupyter-widgets/controls",
          "model_name": "HTMLModel",
          "model_module_version": "1.5.0",
          "state": {
            "_view_name": "HTMLView",
            "style": "IPY_MODEL_8a7d7d540088467d8e000c388e9fd4f7",
            "_dom_classes": [],
            "description": "",
            "_model_name": "HTMLModel",
            "placeholder": "​",
            "_view_module": "@jupyter-widgets/controls",
            "_model_module_version": "1.5.0",
            "value": "",
            "_view_count": null,
            "_view_module_version": "1.5.0",
            "description_tooltip": null,
            "_model_module": "@jupyter-widgets/controls",
            "layout": "IPY_MODEL_1fb1171f902b49f688cb35005b6a7bf7"
          }
        },
        "78003f72e018478cb7f0203bb40687b5": {
          "model_module": "@jupyter-widgets/controls",
          "model_name": "FloatProgressModel",
          "model_module_version": "1.5.0",
          "state": {
            "_view_name": "ProgressView",
            "style": "IPY_MODEL_0b28281fd6944061a1405533ed7569e1",
            "_dom_classes": [],
            "description": "",
            "_model_name": "FloatProgressModel",
            "bar_style": "info",
            "max": 1,
            "_view_module": "@jupyter-widgets/controls",
            "_model_module_version": "1.5.0",
            "value": 1,
            "_view_count": null,
            "_view_module_version": "1.5.0",
            "orientation": "horizontal",
            "min": 0,
            "description_tooltip": null,
            "_model_module": "@jupyter-widgets/controls",
            "layout": "IPY_MODEL_6bd915385e024d5683977d63cf6155d7"
          }
        },
        "76ec451a5248489da580cc24122262dd": {
          "model_module": "@jupyter-widgets/controls",
          "model_name": "HTMLModel",
          "model_module_version": "1.5.0",
          "state": {
            "_view_name": "HTMLView",
            "style": "IPY_MODEL_375e3a0c8bd14e44b00ba8009bb4db3d",
            "_dom_classes": [],
            "description": "",
            "_model_name": "HTMLModel",
            "placeholder": "​",
            "_view_module": "@jupyter-widgets/controls",
            "_model_module_version": "1.5.0",
            "value": " 9983/0 [00:08&lt;00:00, 1134.52 examples/s]",
            "_view_count": null,
            "_view_module_version": "1.5.0",
            "description_tooltip": null,
            "_model_module": "@jupyter-widgets/controls",
            "layout": "IPY_MODEL_78e80708a08040a5a3cd772910702a02"
          }
        },
        "8a7d7d540088467d8e000c388e9fd4f7": {
          "model_module": "@jupyter-widgets/controls",
          "model_name": "DescriptionStyleModel",
          "model_module_version": "1.5.0",
          "state": {
            "_view_name": "StyleView",
            "_model_name": "DescriptionStyleModel",
            "description_width": "",
            "_view_module": "@jupyter-widgets/base",
            "_model_module_version": "1.5.0",
            "_view_count": null,
            "_view_module_version": "1.2.0",
            "_model_module": "@jupyter-widgets/controls"
          }
        },
        "1fb1171f902b49f688cb35005b6a7bf7": {
          "model_module": "@jupyter-widgets/base",
          "model_name": "LayoutModel",
          "model_module_version": "1.2.0",
          "state": {
            "_view_name": "LayoutView",
            "grid_template_rows": null,
            "right": null,
            "justify_content": null,
            "_view_module": "@jupyter-widgets/base",
            "overflow": null,
            "_model_module_version": "1.2.0",
            "_view_count": null,
            "flex_flow": null,
            "width": null,
            "min_width": null,
            "border": null,
            "align_items": null,
            "bottom": null,
            "_model_module": "@jupyter-widgets/base",
            "top": null,
            "grid_column": null,
            "overflow_y": null,
            "overflow_x": null,
            "grid_auto_flow": null,
            "grid_area": null,
            "grid_template_columns": null,
            "flex": null,
            "_model_name": "LayoutModel",
            "justify_items": null,
            "grid_row": null,
            "max_height": null,
            "align_content": null,
            "visibility": null,
            "align_self": null,
            "height": null,
            "min_height": null,
            "padding": null,
            "grid_auto_rows": null,
            "grid_gap": null,
            "max_width": null,
            "order": null,
            "_view_module_version": "1.2.0",
            "grid_template_areas": null,
            "object_position": null,
            "object_fit": null,
            "grid_auto_columns": null,
            "margin": null,
            "display": null,
            "left": null
          }
        },
        "0b28281fd6944061a1405533ed7569e1": {
          "model_module": "@jupyter-widgets/controls",
          "model_name": "ProgressStyleModel",
          "model_module_version": "1.5.0",
          "state": {
            "_view_name": "StyleView",
            "_model_name": "ProgressStyleModel",
            "description_width": "",
            "_view_module": "@jupyter-widgets/base",
            "_model_module_version": "1.5.0",
            "_view_count": null,
            "_view_module_version": "1.2.0",
            "bar_color": null,
            "_model_module": "@jupyter-widgets/controls"
          }
        },
        "6bd915385e024d5683977d63cf6155d7": {
          "model_module": "@jupyter-widgets/base",
          "model_name": "LayoutModel",
          "model_module_version": "1.2.0",
          "state": {
            "_view_name": "LayoutView",
            "grid_template_rows": null,
            "right": null,
            "justify_content": null,
            "_view_module": "@jupyter-widgets/base",
            "overflow": null,
            "_model_module_version": "1.2.0",
            "_view_count": null,
            "flex_flow": null,
            "width": "20px",
            "min_width": null,
            "border": null,
            "align_items": null,
            "bottom": null,
            "_model_module": "@jupyter-widgets/base",
            "top": null,
            "grid_column": null,
            "overflow_y": null,
            "overflow_x": null,
            "grid_auto_flow": null,
            "grid_area": null,
            "grid_template_columns": null,
            "flex": null,
            "_model_name": "LayoutModel",
            "justify_items": null,
            "grid_row": null,
            "max_height": null,
            "align_content": null,
            "visibility": null,
            "align_self": null,
            "height": null,
            "min_height": null,
            "padding": null,
            "grid_auto_rows": null,
            "grid_gap": null,
            "max_width": null,
            "order": null,
            "_view_module_version": "1.2.0",
            "grid_template_areas": null,
            "object_position": null,
            "object_fit": null,
            "grid_auto_columns": null,
            "margin": null,
            "display": null,
            "left": null
          }
        },
        "375e3a0c8bd14e44b00ba8009bb4db3d": {
          "model_module": "@jupyter-widgets/controls",
          "model_name": "DescriptionStyleModel",
          "model_module_version": "1.5.0",
          "state": {
            "_view_name": "StyleView",
            "_model_name": "DescriptionStyleModel",
            "description_width": "",
            "_view_module": "@jupyter-widgets/base",
            "_model_module_version": "1.5.0",
            "_view_count": null,
            "_view_module_version": "1.2.0",
            "_model_module": "@jupyter-widgets/controls"
          }
        },
        "78e80708a08040a5a3cd772910702a02": {
          "model_module": "@jupyter-widgets/base",
          "model_name": "LayoutModel",
          "model_module_version": "1.2.0",
          "state": {
            "_view_name": "LayoutView",
            "grid_template_rows": null,
            "right": null,
            "justify_content": null,
            "_view_module": "@jupyter-widgets/base",
            "overflow": null,
            "_model_module_version": "1.2.0",
            "_view_count": null,
            "flex_flow": null,
            "width": null,
            "min_width": null,
            "border": null,
            "align_items": null,
            "bottom": null,
            "_model_module": "@jupyter-widgets/base",
            "top": null,
            "grid_column": null,
            "overflow_y": null,
            "overflow_x": null,
            "grid_auto_flow": null,
            "grid_area": null,
            "grid_template_columns": null,
            "flex": null,
            "_model_name": "LayoutModel",
            "justify_items": null,
            "grid_row": null,
            "max_height": null,
            "align_content": null,
            "visibility": null,
            "align_self": null,
            "height": null,
            "min_height": null,
            "padding": null,
            "grid_auto_rows": null,
            "grid_gap": null,
            "max_width": null,
            "order": null,
            "_view_module_version": "1.2.0",
            "grid_template_areas": null,
            "object_position": null,
            "object_fit": null,
            "grid_auto_columns": null,
            "margin": null,
            "display": null,
            "left": null
          }
        },
        "51a1ac5fbc4e4a1ba884459e56bdd062": {
          "model_module": "@jupyter-widgets/controls",
          "model_name": "HBoxModel",
          "model_module_version": "1.5.0",
          "state": {
            "_view_name": "HBoxView",
            "_dom_classes": [],
            "_model_name": "HBoxModel",
            "_view_module": "@jupyter-widgets/controls",
            "_model_module_version": "1.5.0",
            "_view_count": null,
            "_view_module_version": "1.5.0",
            "box_style": "",
            "layout": "IPY_MODEL_c7e6af322c34470992c916fbb46f81d5",
            "_model_module": "@jupyter-widgets/controls",
            "children": [
              "IPY_MODEL_a0204edc3f2145dbb8003d9a82b6a2c3",
              "IPY_MODEL_cfc55fe271d041d89ff02e2517e113f3",
              "IPY_MODEL_633159d12cc74310ae5bb6254cfef85a"
            ]
          }
        },
        "c7e6af322c34470992c916fbb46f81d5": {
          "model_module": "@jupyter-widgets/base",
          "model_name": "LayoutModel",
          "model_module_version": "1.2.0",
          "state": {
            "_view_name": "LayoutView",
            "grid_template_rows": null,
            "right": null,
            "justify_content": null,
            "_view_module": "@jupyter-widgets/base",
            "overflow": null,
            "_model_module_version": "1.2.0",
            "_view_count": null,
            "flex_flow": null,
            "width": null,
            "min_width": null,
            "border": null,
            "align_items": null,
            "bottom": null,
            "_model_module": "@jupyter-widgets/base",
            "top": null,
            "grid_column": null,
            "overflow_y": null,
            "overflow_x": null,
            "grid_auto_flow": null,
            "grid_area": null,
            "grid_template_columns": null,
            "flex": null,
            "_model_name": "LayoutModel",
            "justify_items": null,
            "grid_row": null,
            "max_height": null,
            "align_content": null,
            "visibility": null,
            "align_self": null,
            "height": null,
            "min_height": null,
            "padding": null,
            "grid_auto_rows": null,
            "grid_gap": null,
            "max_width": null,
            "order": null,
            "_view_module_version": "1.2.0",
            "grid_template_areas": null,
            "object_position": null,
            "object_fit": null,
            "grid_auto_columns": null,
            "margin": null,
            "display": null,
            "left": null
          }
        },
        "a0204edc3f2145dbb8003d9a82b6a2c3": {
          "model_module": "@jupyter-widgets/controls",
          "model_name": "HTMLModel",
          "model_module_version": "1.5.0",
          "state": {
            "_view_name": "HTMLView",
            "style": "IPY_MODEL_7302130773a047a295de7aabcdedc775",
            "_dom_classes": [],
            "description": "",
            "_model_name": "HTMLModel",
            "placeholder": "​",
            "_view_module": "@jupyter-widgets/controls",
            "_model_module_version": "1.5.0",
            "value": "100%",
            "_view_count": null,
            "_view_module_version": "1.5.0",
            "description_tooltip": null,
            "_model_module": "@jupyter-widgets/controls",
            "layout": "IPY_MODEL_e69e2dc656fe4f438a51ddfeed81849f"
          }
        },
        "cfc55fe271d041d89ff02e2517e113f3": {
          "model_module": "@jupyter-widgets/controls",
          "model_name": "FloatProgressModel",
          "model_module_version": "1.5.0",
          "state": {
            "_view_name": "ProgressView",
            "style": "IPY_MODEL_646a3058a036468c90f57a1df2f3d387",
            "_dom_classes": [],
            "description": "",
            "_model_name": "FloatProgressModel",
            "bar_style": "danger",
            "max": 10000,
            "_view_module": "@jupyter-widgets/controls",
            "_model_module_version": "1.5.0",
            "value": 9999,
            "_view_count": null,
            "_view_module_version": "1.5.0",
            "orientation": "horizontal",
            "min": 0,
            "description_tooltip": null,
            "_model_module": "@jupyter-widgets/controls",
            "layout": "IPY_MODEL_13caea268170498b852c974fa06c2dda"
          }
        },
        "633159d12cc74310ae5bb6254cfef85a": {
          "model_module": "@jupyter-widgets/controls",
          "model_name": "HTMLModel",
          "model_module_version": "1.5.0",
          "state": {
            "_view_name": "HTMLView",
            "style": "IPY_MODEL_c61abda5e809411a85aec73085b84d65",
            "_dom_classes": [],
            "description": "",
            "_model_name": "HTMLModel",
            "placeholder": "​",
            "_view_module": "@jupyter-widgets/controls",
            "_model_module_version": "1.5.0",
            "value": " 9999/10000 [00:00&lt;00:00, 72439.02 examples/s]",
            "_view_count": null,
            "_view_module_version": "1.5.0",
            "description_tooltip": null,
            "_model_module": "@jupyter-widgets/controls",
            "layout": "IPY_MODEL_8e2dc20e933f496f9e472a12cac135a9"
          }
        },
        "7302130773a047a295de7aabcdedc775": {
          "model_module": "@jupyter-widgets/controls",
          "model_name": "DescriptionStyleModel",
          "model_module_version": "1.5.0",
          "state": {
            "_view_name": "StyleView",
            "_model_name": "DescriptionStyleModel",
            "description_width": "",
            "_view_module": "@jupyter-widgets/base",
            "_model_module_version": "1.5.0",
            "_view_count": null,
            "_view_module_version": "1.2.0",
            "_model_module": "@jupyter-widgets/controls"
          }
        },
        "e69e2dc656fe4f438a51ddfeed81849f": {
          "model_module": "@jupyter-widgets/base",
          "model_name": "LayoutModel",
          "model_module_version": "1.2.0",
          "state": {
            "_view_name": "LayoutView",
            "grid_template_rows": null,
            "right": null,
            "justify_content": null,
            "_view_module": "@jupyter-widgets/base",
            "overflow": null,
            "_model_module_version": "1.2.0",
            "_view_count": null,
            "flex_flow": null,
            "width": null,
            "min_width": null,
            "border": null,
            "align_items": null,
            "bottom": null,
            "_model_module": "@jupyter-widgets/base",
            "top": null,
            "grid_column": null,
            "overflow_y": null,
            "overflow_x": null,
            "grid_auto_flow": null,
            "grid_area": null,
            "grid_template_columns": null,
            "flex": null,
            "_model_name": "LayoutModel",
            "justify_items": null,
            "grid_row": null,
            "max_height": null,
            "align_content": null,
            "visibility": null,
            "align_self": null,
            "height": null,
            "min_height": null,
            "padding": null,
            "grid_auto_rows": null,
            "grid_gap": null,
            "max_width": null,
            "order": null,
            "_view_module_version": "1.2.0",
            "grid_template_areas": null,
            "object_position": null,
            "object_fit": null,
            "grid_auto_columns": null,
            "margin": null,
            "display": null,
            "left": null
          }
        },
        "646a3058a036468c90f57a1df2f3d387": {
          "model_module": "@jupyter-widgets/controls",
          "model_name": "ProgressStyleModel",
          "model_module_version": "1.5.0",
          "state": {
            "_view_name": "StyleView",
            "_model_name": "ProgressStyleModel",
            "description_width": "",
            "_view_module": "@jupyter-widgets/base",
            "_model_module_version": "1.5.0",
            "_view_count": null,
            "_view_module_version": "1.2.0",
            "bar_color": null,
            "_model_module": "@jupyter-widgets/controls"
          }
        },
        "13caea268170498b852c974fa06c2dda": {
          "model_module": "@jupyter-widgets/base",
          "model_name": "LayoutModel",
          "model_module_version": "1.2.0",
          "state": {
            "_view_name": "LayoutView",
            "grid_template_rows": null,
            "right": null,
            "justify_content": null,
            "_view_module": "@jupyter-widgets/base",
            "overflow": null,
            "_model_module_version": "1.2.0",
            "_view_count": null,
            "flex_flow": null,
            "width": null,
            "min_width": null,
            "border": null,
            "align_items": null,
            "bottom": null,
            "_model_module": "@jupyter-widgets/base",
            "top": null,
            "grid_column": null,
            "overflow_y": null,
            "overflow_x": null,
            "grid_auto_flow": null,
            "grid_area": null,
            "grid_template_columns": null,
            "flex": null,
            "_model_name": "LayoutModel",
            "justify_items": null,
            "grid_row": null,
            "max_height": null,
            "align_content": null,
            "visibility": null,
            "align_self": null,
            "height": null,
            "min_height": null,
            "padding": null,
            "grid_auto_rows": null,
            "grid_gap": null,
            "max_width": null,
            "order": null,
            "_view_module_version": "1.2.0",
            "grid_template_areas": null,
            "object_position": null,
            "object_fit": null,
            "grid_auto_columns": null,
            "margin": null,
            "display": null,
            "left": null
          }
        },
        "c61abda5e809411a85aec73085b84d65": {
          "model_module": "@jupyter-widgets/controls",
          "model_name": "DescriptionStyleModel",
          "model_module_version": "1.5.0",
          "state": {
            "_view_name": "StyleView",
            "_model_name": "DescriptionStyleModel",
            "description_width": "",
            "_view_module": "@jupyter-widgets/base",
            "_model_module_version": "1.5.0",
            "_view_count": null,
            "_view_module_version": "1.2.0",
            "_model_module": "@jupyter-widgets/controls"
          }
        },
        "8e2dc20e933f496f9e472a12cac135a9": {
          "model_module": "@jupyter-widgets/base",
          "model_name": "LayoutModel",
          "model_module_version": "1.2.0",
          "state": {
            "_view_name": "LayoutView",
            "grid_template_rows": null,
            "right": null,
            "justify_content": null,
            "_view_module": "@jupyter-widgets/base",
            "overflow": null,
            "_model_module_version": "1.2.0",
            "_view_count": null,
            "flex_flow": null,
            "width": null,
            "min_width": null,
            "border": null,
            "align_items": null,
            "bottom": null,
            "_model_module": "@jupyter-widgets/base",
            "top": null,
            "grid_column": null,
            "overflow_y": null,
            "overflow_x": null,
            "grid_auto_flow": null,
            "grid_area": null,
            "grid_template_columns": null,
            "flex": null,
            "_model_name": "LayoutModel",
            "justify_items": null,
            "grid_row": null,
            "max_height": null,
            "align_content": null,
            "visibility": null,
            "align_self": null,
            "height": null,
            "min_height": null,
            "padding": null,
            "grid_auto_rows": null,
            "grid_gap": null,
            "max_width": null,
            "order": null,
            "_view_module_version": "1.2.0",
            "grid_template_areas": null,
            "object_position": null,
            "object_fit": null,
            "grid_auto_columns": null,
            "margin": null,
            "display": null,
            "left": null
          }
        }
      }
    }
  },
  "cells": [
    {
      "cell_type": "markdown",
      "metadata": {
        "id": "LikIUYuS_DyQ"
      },
      "source": [
        "# AlexNet\n",
        "\n",
        "This notebook is an implement of [___ImageNet Classification with Deep Convolutinal Neural Networks___](https://papers.nips.cc/paper/2012/file/c399862d3b9d6b76c8436e924a68c45b-Paper.pdf) by Krizhevsky et al. The original model was trained for ImageNet dataset, but in this notebook we fine-tuned it for Cifar 10 dataset, which is a relatively smaller dataset and can be stored in Google Colab, which we use for the training process. "
      ]
    },
    {
      "cell_type": "markdown",
      "metadata": {
        "id": "MfJAV5slGQq_"
      },
      "source": [
        "The first step of training an AlexNet is to install and import all the dependent libraries for building and training the model. For our AlexNet, we use TensorFlow for training, Matplotlib for visualization of training process, and Scikit-Learn for training/test data split."
      ]
    },
    {
      "cell_type": "code",
      "metadata": {
        "id": "aVhDJW4GGVUT",
        "colab": {
          "base_uri": "https://localhost:8080/"
        },
        "outputId": "4ac2b0a5-72dd-44aa-8c93-140d86335583"
      },
      "source": [
        "!pip install tensorflow tensorflow-datasets matplotlib sklearn\n",
        "import tensorflow as tf\n",
        "from tensorflow.keras.layers import *\n",
        "from tensorflow.keras.regularizers import l2\n",
        "import tensorflow_datasets as tfds\n",
        "from sklearn.model_selection import train_test_split\n",
        "import matplotlib.pyplot as plt\n",
        "import numpy as np"
      ],
      "execution_count": 1,
      "outputs": [
        {
          "output_type": "stream",
          "name": "stdout",
          "text": [
            "Requirement already satisfied: tensorflow in /usr/local/lib/python3.7/dist-packages (2.6.0)\n",
            "Requirement already satisfied: tensorflow-datasets in /usr/local/lib/python3.7/dist-packages (4.0.1)\n",
            "Requirement already satisfied: matplotlib in /usr/local/lib/python3.7/dist-packages (3.2.2)\n",
            "Requirement already satisfied: sklearn in /usr/local/lib/python3.7/dist-packages (0.0)\n",
            "Requirement already satisfied: tensorboard~=2.6 in /usr/local/lib/python3.7/dist-packages (from tensorflow) (2.6.0)\n",
            "Requirement already satisfied: gast==0.4.0 in /usr/local/lib/python3.7/dist-packages (from tensorflow) (0.4.0)\n",
            "Requirement already satisfied: google-pasta~=0.2 in /usr/local/lib/python3.7/dist-packages (from tensorflow) (0.2.0)\n",
            "Requirement already satisfied: keras-preprocessing~=1.1.2 in /usr/local/lib/python3.7/dist-packages (from tensorflow) (1.1.2)\n",
            "Requirement already satisfied: opt-einsum~=3.3.0 in /usr/local/lib/python3.7/dist-packages (from tensorflow) (3.3.0)\n",
            "Requirement already satisfied: clang~=5.0 in /usr/local/lib/python3.7/dist-packages (from tensorflow) (5.0)\n",
            "Requirement already satisfied: absl-py~=0.10 in /usr/local/lib/python3.7/dist-packages (from tensorflow) (0.12.0)\n",
            "Requirement already satisfied: astunparse~=1.6.3 in /usr/local/lib/python3.7/dist-packages (from tensorflow) (1.6.3)\n",
            "Requirement already satisfied: six~=1.15.0 in /usr/local/lib/python3.7/dist-packages (from tensorflow) (1.15.0)\n",
            "Requirement already satisfied: h5py~=3.1.0 in /usr/local/lib/python3.7/dist-packages (from tensorflow) (3.1.0)\n",
            "Requirement already satisfied: wheel~=0.35 in /usr/local/lib/python3.7/dist-packages (from tensorflow) (0.37.0)\n",
            "Requirement already satisfied: grpcio<2.0,>=1.37.0 in /usr/local/lib/python3.7/dist-packages (from tensorflow) (1.41.0)\n",
            "Requirement already satisfied: termcolor~=1.1.0 in /usr/local/lib/python3.7/dist-packages (from tensorflow) (1.1.0)\n",
            "Requirement already satisfied: typing-extensions~=3.7.4 in /usr/local/lib/python3.7/dist-packages (from tensorflow) (3.7.4.3)\n",
            "Requirement already satisfied: tensorflow-estimator~=2.6 in /usr/local/lib/python3.7/dist-packages (from tensorflow) (2.6.0)\n",
            "Requirement already satisfied: flatbuffers~=1.12.0 in /usr/local/lib/python3.7/dist-packages (from tensorflow) (1.12)\n",
            "Requirement already satisfied: numpy~=1.19.2 in /usr/local/lib/python3.7/dist-packages (from tensorflow) (1.19.5)\n",
            "Requirement already satisfied: wrapt~=1.12.1 in /usr/local/lib/python3.7/dist-packages (from tensorflow) (1.12.1)\n",
            "Requirement already satisfied: keras~=2.6 in /usr/local/lib/python3.7/dist-packages (from tensorflow) (2.6.0)\n",
            "Requirement already satisfied: protobuf>=3.9.2 in /usr/local/lib/python3.7/dist-packages (from tensorflow) (3.17.3)\n",
            "Requirement already satisfied: cached-property in /usr/local/lib/python3.7/dist-packages (from h5py~=3.1.0->tensorflow) (1.5.2)\n",
            "Requirement already satisfied: tensorboard-plugin-wit>=1.6.0 in /usr/local/lib/python3.7/dist-packages (from tensorboard~=2.6->tensorflow) (1.8.0)\n",
            "Requirement already satisfied: google-auth<2,>=1.6.3 in /usr/local/lib/python3.7/dist-packages (from tensorboard~=2.6->tensorflow) (1.35.0)\n",
            "Requirement already satisfied: tensorboard-data-server<0.7.0,>=0.6.0 in /usr/local/lib/python3.7/dist-packages (from tensorboard~=2.6->tensorflow) (0.6.1)\n",
            "Requirement already satisfied: markdown>=2.6.8 in /usr/local/lib/python3.7/dist-packages (from tensorboard~=2.6->tensorflow) (3.3.4)\n",
            "Requirement already satisfied: google-auth-oauthlib<0.5,>=0.4.1 in /usr/local/lib/python3.7/dist-packages (from tensorboard~=2.6->tensorflow) (0.4.6)\n",
            "Requirement already satisfied: setuptools>=41.0.0 in /usr/local/lib/python3.7/dist-packages (from tensorboard~=2.6->tensorflow) (57.4.0)\n",
            "Requirement already satisfied: requests<3,>=2.21.0 in /usr/local/lib/python3.7/dist-packages (from tensorboard~=2.6->tensorflow) (2.23.0)\n",
            "Requirement already satisfied: werkzeug>=0.11.15 in /usr/local/lib/python3.7/dist-packages (from tensorboard~=2.6->tensorflow) (1.0.1)\n",
            "Requirement already satisfied: pyasn1-modules>=0.2.1 in /usr/local/lib/python3.7/dist-packages (from google-auth<2,>=1.6.3->tensorboard~=2.6->tensorflow) (0.2.8)\n",
            "Requirement already satisfied: rsa<5,>=3.1.4 in /usr/local/lib/python3.7/dist-packages (from google-auth<2,>=1.6.3->tensorboard~=2.6->tensorflow) (4.7.2)\n",
            "Requirement already satisfied: cachetools<5.0,>=2.0.0 in /usr/local/lib/python3.7/dist-packages (from google-auth<2,>=1.6.3->tensorboard~=2.6->tensorflow) (4.2.4)\n",
            "Requirement already satisfied: requests-oauthlib>=0.7.0 in /usr/local/lib/python3.7/dist-packages (from google-auth-oauthlib<0.5,>=0.4.1->tensorboard~=2.6->tensorflow) (1.3.0)\n",
            "Requirement already satisfied: importlib-metadata in /usr/local/lib/python3.7/dist-packages (from markdown>=2.6.8->tensorboard~=2.6->tensorflow) (4.8.1)\n",
            "Requirement already satisfied: pyasn1<0.5.0,>=0.4.6 in /usr/local/lib/python3.7/dist-packages (from pyasn1-modules>=0.2.1->google-auth<2,>=1.6.3->tensorboard~=2.6->tensorflow) (0.4.8)\n",
            "Requirement already satisfied: urllib3!=1.25.0,!=1.25.1,<1.26,>=1.21.1 in /usr/local/lib/python3.7/dist-packages (from requests<3,>=2.21.0->tensorboard~=2.6->tensorflow) (1.24.3)\n",
            "Requirement already satisfied: certifi>=2017.4.17 in /usr/local/lib/python3.7/dist-packages (from requests<3,>=2.21.0->tensorboard~=2.6->tensorflow) (2021.5.30)\n",
            "Requirement already satisfied: idna<3,>=2.5 in /usr/local/lib/python3.7/dist-packages (from requests<3,>=2.21.0->tensorboard~=2.6->tensorflow) (2.10)\n",
            "Requirement already satisfied: chardet<4,>=3.0.2 in /usr/local/lib/python3.7/dist-packages (from requests<3,>=2.21.0->tensorboard~=2.6->tensorflow) (3.0.4)\n",
            "Requirement already satisfied: oauthlib>=3.0.0 in /usr/local/lib/python3.7/dist-packages (from requests-oauthlib>=0.7.0->google-auth-oauthlib<0.5,>=0.4.1->tensorboard~=2.6->tensorflow) (3.1.1)\n",
            "Requirement already satisfied: dm-tree in /usr/local/lib/python3.7/dist-packages (from tensorflow-datasets) (0.1.6)\n",
            "Requirement already satisfied: tensorflow-metadata in /usr/local/lib/python3.7/dist-packages (from tensorflow-datasets) (1.2.0)\n",
            "Requirement already satisfied: tqdm in /usr/local/lib/python3.7/dist-packages (from tensorflow-datasets) (4.62.3)\n",
            "Requirement already satisfied: importlib-resources in /usr/local/lib/python3.7/dist-packages (from tensorflow-datasets) (5.2.2)\n",
            "Requirement already satisfied: attrs>=18.1.0 in /usr/local/lib/python3.7/dist-packages (from tensorflow-datasets) (21.2.0)\n",
            "Requirement already satisfied: dill in /usr/local/lib/python3.7/dist-packages (from tensorflow-datasets) (0.3.4)\n",
            "Requirement already satisfied: future in /usr/local/lib/python3.7/dist-packages (from tensorflow-datasets) (0.16.0)\n",
            "Requirement already satisfied: promise in /usr/local/lib/python3.7/dist-packages (from tensorflow-datasets) (2.3)\n",
            "Requirement already satisfied: python-dateutil>=2.1 in /usr/local/lib/python3.7/dist-packages (from matplotlib) (2.8.2)\n",
            "Requirement already satisfied: cycler>=0.10 in /usr/local/lib/python3.7/dist-packages (from matplotlib) (0.10.0)\n",
            "Requirement already satisfied: pyparsing!=2.0.4,!=2.1.2,!=2.1.6,>=2.0.1 in /usr/local/lib/python3.7/dist-packages (from matplotlib) (2.4.7)\n",
            "Requirement already satisfied: kiwisolver>=1.0.1 in /usr/local/lib/python3.7/dist-packages (from matplotlib) (1.3.2)\n",
            "Requirement already satisfied: scikit-learn in /usr/local/lib/python3.7/dist-packages (from sklearn) (0.22.2.post1)\n",
            "Requirement already satisfied: zipp>=0.5 in /usr/local/lib/python3.7/dist-packages (from importlib-metadata->markdown>=2.6.8->tensorboard~=2.6->tensorflow) (3.6.0)\n",
            "Requirement already satisfied: joblib>=0.11 in /usr/local/lib/python3.7/dist-packages (from scikit-learn->sklearn) (1.0.1)\n",
            "Requirement already satisfied: scipy>=0.17.0 in /usr/local/lib/python3.7/dist-packages (from scikit-learn->sklearn) (1.4.1)\n",
            "Requirement already satisfied: googleapis-common-protos<2,>=1.52.0 in /usr/local/lib/python3.7/dist-packages (from tensorflow-metadata->tensorflow-datasets) (1.53.0)\n"
          ]
        }
      ]
    },
    {
      "cell_type": "code",
      "metadata": {
        "id": "AC0ETknnLiAz",
        "colab": {
          "base_uri": "https://localhost:8080/"
        },
        "outputId": "ea77735c-b21d-4096-f902-23ee182c7361"
      },
      "source": [
        "from google.colab import drive\n",
        "\n",
        "drive.mount(\"/content/drive\") \n",
        "\n",
        "directory = \"/content/drive/My Drive/ComputerVisionModels/alexnet\""
      ],
      "execution_count": 2,
      "outputs": [
        {
          "output_type": "stream",
          "name": "stdout",
          "text": [
            "Mounted at /content/drive\n"
          ]
        }
      ]
    },
    {
      "cell_type": "markdown",
      "metadata": {
        "id": "WK2DZExoAPVk"
      },
      "source": [
        "Here we define function that creates an AlexNet model. The structure of the model is almost same with the original paper, but the kernel size and strides are adjusted to fit the smaller pictures of Cifar 10. We define two variables, weight_decay and dropout_rate, as the hyperparameters of the model for kernel regularization and dropout layer, respectively."
      ]
    },
    {
      "cell_type": "code",
      "metadata": {
        "id": "71DVAiu4KFjz"
      },
      "source": [
        "def createAlexNet(weight_decay, dropout_rate):\n",
        "    model = tf.keras.Sequential([\n",
        "        Conv2D(input_shape = (32, 32, 3), kernel_size = (3, 3), filters = 48, strides = 1, padding = \"same\",\n",
        "            activation = \"relu\", kernel_regularizer = l2(weight_decay)),\n",
        "        BatchNormalization(),\n",
        "        MaxPooling2D(pool_size = (2, 2), padding = \"same\"),\n",
        "        Conv2D(kernel_size = (3, 3), filters = 128, padding = \"same\", activation = \"relu\",\n",
        "            kernel_regularizer = l2(weight_decay)),\n",
        "        BatchNormalization(),\n",
        "        Conv2D(kernel_size = (3, 3), filters = 192, padding = \"same\", activation = \"relu\",\n",
        "            kernel_regularizer = l2(weight_decay)),\n",
        "        Conv2D(kernel_size = (3, 3), filters = 192, padding = \"same\", activation = \"relu\",\n",
        "            kernel_regularizer = l2(weight_decay)),\n",
        "        Conv2D(kernel_size = (3, 3), filters = 128, padding = \"same\", activation = \"relu\",\n",
        "            kernel_regularizer = l2(weight_decay)),\n",
        "        BatchNormalization(),\n",
        "        Flatten(),\n",
        "        Dropout(dropout_rate),\n",
        "        Activation(activation = \"relu\"),\n",
        "        Dropout(dropout_rate),\n",
        "        Activation(activation = \"relu\"),\n",
        "        Dense(10, activation = \"softmax\")\n",
        "    ])\n",
        "\n",
        "    return model"
      ],
      "execution_count": 3,
      "outputs": []
    },
    {
      "cell_type": "markdown",
      "metadata": {
        "id": "NLaTochAFfm8"
      },
      "source": [
        "In this part of the program, we get the Cifar 10 dataset using TensorFlow dataset and separate it into training set and test set."
      ]
    },
    {
      "cell_type": "code",
      "metadata": {
        "colab": {
          "base_uri": "https://localhost:8080/",
          "height": 415,
          "referenced_widgets": [
            "f2246be2f82c485f918e145ac4981b27",
            "0fbb0e4875134188aa254f44c622eeaf",
            "da81307882d145ee9e976b23a66884b4",
            "c6728b1f027745caa7c42f2e7472b41d",
            "527ea14f56904c0ca01339873f22a0aa",
            "ffa55516ec904bfaad3760f6d2c6c6ff",
            "5a0cf4285d5147e592ff61fde5b75719",
            "c6e749d3154e411fa1d7b6d546443750",
            "6337a0e43d6b437da323e6a4d8685e97",
            "b0cb8b9d07a9412f90087fbd5778e0cc",
            "be8f1a2f4424479e9538f6a82c524274",
            "f3091dcb3dc34c0a802530a03f59d70d",
            "e0d63aa58fb14194bc1edc54f5520f69",
            "7b919c73077f4806acc11f9510dc1509",
            "225c6a866bfe4880bbd9c9395b4b9eca",
            "10cc967f660e4ddaac06590eb2487fcb",
            "0bba6ad70a034d28bfbe3ed118fc6c5d",
            "7f993225b8fa49f0b0e6e0a0cf6190ba",
            "6a2d602a6475475bad58297550140b4c",
            "a1de1b1686cc447aac135d7f683f279d",
            "56d5b2da78be49baac1253d30ed8d906",
            "a3e978263d0741bd9e43ed7bdcf79f9c",
            "5086486749704672b72adb6022df7168",
            "edc817658e4f40439566825a54bb90e5",
            "e2424c0b0ab1435bbe643cb5c0af84b6",
            "6f486d665e34419d96dc5b0679583e4a",
            "f935177e863a4166b9d552405545b12a",
            "9792365fa899496da0edeed0e7835577",
            "5bcedc2058c543138f5b9dc133f95caa",
            "6d5d5571b6d54e35adf16f4afe84d557",
            "2c731c25904e42bdb3422d3fa80ac373",
            "3f227146e3a448e7aee2de052394fcf3",
            "38eddbbc97e246a0bb77338c871c545f",
            "0d65c972eee8481ba15d021a7bf63755",
            "a1068e8339794f5f9f9e719c853842a5",
            "8d1b32cc23544f018502a07359b88cdb",
            "fb69bc2f496b43cc98f1dca8d67c54d8",
            "388c1d0257a3485fa5f37e69203443ab",
            "a501588da7f8488db23cf45c9499c559",
            "e2fe976ce5264c6f8a7cfb377df39068",
            "bf21b4ac6f52461dbec682d9d4c4a140",
            "543216ad51e14126bd7e188d93180478",
            "f2bcf721034e4405aad1392a5f1917d7",
            "f9c5057f0e5a46f684edf0bd55708044",
            "b25ef97df4db45ca9fae89427e9ad051",
            "4e3ac616401449f19916ec31330f75e5",
            "a78c9be918074314bb73f41db8cbd861",
            "5680cf9bcb8549f8bc3c605de94c0795",
            "a20736d12beb44efa44db317d8efa1d0",
            "eef583d8dea44cf29fed0cc9d6cd17c6",
            "a4e3b3c9a7004658a3a1b00c114d554e",
            "8cf29e93d30a499594e00080d131c997",
            "0a03c56370b14f96871aa76b00baf1f7",
            "8bf8cfc64d3d4ea2bda64229e8e94dc9",
            "4535b589a2394d059ae04432caa47fdd",
            "e22ea53edbfc4834937d64d7357b788d",
            "d4f3ef5c811d450ba145a7ebed10a0f9",
            "bb570f62989248f4b013dd832dd25c7b",
            "78003f72e018478cb7f0203bb40687b5",
            "76ec451a5248489da580cc24122262dd",
            "8a7d7d540088467d8e000c388e9fd4f7",
            "1fb1171f902b49f688cb35005b6a7bf7",
            "0b28281fd6944061a1405533ed7569e1",
            "6bd915385e024d5683977d63cf6155d7",
            "375e3a0c8bd14e44b00ba8009bb4db3d",
            "78e80708a08040a5a3cd772910702a02",
            "51a1ac5fbc4e4a1ba884459e56bdd062",
            "c7e6af322c34470992c916fbb46f81d5",
            "a0204edc3f2145dbb8003d9a82b6a2c3",
            "cfc55fe271d041d89ff02e2517e113f3",
            "633159d12cc74310ae5bb6254cfef85a",
            "7302130773a047a295de7aabcdedc775",
            "e69e2dc656fe4f438a51ddfeed81849f",
            "646a3058a036468c90f57a1df2f3d387",
            "13caea268170498b852c974fa06c2dda",
            "c61abda5e809411a85aec73085b84d65",
            "8e2dc20e933f496f9e472a12cac135a9"
          ]
        },
        "id": "B_ecmr8NFtIM",
        "outputId": "c8b78263-8fd8-4820-f1bf-5b59be485d3d"
      },
      "source": [
        "# Set random state for reproducibility\n",
        "random_state = 4\n",
        "\n",
        "def get_data():\n",
        "    x, y = tfds.as_numpy(\n",
        "        tfds.load(\"cifar10\", split = \"train\", shuffle_files = True, as_supervised = True, batch_size = -1))\n",
        "\n",
        "    return train_test_split(x, y, test_size = .2, random_state = random_state)\n",
        "\n",
        "train_x, test_x, train_y, test_y = get_data()"
      ],
      "execution_count": 4,
      "outputs": [
        {
          "output_type": "stream",
          "name": "stdout",
          "text": [
            "\u001b[1mDownloading and preparing dataset cifar10/3.0.2 (download: 162.17 MiB, generated: 132.40 MiB, total: 294.58 MiB) to /root/tensorflow_datasets/cifar10/3.0.2...\u001b[0m\n"
          ]
        },
        {
          "output_type": "display_data",
          "data": {
            "application/vnd.jupyter.widget-view+json": {
              "model_id": "f2246be2f82c485f918e145ac4981b27",
              "version_minor": 0,
              "version_major": 2
            },
            "text/plain": [
              "Dl Completed...: 0 url [00:00, ? url/s]"
            ]
          },
          "metadata": {}
        },
        {
          "output_type": "display_data",
          "data": {
            "application/vnd.jupyter.widget-view+json": {
              "model_id": "f3091dcb3dc34c0a802530a03f59d70d",
              "version_minor": 0,
              "version_major": 2
            },
            "text/plain": [
              "Dl Size...: 0 MiB [00:00, ? MiB/s]"
            ]
          },
          "metadata": {}
        },
        {
          "output_type": "display_data",
          "data": {
            "application/vnd.jupyter.widget-view+json": {
              "model_id": "5086486749704672b72adb6022df7168",
              "version_minor": 0,
              "version_major": 2
            },
            "text/plain": [
              "Extraction completed...: 0 file [00:00, ? file/s]"
            ]
          },
          "metadata": {}
        },
        {
          "output_type": "stream",
          "name": "stdout",
          "text": [
            "\n",
            "\n",
            "\n"
          ]
        },
        {
          "output_type": "display_data",
          "data": {
            "application/vnd.jupyter.widget-view+json": {
              "model_id": "0d65c972eee8481ba15d021a7bf63755",
              "version_minor": 0,
              "version_major": 2
            },
            "text/plain": [
              "0 examples [00:00, ? examples/s]"
            ]
          },
          "metadata": {}
        },
        {
          "output_type": "stream",
          "name": "stdout",
          "text": [
            "Shuffling and writing examples to /root/tensorflow_datasets/cifar10/3.0.2.incompleteGHE6JS/cifar10-train.tfrecord\n"
          ]
        },
        {
          "output_type": "display_data",
          "data": {
            "application/vnd.jupyter.widget-view+json": {
              "model_id": "b25ef97df4db45ca9fae89427e9ad051",
              "version_minor": 0,
              "version_major": 2
            },
            "text/plain": [
              "  0%|          | 0/50000 [00:00<?, ? examples/s]"
            ]
          },
          "metadata": {}
        },
        {
          "output_type": "display_data",
          "data": {
            "application/vnd.jupyter.widget-view+json": {
              "model_id": "e22ea53edbfc4834937d64d7357b788d",
              "version_minor": 0,
              "version_major": 2
            },
            "text/plain": [
              "0 examples [00:00, ? examples/s]"
            ]
          },
          "metadata": {}
        },
        {
          "output_type": "stream",
          "name": "stdout",
          "text": [
            "Shuffling and writing examples to /root/tensorflow_datasets/cifar10/3.0.2.incompleteGHE6JS/cifar10-test.tfrecord\n"
          ]
        },
        {
          "output_type": "display_data",
          "data": {
            "application/vnd.jupyter.widget-view+json": {
              "model_id": "51a1ac5fbc4e4a1ba884459e56bdd062",
              "version_minor": 0,
              "version_major": 2
            },
            "text/plain": [
              "  0%|          | 0/10000 [00:00<?, ? examples/s]"
            ]
          },
          "metadata": {}
        },
        {
          "output_type": "stream",
          "name": "stdout",
          "text": [
            "\u001b[1mDataset cifar10 downloaded and prepared to /root/tensorflow_datasets/cifar10/3.0.2. Subsequent calls will reuse this data.\u001b[0m\n",
            "WARNING:tensorflow:From /usr/local/lib/python3.7/dist-packages/tensorflow_datasets/core/dataset_builder.py:598: get_single_element (from tensorflow.python.data.experimental.ops.get_single_element) is deprecated and will be removed in a future version.\n",
            "Instructions for updating:\n",
            "Use `tf.data.Dataset.get_single_element()`.\n"
          ]
        },
        {
          "output_type": "stream",
          "name": "stderr",
          "text": [
            "WARNING:tensorflow:From /usr/local/lib/python3.7/dist-packages/tensorflow_datasets/core/dataset_builder.py:598: get_single_element (from tensorflow.python.data.experimental.ops.get_single_element) is deprecated and will be removed in a future version.\n",
            "Instructions for updating:\n",
            "Use `tf.data.Dataset.get_single_element()`.\n"
          ]
        }
      ]
    },
    {
      "cell_type": "markdown",
      "metadata": {
        "id": "L7dpVq72RSei"
      },
      "source": [
        "This part trains AlexNet model we get on Cifar 10 dataset. We store the best weights of each training epochs on drive so that we can continue training even if the session disconnects. We also store searching results and training weights in case the process takes too much time or the session crashes accidentally. We show the result of the training process with a graph about the training and validation accuracy for each epoch. We found out that our best hyperparameters are weight decay of 0.1, dropout rate of 0.5, and learning rate of 1e-5. Although this group of hyperparameters are likely to overfit, it overperforms the group with higher weight decay and dropout rate, so we decided to use this group of hyperparameters."
      ]
    },
    {
      "cell_type": "code",
      "metadata": {
        "id": "vqvIUF1EYrbb",
        "colab": {
          "base_uri": "https://localhost:8080/",
          "height": 1000
        },
        "outputId": "ecfcde10-da2c-4ff0-c640-d33b419d15c7"
      },
      "source": [
        "# Set a checkpoint to save weights\n",
        "cp = tf.keras.callbacks.ModelCheckpoint(directory + \"/weights\", monitor = \"loss\", verbose = 1, save_best_only = True, mode = \"auto\")\n",
        "\n",
        "model = createAlexNet(.1, .2)\n",
        "model.compile(optimizer = tf.keras.optimizers.Adam(learning_rate = 1e-5), loss = tf.keras.losses.SparseCategoricalCrossentropy(), metrics = [\"accuracy\"])\n",
        "\n",
        "# We can use the existing data if the training process has started\n",
        "# model.load_weights(directory + \"/weights\")\n",
        "\n",
        "history = model.fit(train_x, train_y, epochs = 100, validation_split = .2, batch_size = 64, callbacks = [cp])\n",
        "\n",
        "plt.plot(history.history['accuracy'])\n",
        "plt.plot(history.history['val_accuracy'])\n",
        "plt.ylabel('accuracy')\n",
        "plt.xlabel('epoch')\n",
        "plt.legend(['train', 'test'], loc = 'upper left')\n",
        "plt.show()"
      ],
      "execution_count": 5,
      "outputs": [
        {
          "output_type": "stream",
          "name": "stdout",
          "text": [
            "Epoch 1/100\n",
            "500/500 [==============================] - 22s 11ms/step - loss: 57.1464 - accuracy: 0.2614 - val_loss: 53.9953 - val_accuracy: 0.3881\n",
            "\n",
            "Epoch 00001: loss improved from inf to 57.14644, saving model to /content/drive/My Drive/ComputerVisionModels/alexnet/weights\n",
            "INFO:tensorflow:Assets written to: /content/drive/My Drive/ComputerVisionModels/alexnet/weights/assets\n"
          ]
        },
        {
          "output_type": "stream",
          "name": "stderr",
          "text": [
            "INFO:tensorflow:Assets written to: /content/drive/My Drive/ComputerVisionModels/alexnet/weights/assets\n"
          ]
        },
        {
          "output_type": "stream",
          "name": "stdout",
          "text": [
            "Epoch 2/100\n",
            "500/500 [==============================] - 5s 11ms/step - loss: 51.4614 - accuracy: 0.3789 - val_loss: 48.6760 - val_accuracy: 0.4457\n",
            "\n",
            "Epoch 00002: loss improved from 57.14644 to 51.46137, saving model to /content/drive/My Drive/ComputerVisionModels/alexnet/weights\n",
            "INFO:tensorflow:Assets written to: /content/drive/My Drive/ComputerVisionModels/alexnet/weights/assets\n"
          ]
        },
        {
          "output_type": "stream",
          "name": "stderr",
          "text": [
            "INFO:tensorflow:Assets written to: /content/drive/My Drive/ComputerVisionModels/alexnet/weights/assets\n"
          ]
        },
        {
          "output_type": "stream",
          "name": "stdout",
          "text": [
            "Epoch 3/100\n",
            "500/500 [==============================] - 6s 11ms/step - loss: 46.2423 - accuracy: 0.4403 - val_loss: 43.7189 - val_accuracy: 0.4786\n",
            "\n",
            "Epoch 00003: loss improved from 51.46137 to 46.24232, saving model to /content/drive/My Drive/ComputerVisionModels/alexnet/weights\n",
            "INFO:tensorflow:Assets written to: /content/drive/My Drive/ComputerVisionModels/alexnet/weights/assets\n"
          ]
        },
        {
          "output_type": "stream",
          "name": "stderr",
          "text": [
            "INFO:tensorflow:Assets written to: /content/drive/My Drive/ComputerVisionModels/alexnet/weights/assets\n"
          ]
        },
        {
          "output_type": "stream",
          "name": "stdout",
          "text": [
            "Epoch 4/100\n",
            "500/500 [==============================] - 5s 11ms/step - loss: 41.4483 - accuracy: 0.4822 - val_loss: 39.2036 - val_accuracy: 0.5100\n",
            "\n",
            "Epoch 00004: loss improved from 46.24232 to 41.44831, saving model to /content/drive/My Drive/ComputerVisionModels/alexnet/weights\n",
            "INFO:tensorflow:Assets written to: /content/drive/My Drive/ComputerVisionModels/alexnet/weights/assets\n"
          ]
        },
        {
          "output_type": "stream",
          "name": "stderr",
          "text": [
            "INFO:tensorflow:Assets written to: /content/drive/My Drive/ComputerVisionModels/alexnet/weights/assets\n"
          ]
        },
        {
          "output_type": "stream",
          "name": "stdout",
          "text": [
            "Epoch 5/100\n",
            "500/500 [==============================] - 6s 11ms/step - loss: 37.1135 - accuracy: 0.5206 - val_loss: 35.1398 - val_accuracy: 0.5344\n",
            "\n",
            "Epoch 00005: loss improved from 41.44831 to 37.11348, saving model to /content/drive/My Drive/ComputerVisionModels/alexnet/weights\n",
            "INFO:tensorflow:Assets written to: /content/drive/My Drive/ComputerVisionModels/alexnet/weights/assets\n"
          ]
        },
        {
          "output_type": "stream",
          "name": "stderr",
          "text": [
            "INFO:tensorflow:Assets written to: /content/drive/My Drive/ComputerVisionModels/alexnet/weights/assets\n"
          ]
        },
        {
          "output_type": "stream",
          "name": "stdout",
          "text": [
            "Epoch 6/100\n",
            "500/500 [==============================] - 5s 11ms/step - loss: 33.2407 - accuracy: 0.5552 - val_loss: 31.5395 - val_accuracy: 0.5519\n",
            "\n",
            "Epoch 00006: loss improved from 37.11348 to 33.24069, saving model to /content/drive/My Drive/ComputerVisionModels/alexnet/weights\n",
            "INFO:tensorflow:Assets written to: /content/drive/My Drive/ComputerVisionModels/alexnet/weights/assets\n"
          ]
        },
        {
          "output_type": "stream",
          "name": "stderr",
          "text": [
            "INFO:tensorflow:Assets written to: /content/drive/My Drive/ComputerVisionModels/alexnet/weights/assets\n"
          ]
        },
        {
          "output_type": "stream",
          "name": "stdout",
          "text": [
            "Epoch 7/100\n",
            "500/500 [==============================] - 6s 11ms/step - loss: 29.8129 - accuracy: 0.5875 - val_loss: 28.3559 - val_accuracy: 0.5720\n",
            "\n",
            "Epoch 00007: loss improved from 33.24069 to 29.81287, saving model to /content/drive/My Drive/ComputerVisionModels/alexnet/weights\n",
            "INFO:tensorflow:Assets written to: /content/drive/My Drive/ComputerVisionModels/alexnet/weights/assets\n"
          ]
        },
        {
          "output_type": "stream",
          "name": "stderr",
          "text": [
            "INFO:tensorflow:Assets written to: /content/drive/My Drive/ComputerVisionModels/alexnet/weights/assets\n"
          ]
        },
        {
          "output_type": "stream",
          "name": "stdout",
          "text": [
            "Epoch 8/100\n",
            "500/500 [==============================] - 5s 11ms/step - loss: 26.7896 - accuracy: 0.6140 - val_loss: 25.5438 - val_accuracy: 0.5895\n",
            "\n",
            "Epoch 00008: loss improved from 29.81287 to 26.78961, saving model to /content/drive/My Drive/ComputerVisionModels/alexnet/weights\n",
            "INFO:tensorflow:Assets written to: /content/drive/My Drive/ComputerVisionModels/alexnet/weights/assets\n"
          ]
        },
        {
          "output_type": "stream",
          "name": "stderr",
          "text": [
            "INFO:tensorflow:Assets written to: /content/drive/My Drive/ComputerVisionModels/alexnet/weights/assets\n"
          ]
        },
        {
          "output_type": "stream",
          "name": "stdout",
          "text": [
            "Epoch 9/100\n",
            "500/500 [==============================] - 5s 11ms/step - loss: 24.1098 - accuracy: 0.6421 - val_loss: 23.0697 - val_accuracy: 0.5955\n",
            "\n",
            "Epoch 00009: loss improved from 26.78961 to 24.10977, saving model to /content/drive/My Drive/ComputerVisionModels/alexnet/weights\n",
            "INFO:tensorflow:Assets written to: /content/drive/My Drive/ComputerVisionModels/alexnet/weights/assets\n"
          ]
        },
        {
          "output_type": "stream",
          "name": "stderr",
          "text": [
            "INFO:tensorflow:Assets written to: /content/drive/My Drive/ComputerVisionModels/alexnet/weights/assets\n"
          ]
        },
        {
          "output_type": "stream",
          "name": "stdout",
          "text": [
            "Epoch 10/100\n",
            "500/500 [==============================] - 5s 11ms/step - loss: 21.7659 - accuracy: 0.6630 - val_loss: 20.8920 - val_accuracy: 0.6040\n",
            "\n",
            "Epoch 00010: loss improved from 24.10977 to 21.76592, saving model to /content/drive/My Drive/ComputerVisionModels/alexnet/weights\n",
            "INFO:tensorflow:Assets written to: /content/drive/My Drive/ComputerVisionModels/alexnet/weights/assets\n"
          ]
        },
        {
          "output_type": "stream",
          "name": "stderr",
          "text": [
            "INFO:tensorflow:Assets written to: /content/drive/My Drive/ComputerVisionModels/alexnet/weights/assets\n"
          ]
        },
        {
          "output_type": "stream",
          "name": "stdout",
          "text": [
            "Epoch 11/100\n",
            "500/500 [==============================] - 5s 11ms/step - loss: 19.6845 - accuracy: 0.6810 - val_loss: 18.9445 - val_accuracy: 0.6191\n",
            "\n",
            "Epoch 00011: loss improved from 21.76592 to 19.68454, saving model to /content/drive/My Drive/ComputerVisionModels/alexnet/weights\n",
            "INFO:tensorflow:Assets written to: /content/drive/My Drive/ComputerVisionModels/alexnet/weights/assets\n"
          ]
        },
        {
          "output_type": "stream",
          "name": "stderr",
          "text": [
            "INFO:tensorflow:Assets written to: /content/drive/My Drive/ComputerVisionModels/alexnet/weights/assets\n"
          ]
        },
        {
          "output_type": "stream",
          "name": "stdout",
          "text": [
            "Epoch 12/100\n",
            "500/500 [==============================] - 5s 11ms/step - loss: 17.8303 - accuracy: 0.7022 - val_loss: 17.2127 - val_accuracy: 0.6277\n",
            "\n",
            "Epoch 00012: loss improved from 19.68454 to 17.83030, saving model to /content/drive/My Drive/ComputerVisionModels/alexnet/weights\n",
            "INFO:tensorflow:Assets written to: /content/drive/My Drive/ComputerVisionModels/alexnet/weights/assets\n"
          ]
        },
        {
          "output_type": "stream",
          "name": "stderr",
          "text": [
            "INFO:tensorflow:Assets written to: /content/drive/My Drive/ComputerVisionModels/alexnet/weights/assets\n"
          ]
        },
        {
          "output_type": "stream",
          "name": "stdout",
          "text": [
            "Epoch 13/100\n",
            "500/500 [==============================] - 5s 11ms/step - loss: 16.1738 - accuracy: 0.7202 - val_loss: 15.6506 - val_accuracy: 0.6367\n",
            "\n",
            "Epoch 00013: loss improved from 17.83030 to 16.17384, saving model to /content/drive/My Drive/ComputerVisionModels/alexnet/weights\n",
            "INFO:tensorflow:Assets written to: /content/drive/My Drive/ComputerVisionModels/alexnet/weights/assets\n"
          ]
        },
        {
          "output_type": "stream",
          "name": "stderr",
          "text": [
            "INFO:tensorflow:Assets written to: /content/drive/My Drive/ComputerVisionModels/alexnet/weights/assets\n"
          ]
        },
        {
          "output_type": "stream",
          "name": "stdout",
          "text": [
            "Epoch 14/100\n",
            "500/500 [==============================] - 5s 11ms/step - loss: 14.6861 - accuracy: 0.7333 - val_loss: 14.2466 - val_accuracy: 0.6407\n",
            "\n",
            "Epoch 00014: loss improved from 16.17384 to 14.68606, saving model to /content/drive/My Drive/ComputerVisionModels/alexnet/weights\n",
            "INFO:tensorflow:Assets written to: /content/drive/My Drive/ComputerVisionModels/alexnet/weights/assets\n"
          ]
        },
        {
          "output_type": "stream",
          "name": "stderr",
          "text": [
            "INFO:tensorflow:Assets written to: /content/drive/My Drive/ComputerVisionModels/alexnet/weights/assets\n"
          ]
        },
        {
          "output_type": "stream",
          "name": "stdout",
          "text": [
            "Epoch 15/100\n",
            "500/500 [==============================] - 5s 11ms/step - loss: 13.3436 - accuracy: 0.7431 - val_loss: 12.9691 - val_accuracy: 0.6510\n",
            "\n",
            "Epoch 00015: loss improved from 14.68606 to 13.34359, saving model to /content/drive/My Drive/ComputerVisionModels/alexnet/weights\n",
            "INFO:tensorflow:Assets written to: /content/drive/My Drive/ComputerVisionModels/alexnet/weights/assets\n"
          ]
        },
        {
          "output_type": "stream",
          "name": "stderr",
          "text": [
            "INFO:tensorflow:Assets written to: /content/drive/My Drive/ComputerVisionModels/alexnet/weights/assets\n"
          ]
        },
        {
          "output_type": "stream",
          "name": "stdout",
          "text": [
            "Epoch 16/100\n",
            "500/500 [==============================] - 6s 11ms/step - loss: 12.1276 - accuracy: 0.7518 - val_loss: 11.8243 - val_accuracy: 0.6511\n",
            "\n",
            "Epoch 00016: loss improved from 13.34359 to 12.12762, saving model to /content/drive/My Drive/ComputerVisionModels/alexnet/weights\n",
            "INFO:tensorflow:Assets written to: /content/drive/My Drive/ComputerVisionModels/alexnet/weights/assets\n"
          ]
        },
        {
          "output_type": "stream",
          "name": "stderr",
          "text": [
            "INFO:tensorflow:Assets written to: /content/drive/My Drive/ComputerVisionModels/alexnet/weights/assets\n"
          ]
        },
        {
          "output_type": "stream",
          "name": "stdout",
          "text": [
            "Epoch 17/100\n",
            "500/500 [==============================] - 5s 11ms/step - loss: 11.0353 - accuracy: 0.7588 - val_loss: 10.7764 - val_accuracy: 0.6580\n",
            "\n",
            "Epoch 00017: loss improved from 12.12762 to 11.03526, saving model to /content/drive/My Drive/ComputerVisionModels/alexnet/weights\n",
            "INFO:tensorflow:Assets written to: /content/drive/My Drive/ComputerVisionModels/alexnet/weights/assets\n"
          ]
        },
        {
          "output_type": "stream",
          "name": "stderr",
          "text": [
            "INFO:tensorflow:Assets written to: /content/drive/My Drive/ComputerVisionModels/alexnet/weights/assets\n"
          ]
        },
        {
          "output_type": "stream",
          "name": "stdout",
          "text": [
            "Epoch 18/100\n",
            "500/500 [==============================] - 5s 11ms/step - loss: 10.0477 - accuracy: 0.7653 - val_loss: 9.8636 - val_accuracy: 0.6538\n",
            "\n",
            "Epoch 00018: loss improved from 11.03526 to 10.04772, saving model to /content/drive/My Drive/ComputerVisionModels/alexnet/weights\n",
            "INFO:tensorflow:Assets written to: /content/drive/My Drive/ComputerVisionModels/alexnet/weights/assets\n"
          ]
        },
        {
          "output_type": "stream",
          "name": "stderr",
          "text": [
            "INFO:tensorflow:Assets written to: /content/drive/My Drive/ComputerVisionModels/alexnet/weights/assets\n"
          ]
        },
        {
          "output_type": "stream",
          "name": "stdout",
          "text": [
            "Epoch 19/100\n",
            "500/500 [==============================] - 6s 11ms/step - loss: 9.1598 - accuracy: 0.7682 - val_loss: 8.9859 - val_accuracy: 0.6672\n",
            "\n",
            "Epoch 00019: loss improved from 10.04772 to 9.15975, saving model to /content/drive/My Drive/ComputerVisionModels/alexnet/weights\n",
            "INFO:tensorflow:Assets written to: /content/drive/My Drive/ComputerVisionModels/alexnet/weights/assets\n"
          ]
        },
        {
          "output_type": "stream",
          "name": "stderr",
          "text": [
            "INFO:tensorflow:Assets written to: /content/drive/My Drive/ComputerVisionModels/alexnet/weights/assets\n"
          ]
        },
        {
          "output_type": "stream",
          "name": "stdout",
          "text": [
            "Epoch 20/100\n",
            "500/500 [==============================] - 6s 11ms/step - loss: 8.3627 - accuracy: 0.7696 - val_loss: 8.2442 - val_accuracy: 0.6731\n",
            "\n",
            "Epoch 00020: loss improved from 9.15975 to 8.36267, saving model to /content/drive/My Drive/ComputerVisionModels/alexnet/weights\n",
            "INFO:tensorflow:Assets written to: /content/drive/My Drive/ComputerVisionModels/alexnet/weights/assets\n"
          ]
        },
        {
          "output_type": "stream",
          "name": "stderr",
          "text": [
            "INFO:tensorflow:Assets written to: /content/drive/My Drive/ComputerVisionModels/alexnet/weights/assets\n"
          ]
        },
        {
          "output_type": "stream",
          "name": "stdout",
          "text": [
            "Epoch 21/100\n",
            "500/500 [==============================] - 5s 11ms/step - loss: 7.6435 - accuracy: 0.7739 - val_loss: 7.5400 - val_accuracy: 0.6829\n",
            "\n",
            "Epoch 00021: loss improved from 8.36267 to 7.64349, saving model to /content/drive/My Drive/ComputerVisionModels/alexnet/weights\n",
            "INFO:tensorflow:Assets written to: /content/drive/My Drive/ComputerVisionModels/alexnet/weights/assets\n"
          ]
        },
        {
          "output_type": "stream",
          "name": "stderr",
          "text": [
            "INFO:tensorflow:Assets written to: /content/drive/My Drive/ComputerVisionModels/alexnet/weights/assets\n"
          ]
        },
        {
          "output_type": "stream",
          "name": "stdout",
          "text": [
            "Epoch 22/100\n",
            "500/500 [==============================] - 6s 11ms/step - loss: 7.0045 - accuracy: 0.7745 - val_loss: 6.9238 - val_accuracy: 0.6861\n",
            "\n",
            "Epoch 00022: loss improved from 7.64349 to 7.00448, saving model to /content/drive/My Drive/ComputerVisionModels/alexnet/weights\n",
            "INFO:tensorflow:Assets written to: /content/drive/My Drive/ComputerVisionModels/alexnet/weights/assets\n"
          ]
        },
        {
          "output_type": "stream",
          "name": "stderr",
          "text": [
            "INFO:tensorflow:Assets written to: /content/drive/My Drive/ComputerVisionModels/alexnet/weights/assets\n"
          ]
        },
        {
          "output_type": "stream",
          "name": "stdout",
          "text": [
            "Epoch 23/100\n",
            "500/500 [==============================] - 5s 11ms/step - loss: 6.4316 - accuracy: 0.7751 - val_loss: 6.3821 - val_accuracy: 0.6927\n",
            "\n",
            "Epoch 00023: loss improved from 7.00448 to 6.43155, saving model to /content/drive/My Drive/ComputerVisionModels/alexnet/weights\n",
            "INFO:tensorflow:Assets written to: /content/drive/My Drive/ComputerVisionModels/alexnet/weights/assets\n"
          ]
        },
        {
          "output_type": "stream",
          "name": "stderr",
          "text": [
            "INFO:tensorflow:Assets written to: /content/drive/My Drive/ComputerVisionModels/alexnet/weights/assets\n"
          ]
        },
        {
          "output_type": "stream",
          "name": "stdout",
          "text": [
            "Epoch 24/100\n",
            "500/500 [==============================] - 6s 11ms/step - loss: 5.9153 - accuracy: 0.7778 - val_loss: 5.8835 - val_accuracy: 0.6952\n",
            "\n",
            "Epoch 00024: loss improved from 6.43155 to 5.91530, saving model to /content/drive/My Drive/ComputerVisionModels/alexnet/weights\n",
            "INFO:tensorflow:Assets written to: /content/drive/My Drive/ComputerVisionModels/alexnet/weights/assets\n"
          ]
        },
        {
          "output_type": "stream",
          "name": "stderr",
          "text": [
            "INFO:tensorflow:Assets written to: /content/drive/My Drive/ComputerVisionModels/alexnet/weights/assets\n"
          ]
        },
        {
          "output_type": "stream",
          "name": "stdout",
          "text": [
            "Epoch 25/100\n",
            "500/500 [==============================] - 5s 11ms/step - loss: 5.4568 - accuracy: 0.7772 - val_loss: 5.4434 - val_accuracy: 0.7005\n",
            "\n",
            "Epoch 00025: loss improved from 5.91530 to 5.45683, saving model to /content/drive/My Drive/ComputerVisionModels/alexnet/weights\n",
            "INFO:tensorflow:Assets written to: /content/drive/My Drive/ComputerVisionModels/alexnet/weights/assets\n"
          ]
        },
        {
          "output_type": "stream",
          "name": "stderr",
          "text": [
            "INFO:tensorflow:Assets written to: /content/drive/My Drive/ComputerVisionModels/alexnet/weights/assets\n"
          ]
        },
        {
          "output_type": "stream",
          "name": "stdout",
          "text": [
            "Epoch 26/100\n",
            "500/500 [==============================] - 5s 11ms/step - loss: 5.0454 - accuracy: 0.7780 - val_loss: 5.0698 - val_accuracy: 0.7004\n",
            "\n",
            "Epoch 00026: loss improved from 5.45683 to 5.04543, saving model to /content/drive/My Drive/ComputerVisionModels/alexnet/weights\n",
            "INFO:tensorflow:Assets written to: /content/drive/My Drive/ComputerVisionModels/alexnet/weights/assets\n"
          ]
        },
        {
          "output_type": "stream",
          "name": "stderr",
          "text": [
            "INFO:tensorflow:Assets written to: /content/drive/My Drive/ComputerVisionModels/alexnet/weights/assets\n"
          ]
        },
        {
          "output_type": "stream",
          "name": "stdout",
          "text": [
            "Epoch 27/100\n",
            "500/500 [==============================] - 6s 11ms/step - loss: 4.6837 - accuracy: 0.7783 - val_loss: 4.6993 - val_accuracy: 0.7088\n",
            "\n",
            "Epoch 00027: loss improved from 5.04543 to 4.68367, saving model to /content/drive/My Drive/ComputerVisionModels/alexnet/weights\n",
            "INFO:tensorflow:Assets written to: /content/drive/My Drive/ComputerVisionModels/alexnet/weights/assets\n"
          ]
        },
        {
          "output_type": "stream",
          "name": "stderr",
          "text": [
            "INFO:tensorflow:Assets written to: /content/drive/My Drive/ComputerVisionModels/alexnet/weights/assets\n"
          ]
        },
        {
          "output_type": "stream",
          "name": "stdout",
          "text": [
            "Epoch 28/100\n",
            "500/500 [==============================] - 5s 11ms/step - loss: 4.3582 - accuracy: 0.7799 - val_loss: 4.3957 - val_accuracy: 0.7105\n",
            "\n",
            "Epoch 00028: loss improved from 4.68367 to 4.35823, saving model to /content/drive/My Drive/ComputerVisionModels/alexnet/weights\n",
            "INFO:tensorflow:Assets written to: /content/drive/My Drive/ComputerVisionModels/alexnet/weights/assets\n"
          ]
        },
        {
          "output_type": "stream",
          "name": "stderr",
          "text": [
            "INFO:tensorflow:Assets written to: /content/drive/My Drive/ComputerVisionModels/alexnet/weights/assets\n"
          ]
        },
        {
          "output_type": "stream",
          "name": "stdout",
          "text": [
            "Epoch 29/100\n",
            "500/500 [==============================] - 5s 11ms/step - loss: 4.0683 - accuracy: 0.7824 - val_loss: 4.0990 - val_accuracy: 0.7181\n",
            "\n",
            "Epoch 00029: loss improved from 4.35823 to 4.06831, saving model to /content/drive/My Drive/ComputerVisionModels/alexnet/weights\n",
            "INFO:tensorflow:Assets written to: /content/drive/My Drive/ComputerVisionModels/alexnet/weights/assets\n"
          ]
        },
        {
          "output_type": "stream",
          "name": "stderr",
          "text": [
            "INFO:tensorflow:Assets written to: /content/drive/My Drive/ComputerVisionModels/alexnet/weights/assets\n"
          ]
        },
        {
          "output_type": "stream",
          "name": "stdout",
          "text": [
            "Epoch 30/100\n",
            "500/500 [==============================] - 5s 11ms/step - loss: 3.8029 - accuracy: 0.7858 - val_loss: 3.8660 - val_accuracy: 0.7139\n",
            "\n",
            "Epoch 00030: loss improved from 4.06831 to 3.80287, saving model to /content/drive/My Drive/ComputerVisionModels/alexnet/weights\n",
            "INFO:tensorflow:Assets written to: /content/drive/My Drive/ComputerVisionModels/alexnet/weights/assets\n"
          ]
        },
        {
          "output_type": "stream",
          "name": "stderr",
          "text": [
            "INFO:tensorflow:Assets written to: /content/drive/My Drive/ComputerVisionModels/alexnet/weights/assets\n"
          ]
        },
        {
          "output_type": "stream",
          "name": "stdout",
          "text": [
            "Epoch 31/100\n",
            "500/500 [==============================] - 6s 11ms/step - loss: 3.5725 - accuracy: 0.7871 - val_loss: 3.6275 - val_accuracy: 0.7297\n",
            "\n",
            "Epoch 00031: loss improved from 3.80287 to 3.57247, saving model to /content/drive/My Drive/ComputerVisionModels/alexnet/weights\n",
            "INFO:tensorflow:Assets written to: /content/drive/My Drive/ComputerVisionModels/alexnet/weights/assets\n"
          ]
        },
        {
          "output_type": "stream",
          "name": "stderr",
          "text": [
            "INFO:tensorflow:Assets written to: /content/drive/My Drive/ComputerVisionModels/alexnet/weights/assets\n"
          ]
        },
        {
          "output_type": "stream",
          "name": "stdout",
          "text": [
            "Epoch 32/100\n",
            "500/500 [==============================] - 5s 11ms/step - loss: 3.3621 - accuracy: 0.7882 - val_loss: 3.4270 - val_accuracy: 0.7297\n",
            "\n",
            "Epoch 00032: loss improved from 3.57247 to 3.36211, saving model to /content/drive/My Drive/ComputerVisionModels/alexnet/weights\n",
            "INFO:tensorflow:Assets written to: /content/drive/My Drive/ComputerVisionModels/alexnet/weights/assets\n"
          ]
        },
        {
          "output_type": "stream",
          "name": "stderr",
          "text": [
            "INFO:tensorflow:Assets written to: /content/drive/My Drive/ComputerVisionModels/alexnet/weights/assets\n"
          ]
        },
        {
          "output_type": "stream",
          "name": "stdout",
          "text": [
            "Epoch 33/100\n",
            "500/500 [==============================] - 5s 11ms/step - loss: 3.1754 - accuracy: 0.7878 - val_loss: 3.2743 - val_accuracy: 0.7190\n",
            "\n",
            "Epoch 00033: loss improved from 3.36211 to 3.17538, saving model to /content/drive/My Drive/ComputerVisionModels/alexnet/weights\n",
            "INFO:tensorflow:Assets written to: /content/drive/My Drive/ComputerVisionModels/alexnet/weights/assets\n"
          ]
        },
        {
          "output_type": "stream",
          "name": "stderr",
          "text": [
            "INFO:tensorflow:Assets written to: /content/drive/My Drive/ComputerVisionModels/alexnet/weights/assets\n"
          ]
        },
        {
          "output_type": "stream",
          "name": "stdout",
          "text": [
            "Epoch 34/100\n",
            "500/500 [==============================] - 5s 11ms/step - loss: 3.0122 - accuracy: 0.7897 - val_loss: 3.1426 - val_accuracy: 0.7157\n",
            "\n",
            "Epoch 00034: loss improved from 3.17538 to 3.01218, saving model to /content/drive/My Drive/ComputerVisionModels/alexnet/weights\n",
            "INFO:tensorflow:Assets written to: /content/drive/My Drive/ComputerVisionModels/alexnet/weights/assets\n"
          ]
        },
        {
          "output_type": "stream",
          "name": "stderr",
          "text": [
            "INFO:tensorflow:Assets written to: /content/drive/My Drive/ComputerVisionModels/alexnet/weights/assets\n"
          ]
        },
        {
          "output_type": "stream",
          "name": "stdout",
          "text": [
            "Epoch 35/100\n",
            "500/500 [==============================] - 6s 11ms/step - loss: 2.8558 - accuracy: 0.7931 - val_loss: 2.9684 - val_accuracy: 0.7272\n",
            "\n",
            "Epoch 00035: loss improved from 3.01218 to 2.85582, saving model to /content/drive/My Drive/ComputerVisionModels/alexnet/weights\n",
            "INFO:tensorflow:Assets written to: /content/drive/My Drive/ComputerVisionModels/alexnet/weights/assets\n"
          ]
        },
        {
          "output_type": "stream",
          "name": "stderr",
          "text": [
            "INFO:tensorflow:Assets written to: /content/drive/My Drive/ComputerVisionModels/alexnet/weights/assets\n"
          ]
        },
        {
          "output_type": "stream",
          "name": "stdout",
          "text": [
            "Epoch 36/100\n",
            "500/500 [==============================] - 5s 11ms/step - loss: 2.7195 - accuracy: 0.7940 - val_loss: 2.8210 - val_accuracy: 0.7347\n",
            "\n",
            "Epoch 00036: loss improved from 2.85582 to 2.71945, saving model to /content/drive/My Drive/ComputerVisionModels/alexnet/weights\n",
            "INFO:tensorflow:Assets written to: /content/drive/My Drive/ComputerVisionModels/alexnet/weights/assets\n"
          ]
        },
        {
          "output_type": "stream",
          "name": "stderr",
          "text": [
            "INFO:tensorflow:Assets written to: /content/drive/My Drive/ComputerVisionModels/alexnet/weights/assets\n"
          ]
        },
        {
          "output_type": "stream",
          "name": "stdout",
          "text": [
            "Epoch 37/100\n",
            "500/500 [==============================] - 5s 11ms/step - loss: 2.5940 - accuracy: 0.7973 - val_loss: 2.6996 - val_accuracy: 0.7405\n",
            "\n",
            "Epoch 00037: loss improved from 2.71945 to 2.59401, saving model to /content/drive/My Drive/ComputerVisionModels/alexnet/weights\n",
            "INFO:tensorflow:Assets written to: /content/drive/My Drive/ComputerVisionModels/alexnet/weights/assets\n"
          ]
        },
        {
          "output_type": "stream",
          "name": "stderr",
          "text": [
            "INFO:tensorflow:Assets written to: /content/drive/My Drive/ComputerVisionModels/alexnet/weights/assets\n"
          ]
        },
        {
          "output_type": "stream",
          "name": "stdout",
          "text": [
            "Epoch 38/100\n",
            "500/500 [==============================] - 6s 11ms/step - loss: 2.4811 - accuracy: 0.7991 - val_loss: 2.6343 - val_accuracy: 0.7251\n",
            "\n",
            "Epoch 00038: loss improved from 2.59401 to 2.48113, saving model to /content/drive/My Drive/ComputerVisionModels/alexnet/weights\n",
            "INFO:tensorflow:Assets written to: /content/drive/My Drive/ComputerVisionModels/alexnet/weights/assets\n"
          ]
        },
        {
          "output_type": "stream",
          "name": "stderr",
          "text": [
            "INFO:tensorflow:Assets written to: /content/drive/My Drive/ComputerVisionModels/alexnet/weights/assets\n"
          ]
        },
        {
          "output_type": "stream",
          "name": "stdout",
          "text": [
            "Epoch 39/100\n",
            "500/500 [==============================] - 6s 11ms/step - loss: 2.3808 - accuracy: 0.8005 - val_loss: 2.5162 - val_accuracy: 0.7339\n",
            "\n",
            "Epoch 00039: loss improved from 2.48113 to 2.38079, saving model to /content/drive/My Drive/ComputerVisionModels/alexnet/weights\n",
            "INFO:tensorflow:Assets written to: /content/drive/My Drive/ComputerVisionModels/alexnet/weights/assets\n"
          ]
        },
        {
          "output_type": "stream",
          "name": "stderr",
          "text": [
            "INFO:tensorflow:Assets written to: /content/drive/My Drive/ComputerVisionModels/alexnet/weights/assets\n"
          ]
        },
        {
          "output_type": "stream",
          "name": "stdout",
          "text": [
            "Epoch 40/100\n",
            "500/500 [==============================] - 6s 11ms/step - loss: 2.2840 - accuracy: 0.8053 - val_loss: 2.3993 - val_accuracy: 0.7494\n",
            "\n",
            "Epoch 00040: loss improved from 2.38079 to 2.28400, saving model to /content/drive/My Drive/ComputerVisionModels/alexnet/weights\n",
            "INFO:tensorflow:Assets written to: /content/drive/My Drive/ComputerVisionModels/alexnet/weights/assets\n"
          ]
        },
        {
          "output_type": "stream",
          "name": "stderr",
          "text": [
            "INFO:tensorflow:Assets written to: /content/drive/My Drive/ComputerVisionModels/alexnet/weights/assets\n"
          ]
        },
        {
          "output_type": "stream",
          "name": "stdout",
          "text": [
            "Epoch 41/100\n",
            "500/500 [==============================] - 5s 11ms/step - loss: 2.1963 - accuracy: 0.8087 - val_loss: 2.3330 - val_accuracy: 0.7466\n",
            "\n",
            "Epoch 00041: loss improved from 2.28400 to 2.19630, saving model to /content/drive/My Drive/ComputerVisionModels/alexnet/weights\n",
            "INFO:tensorflow:Assets written to: /content/drive/My Drive/ComputerVisionModels/alexnet/weights/assets\n"
          ]
        },
        {
          "output_type": "stream",
          "name": "stderr",
          "text": [
            "INFO:tensorflow:Assets written to: /content/drive/My Drive/ComputerVisionModels/alexnet/weights/assets\n"
          ]
        },
        {
          "output_type": "stream",
          "name": "stdout",
          "text": [
            "Epoch 42/100\n",
            "500/500 [==============================] - 5s 11ms/step - loss: 2.1159 - accuracy: 0.8110 - val_loss: 2.2624 - val_accuracy: 0.7506\n",
            "\n",
            "Epoch 00042: loss improved from 2.19630 to 2.11595, saving model to /content/drive/My Drive/ComputerVisionModels/alexnet/weights\n",
            "INFO:tensorflow:Assets written to: /content/drive/My Drive/ComputerVisionModels/alexnet/weights/assets\n"
          ]
        },
        {
          "output_type": "stream",
          "name": "stderr",
          "text": [
            "INFO:tensorflow:Assets written to: /content/drive/My Drive/ComputerVisionModels/alexnet/weights/assets\n"
          ]
        },
        {
          "output_type": "stream",
          "name": "stdout",
          "text": [
            "Epoch 43/100\n",
            "500/500 [==============================] - 6s 11ms/step - loss: 2.0457 - accuracy: 0.8133 - val_loss: 2.2019 - val_accuracy: 0.7475\n",
            "\n",
            "Epoch 00043: loss improved from 2.11595 to 2.04568, saving model to /content/drive/My Drive/ComputerVisionModels/alexnet/weights\n",
            "INFO:tensorflow:Assets written to: /content/drive/My Drive/ComputerVisionModels/alexnet/weights/assets\n"
          ]
        },
        {
          "output_type": "stream",
          "name": "stderr",
          "text": [
            "INFO:tensorflow:Assets written to: /content/drive/My Drive/ComputerVisionModels/alexnet/weights/assets\n"
          ]
        },
        {
          "output_type": "stream",
          "name": "stdout",
          "text": [
            "Epoch 44/100\n",
            "500/500 [==============================] - 5s 11ms/step - loss: 1.9786 - accuracy: 0.8154 - val_loss: 2.1303 - val_accuracy: 0.7516\n",
            "\n",
            "Epoch 00044: loss improved from 2.04568 to 1.97862, saving model to /content/drive/My Drive/ComputerVisionModels/alexnet/weights\n",
            "INFO:tensorflow:Assets written to: /content/drive/My Drive/ComputerVisionModels/alexnet/weights/assets\n"
          ]
        },
        {
          "output_type": "stream",
          "name": "stderr",
          "text": [
            "INFO:tensorflow:Assets written to: /content/drive/My Drive/ComputerVisionModels/alexnet/weights/assets\n"
          ]
        },
        {
          "output_type": "stream",
          "name": "stdout",
          "text": [
            "Epoch 45/100\n",
            "500/500 [==============================] - 6s 11ms/step - loss: 1.9176 - accuracy: 0.8179 - val_loss: 2.0589 - val_accuracy: 0.7591\n",
            "\n",
            "Epoch 00045: loss improved from 1.97862 to 1.91760, saving model to /content/drive/My Drive/ComputerVisionModels/alexnet/weights\n",
            "INFO:tensorflow:Assets written to: /content/drive/My Drive/ComputerVisionModels/alexnet/weights/assets\n"
          ]
        },
        {
          "output_type": "stream",
          "name": "stderr",
          "text": [
            "INFO:tensorflow:Assets written to: /content/drive/My Drive/ComputerVisionModels/alexnet/weights/assets\n"
          ]
        },
        {
          "output_type": "stream",
          "name": "stdout",
          "text": [
            "Epoch 46/100\n",
            "500/500 [==============================] - 5s 11ms/step - loss: 1.8568 - accuracy: 0.8183 - val_loss: 2.0520 - val_accuracy: 0.7429\n",
            "\n",
            "Epoch 00046: loss improved from 1.91760 to 1.85678, saving model to /content/drive/My Drive/ComputerVisionModels/alexnet/weights\n",
            "INFO:tensorflow:Assets written to: /content/drive/My Drive/ComputerVisionModels/alexnet/weights/assets\n"
          ]
        },
        {
          "output_type": "stream",
          "name": "stderr",
          "text": [
            "INFO:tensorflow:Assets written to: /content/drive/My Drive/ComputerVisionModels/alexnet/weights/assets\n"
          ]
        },
        {
          "output_type": "stream",
          "name": "stdout",
          "text": [
            "Epoch 47/100\n",
            "500/500 [==============================] - 5s 11ms/step - loss: 1.8028 - accuracy: 0.8216 - val_loss: 1.9580 - val_accuracy: 0.7613\n",
            "\n",
            "Epoch 00047: loss improved from 1.85678 to 1.80276, saving model to /content/drive/My Drive/ComputerVisionModels/alexnet/weights\n",
            "INFO:tensorflow:Assets written to: /content/drive/My Drive/ComputerVisionModels/alexnet/weights/assets\n"
          ]
        },
        {
          "output_type": "stream",
          "name": "stderr",
          "text": [
            "INFO:tensorflow:Assets written to: /content/drive/My Drive/ComputerVisionModels/alexnet/weights/assets\n"
          ]
        },
        {
          "output_type": "stream",
          "name": "stdout",
          "text": [
            "Epoch 48/100\n",
            "500/500 [==============================] - 6s 11ms/step - loss: 1.7514 - accuracy: 0.8271 - val_loss: 1.9282 - val_accuracy: 0.7571\n",
            "\n",
            "Epoch 00048: loss improved from 1.80276 to 1.75140, saving model to /content/drive/My Drive/ComputerVisionModels/alexnet/weights\n",
            "INFO:tensorflow:Assets written to: /content/drive/My Drive/ComputerVisionModels/alexnet/weights/assets\n"
          ]
        },
        {
          "output_type": "stream",
          "name": "stderr",
          "text": [
            "INFO:tensorflow:Assets written to: /content/drive/My Drive/ComputerVisionModels/alexnet/weights/assets\n"
          ]
        },
        {
          "output_type": "stream",
          "name": "stdout",
          "text": [
            "Epoch 49/100\n",
            "500/500 [==============================] - 6s 11ms/step - loss: 1.7029 - accuracy: 0.8312 - val_loss: 1.8850 - val_accuracy: 0.7609\n",
            "\n",
            "Epoch 00049: loss improved from 1.75140 to 1.70285, saving model to /content/drive/My Drive/ComputerVisionModels/alexnet/weights\n",
            "INFO:tensorflow:Assets written to: /content/drive/My Drive/ComputerVisionModels/alexnet/weights/assets\n"
          ]
        },
        {
          "output_type": "stream",
          "name": "stderr",
          "text": [
            "INFO:tensorflow:Assets written to: /content/drive/My Drive/ComputerVisionModels/alexnet/weights/assets\n"
          ]
        },
        {
          "output_type": "stream",
          "name": "stdout",
          "text": [
            "Epoch 50/100\n",
            "500/500 [==============================] - 6s 11ms/step - loss: 1.6597 - accuracy: 0.8306 - val_loss: 1.8925 - val_accuracy: 0.7437\n",
            "\n",
            "Epoch 00050: loss improved from 1.70285 to 1.65971, saving model to /content/drive/My Drive/ComputerVisionModels/alexnet/weights\n",
            "INFO:tensorflow:Assets written to: /content/drive/My Drive/ComputerVisionModels/alexnet/weights/assets\n"
          ]
        },
        {
          "output_type": "stream",
          "name": "stderr",
          "text": [
            "INFO:tensorflow:Assets written to: /content/drive/My Drive/ComputerVisionModels/alexnet/weights/assets\n"
          ]
        },
        {
          "output_type": "stream",
          "name": "stdout",
          "text": [
            "Epoch 51/100\n",
            "500/500 [==============================] - 5s 11ms/step - loss: 1.6188 - accuracy: 0.8345 - val_loss: 1.8286 - val_accuracy: 0.7582\n",
            "\n",
            "Epoch 00051: loss improved from 1.65971 to 1.61880, saving model to /content/drive/My Drive/ComputerVisionModels/alexnet/weights\n",
            "INFO:tensorflow:Assets written to: /content/drive/My Drive/ComputerVisionModels/alexnet/weights/assets\n"
          ]
        },
        {
          "output_type": "stream",
          "name": "stderr",
          "text": [
            "INFO:tensorflow:Assets written to: /content/drive/My Drive/ComputerVisionModels/alexnet/weights/assets\n"
          ]
        },
        {
          "output_type": "stream",
          "name": "stdout",
          "text": [
            "Epoch 52/100\n",
            "500/500 [==============================] - 5s 11ms/step - loss: 1.5791 - accuracy: 0.8367 - val_loss: 1.7784 - val_accuracy: 0.7635\n",
            "\n",
            "Epoch 00052: loss improved from 1.61880 to 1.57912, saving model to /content/drive/My Drive/ComputerVisionModels/alexnet/weights\n",
            "INFO:tensorflow:Assets written to: /content/drive/My Drive/ComputerVisionModels/alexnet/weights/assets\n"
          ]
        },
        {
          "output_type": "stream",
          "name": "stderr",
          "text": [
            "INFO:tensorflow:Assets written to: /content/drive/My Drive/ComputerVisionModels/alexnet/weights/assets\n"
          ]
        },
        {
          "output_type": "stream",
          "name": "stdout",
          "text": [
            "Epoch 53/100\n",
            "500/500 [==============================] - 6s 11ms/step - loss: 1.5429 - accuracy: 0.8412 - val_loss: 1.7477 - val_accuracy: 0.7623\n",
            "\n",
            "Epoch 00053: loss improved from 1.57912 to 1.54288, saving model to /content/drive/My Drive/ComputerVisionModels/alexnet/weights\n",
            "INFO:tensorflow:Assets written to: /content/drive/My Drive/ComputerVisionModels/alexnet/weights/assets\n"
          ]
        },
        {
          "output_type": "stream",
          "name": "stderr",
          "text": [
            "INFO:tensorflow:Assets written to: /content/drive/My Drive/ComputerVisionModels/alexnet/weights/assets\n"
          ]
        },
        {
          "output_type": "stream",
          "name": "stdout",
          "text": [
            "Epoch 54/100\n",
            "500/500 [==============================] - 6s 11ms/step - loss: 1.5083 - accuracy: 0.8405 - val_loss: 1.7171 - val_accuracy: 0.7675\n",
            "\n",
            "Epoch 00054: loss improved from 1.54288 to 1.50828, saving model to /content/drive/My Drive/ComputerVisionModels/alexnet/weights\n",
            "INFO:tensorflow:Assets written to: /content/drive/My Drive/ComputerVisionModels/alexnet/weights/assets\n"
          ]
        },
        {
          "output_type": "stream",
          "name": "stderr",
          "text": [
            "INFO:tensorflow:Assets written to: /content/drive/My Drive/ComputerVisionModels/alexnet/weights/assets\n"
          ]
        },
        {
          "output_type": "stream",
          "name": "stdout",
          "text": [
            "Epoch 55/100\n",
            "500/500 [==============================] - 6s 11ms/step - loss: 1.4763 - accuracy: 0.8434 - val_loss: 1.6949 - val_accuracy: 0.7644\n",
            "\n",
            "Epoch 00055: loss improved from 1.50828 to 1.47632, saving model to /content/drive/My Drive/ComputerVisionModels/alexnet/weights\n",
            "INFO:tensorflow:Assets written to: /content/drive/My Drive/ComputerVisionModels/alexnet/weights/assets\n"
          ]
        },
        {
          "output_type": "stream",
          "name": "stderr",
          "text": [
            "INFO:tensorflow:Assets written to: /content/drive/My Drive/ComputerVisionModels/alexnet/weights/assets\n"
          ]
        },
        {
          "output_type": "stream",
          "name": "stdout",
          "text": [
            "Epoch 56/100\n",
            "500/500 [==============================] - 6s 11ms/step - loss: 1.4451 - accuracy: 0.8500 - val_loss: 1.6704 - val_accuracy: 0.7621\n",
            "\n",
            "Epoch 00056: loss improved from 1.47632 to 1.44506, saving model to /content/drive/My Drive/ComputerVisionModels/alexnet/weights\n",
            "INFO:tensorflow:Assets written to: /content/drive/My Drive/ComputerVisionModels/alexnet/weights/assets\n"
          ]
        },
        {
          "output_type": "stream",
          "name": "stderr",
          "text": [
            "INFO:tensorflow:Assets written to: /content/drive/My Drive/ComputerVisionModels/alexnet/weights/assets\n"
          ]
        },
        {
          "output_type": "stream",
          "name": "stdout",
          "text": [
            "Epoch 57/100\n",
            "500/500 [==============================] - 5s 11ms/step - loss: 1.4193 - accuracy: 0.8497 - val_loss: 1.6720 - val_accuracy: 0.7536\n",
            "\n",
            "Epoch 00057: loss improved from 1.44506 to 1.41926, saving model to /content/drive/My Drive/ComputerVisionModels/alexnet/weights\n",
            "INFO:tensorflow:Assets written to: /content/drive/My Drive/ComputerVisionModels/alexnet/weights/assets\n"
          ]
        },
        {
          "output_type": "stream",
          "name": "stderr",
          "text": [
            "INFO:tensorflow:Assets written to: /content/drive/My Drive/ComputerVisionModels/alexnet/weights/assets\n"
          ]
        },
        {
          "output_type": "stream",
          "name": "stdout",
          "text": [
            "Epoch 58/100\n",
            "500/500 [==============================] - 6s 11ms/step - loss: 1.3906 - accuracy: 0.8519 - val_loss: 1.6052 - val_accuracy: 0.7747\n",
            "\n",
            "Epoch 00058: loss improved from 1.41926 to 1.39062, saving model to /content/drive/My Drive/ComputerVisionModels/alexnet/weights\n",
            "INFO:tensorflow:Assets written to: /content/drive/My Drive/ComputerVisionModels/alexnet/weights/assets\n"
          ]
        },
        {
          "output_type": "stream",
          "name": "stderr",
          "text": [
            "INFO:tensorflow:Assets written to: /content/drive/My Drive/ComputerVisionModels/alexnet/weights/assets\n"
          ]
        },
        {
          "output_type": "stream",
          "name": "stdout",
          "text": [
            "Epoch 59/100\n",
            "500/500 [==============================] - 5s 11ms/step - loss: 1.3616 - accuracy: 0.8547 - val_loss: 1.5897 - val_accuracy: 0.7739\n",
            "\n",
            "Epoch 00059: loss improved from 1.39062 to 1.36160, saving model to /content/drive/My Drive/ComputerVisionModels/alexnet/weights\n",
            "INFO:tensorflow:Assets written to: /content/drive/My Drive/ComputerVisionModels/alexnet/weights/assets\n"
          ]
        },
        {
          "output_type": "stream",
          "name": "stderr",
          "text": [
            "INFO:tensorflow:Assets written to: /content/drive/My Drive/ComputerVisionModels/alexnet/weights/assets\n"
          ]
        },
        {
          "output_type": "stream",
          "name": "stdout",
          "text": [
            "Epoch 60/100\n",
            "500/500 [==============================] - 5s 11ms/step - loss: 1.3360 - accuracy: 0.8575 - val_loss: 1.6128 - val_accuracy: 0.7595\n",
            "\n",
            "Epoch 00060: loss improved from 1.36160 to 1.33601, saving model to /content/drive/My Drive/ComputerVisionModels/alexnet/weights\n",
            "INFO:tensorflow:Assets written to: /content/drive/My Drive/ComputerVisionModels/alexnet/weights/assets\n"
          ]
        },
        {
          "output_type": "stream",
          "name": "stderr",
          "text": [
            "INFO:tensorflow:Assets written to: /content/drive/My Drive/ComputerVisionModels/alexnet/weights/assets\n"
          ]
        },
        {
          "output_type": "stream",
          "name": "stdout",
          "text": [
            "Epoch 61/100\n",
            "500/500 [==============================] - 5s 11ms/step - loss: 1.3141 - accuracy: 0.8575 - val_loss: 1.5909 - val_accuracy: 0.7610\n",
            "\n",
            "Epoch 00061: loss improved from 1.33601 to 1.31411, saving model to /content/drive/My Drive/ComputerVisionModels/alexnet/weights\n",
            "INFO:tensorflow:Assets written to: /content/drive/My Drive/ComputerVisionModels/alexnet/weights/assets\n"
          ]
        },
        {
          "output_type": "stream",
          "name": "stderr",
          "text": [
            "INFO:tensorflow:Assets written to: /content/drive/My Drive/ComputerVisionModels/alexnet/weights/assets\n"
          ]
        },
        {
          "output_type": "stream",
          "name": "stdout",
          "text": [
            "Epoch 62/100\n",
            "500/500 [==============================] - 5s 11ms/step - loss: 1.2912 - accuracy: 0.8613 - val_loss: 1.5522 - val_accuracy: 0.7747\n",
            "\n",
            "Epoch 00062: loss improved from 1.31411 to 1.29115, saving model to /content/drive/My Drive/ComputerVisionModels/alexnet/weights\n",
            "INFO:tensorflow:Assets written to: /content/drive/My Drive/ComputerVisionModels/alexnet/weights/assets\n"
          ]
        },
        {
          "output_type": "stream",
          "name": "stderr",
          "text": [
            "INFO:tensorflow:Assets written to: /content/drive/My Drive/ComputerVisionModels/alexnet/weights/assets\n"
          ]
        },
        {
          "output_type": "stream",
          "name": "stdout",
          "text": [
            "Epoch 63/100\n",
            "500/500 [==============================] - 5s 11ms/step - loss: 1.2722 - accuracy: 0.8602 - val_loss: 1.5362 - val_accuracy: 0.7711\n",
            "\n",
            "Epoch 00063: loss improved from 1.29115 to 1.27219, saving model to /content/drive/My Drive/ComputerVisionModels/alexnet/weights\n",
            "INFO:tensorflow:Assets written to: /content/drive/My Drive/ComputerVisionModels/alexnet/weights/assets\n"
          ]
        },
        {
          "output_type": "stream",
          "name": "stderr",
          "text": [
            "INFO:tensorflow:Assets written to: /content/drive/My Drive/ComputerVisionModels/alexnet/weights/assets\n"
          ]
        },
        {
          "output_type": "stream",
          "name": "stdout",
          "text": [
            "Epoch 64/100\n",
            "500/500 [==============================] - 5s 11ms/step - loss: 1.2466 - accuracy: 0.8692 - val_loss: 1.5360 - val_accuracy: 0.7703\n",
            "\n",
            "Epoch 00064: loss improved from 1.27219 to 1.24656, saving model to /content/drive/My Drive/ComputerVisionModels/alexnet/weights\n",
            "INFO:tensorflow:Assets written to: /content/drive/My Drive/ComputerVisionModels/alexnet/weights/assets\n"
          ]
        },
        {
          "output_type": "stream",
          "name": "stderr",
          "text": [
            "INFO:tensorflow:Assets written to: /content/drive/My Drive/ComputerVisionModels/alexnet/weights/assets\n"
          ]
        },
        {
          "output_type": "stream",
          "name": "stdout",
          "text": [
            "Epoch 65/100\n",
            "500/500 [==============================] - 6s 11ms/step - loss: 1.2286 - accuracy: 0.8686 - val_loss: 1.4979 - val_accuracy: 0.7738\n",
            "\n",
            "Epoch 00065: loss improved from 1.24656 to 1.22857, saving model to /content/drive/My Drive/ComputerVisionModels/alexnet/weights\n",
            "INFO:tensorflow:Assets written to: /content/drive/My Drive/ComputerVisionModels/alexnet/weights/assets\n"
          ]
        },
        {
          "output_type": "stream",
          "name": "stderr",
          "text": [
            "INFO:tensorflow:Assets written to: /content/drive/My Drive/ComputerVisionModels/alexnet/weights/assets\n"
          ]
        },
        {
          "output_type": "stream",
          "name": "stdout",
          "text": [
            "Epoch 66/100\n",
            "500/500 [==============================] - 5s 11ms/step - loss: 1.2094 - accuracy: 0.8714 - val_loss: 1.5109 - val_accuracy: 0.7696\n",
            "\n",
            "Epoch 00066: loss improved from 1.22857 to 1.20942, saving model to /content/drive/My Drive/ComputerVisionModels/alexnet/weights\n",
            "INFO:tensorflow:Assets written to: /content/drive/My Drive/ComputerVisionModels/alexnet/weights/assets\n"
          ]
        },
        {
          "output_type": "stream",
          "name": "stderr",
          "text": [
            "INFO:tensorflow:Assets written to: /content/drive/My Drive/ComputerVisionModels/alexnet/weights/assets\n"
          ]
        },
        {
          "output_type": "stream",
          "name": "stdout",
          "text": [
            "Epoch 67/100\n",
            "500/500 [==============================] - 5s 11ms/step - loss: 1.1910 - accuracy: 0.8726 - val_loss: 1.5255 - val_accuracy: 0.7614\n",
            "\n",
            "Epoch 00067: loss improved from 1.20942 to 1.19101, saving model to /content/drive/My Drive/ComputerVisionModels/alexnet/weights\n",
            "INFO:tensorflow:Assets written to: /content/drive/My Drive/ComputerVisionModels/alexnet/weights/assets\n"
          ]
        },
        {
          "output_type": "stream",
          "name": "stderr",
          "text": [
            "INFO:tensorflow:Assets written to: /content/drive/My Drive/ComputerVisionModels/alexnet/weights/assets\n"
          ]
        },
        {
          "output_type": "stream",
          "name": "stdout",
          "text": [
            "Epoch 68/100\n",
            "500/500 [==============================] - 5s 11ms/step - loss: 1.1721 - accuracy: 0.8759 - val_loss: 1.4729 - val_accuracy: 0.7741\n",
            "\n",
            "Epoch 00068: loss improved from 1.19101 to 1.17210, saving model to /content/drive/My Drive/ComputerVisionModels/alexnet/weights\n",
            "INFO:tensorflow:Assets written to: /content/drive/My Drive/ComputerVisionModels/alexnet/weights/assets\n"
          ]
        },
        {
          "output_type": "stream",
          "name": "stderr",
          "text": [
            "INFO:tensorflow:Assets written to: /content/drive/My Drive/ComputerVisionModels/alexnet/weights/assets\n"
          ]
        },
        {
          "output_type": "stream",
          "name": "stdout",
          "text": [
            "Epoch 69/100\n",
            "500/500 [==============================] - 6s 11ms/step - loss: 1.1555 - accuracy: 0.8779 - val_loss: 1.4576 - val_accuracy: 0.7720\n",
            "\n",
            "Epoch 00069: loss improved from 1.17210 to 1.15552, saving model to /content/drive/My Drive/ComputerVisionModels/alexnet/weights\n",
            "INFO:tensorflow:Assets written to: /content/drive/My Drive/ComputerVisionModels/alexnet/weights/assets\n"
          ]
        },
        {
          "output_type": "stream",
          "name": "stderr",
          "text": [
            "INFO:tensorflow:Assets written to: /content/drive/My Drive/ComputerVisionModels/alexnet/weights/assets\n"
          ]
        },
        {
          "output_type": "stream",
          "name": "stdout",
          "text": [
            "Epoch 70/100\n",
            "500/500 [==============================] - 6s 11ms/step - loss: 1.1393 - accuracy: 0.8804 - val_loss: 1.4569 - val_accuracy: 0.7728\n",
            "\n",
            "Epoch 00070: loss improved from 1.15552 to 1.13933, saving model to /content/drive/My Drive/ComputerVisionModels/alexnet/weights\n",
            "INFO:tensorflow:Assets written to: /content/drive/My Drive/ComputerVisionModels/alexnet/weights/assets\n"
          ]
        },
        {
          "output_type": "stream",
          "name": "stderr",
          "text": [
            "INFO:tensorflow:Assets written to: /content/drive/My Drive/ComputerVisionModels/alexnet/weights/assets\n"
          ]
        },
        {
          "output_type": "stream",
          "name": "stdout",
          "text": [
            "Epoch 71/100\n",
            "500/500 [==============================] - 5s 11ms/step - loss: 1.1231 - accuracy: 0.8820 - val_loss: 1.4335 - val_accuracy: 0.7751\n",
            "\n",
            "Epoch 00071: loss improved from 1.13933 to 1.12311, saving model to /content/drive/My Drive/ComputerVisionModels/alexnet/weights\n",
            "INFO:tensorflow:Assets written to: /content/drive/My Drive/ComputerVisionModels/alexnet/weights/assets\n"
          ]
        },
        {
          "output_type": "stream",
          "name": "stderr",
          "text": [
            "INFO:tensorflow:Assets written to: /content/drive/My Drive/ComputerVisionModels/alexnet/weights/assets\n"
          ]
        },
        {
          "output_type": "stream",
          "name": "stdout",
          "text": [
            "Epoch 72/100\n",
            "500/500 [==============================] - 5s 11ms/step - loss: 1.1065 - accuracy: 0.8861 - val_loss: 1.4135 - val_accuracy: 0.7826\n",
            "\n",
            "Epoch 00072: loss improved from 1.12311 to 1.10653, saving model to /content/drive/My Drive/ComputerVisionModels/alexnet/weights\n",
            "INFO:tensorflow:Assets written to: /content/drive/My Drive/ComputerVisionModels/alexnet/weights/assets\n"
          ]
        },
        {
          "output_type": "stream",
          "name": "stderr",
          "text": [
            "INFO:tensorflow:Assets written to: /content/drive/My Drive/ComputerVisionModels/alexnet/weights/assets\n"
          ]
        },
        {
          "output_type": "stream",
          "name": "stdout",
          "text": [
            "Epoch 73/100\n",
            "500/500 [==============================] - 5s 11ms/step - loss: 1.0939 - accuracy: 0.8876 - val_loss: 1.4113 - val_accuracy: 0.7781\n",
            "\n",
            "Epoch 00073: loss improved from 1.10653 to 1.09389, saving model to /content/drive/My Drive/ComputerVisionModels/alexnet/weights\n",
            "INFO:tensorflow:Assets written to: /content/drive/My Drive/ComputerVisionModels/alexnet/weights/assets\n"
          ]
        },
        {
          "output_type": "stream",
          "name": "stderr",
          "text": [
            "INFO:tensorflow:Assets written to: /content/drive/My Drive/ComputerVisionModels/alexnet/weights/assets\n"
          ]
        },
        {
          "output_type": "stream",
          "name": "stdout",
          "text": [
            "Epoch 74/100\n",
            "500/500 [==============================] - 6s 11ms/step - loss: 1.0810 - accuracy: 0.8897 - val_loss: 1.3917 - val_accuracy: 0.7818\n",
            "\n",
            "Epoch 00074: loss improved from 1.09389 to 1.08103, saving model to /content/drive/My Drive/ComputerVisionModels/alexnet/weights\n",
            "INFO:tensorflow:Assets written to: /content/drive/My Drive/ComputerVisionModels/alexnet/weights/assets\n"
          ]
        },
        {
          "output_type": "stream",
          "name": "stderr",
          "text": [
            "INFO:tensorflow:Assets written to: /content/drive/My Drive/ComputerVisionModels/alexnet/weights/assets\n"
          ]
        },
        {
          "output_type": "stream",
          "name": "stdout",
          "text": [
            "Epoch 75/100\n",
            "500/500 [==============================] - 6s 11ms/step - loss: 1.0672 - accuracy: 0.8915 - val_loss: 1.4032 - val_accuracy: 0.7775\n",
            "\n",
            "Epoch 00075: loss improved from 1.08103 to 1.06724, saving model to /content/drive/My Drive/ComputerVisionModels/alexnet/weights\n",
            "INFO:tensorflow:Assets written to: /content/drive/My Drive/ComputerVisionModels/alexnet/weights/assets\n"
          ]
        },
        {
          "output_type": "stream",
          "name": "stderr",
          "text": [
            "INFO:tensorflow:Assets written to: /content/drive/My Drive/ComputerVisionModels/alexnet/weights/assets\n"
          ]
        },
        {
          "output_type": "stream",
          "name": "stdout",
          "text": [
            "Epoch 76/100\n",
            "500/500 [==============================] - 5s 11ms/step - loss: 1.0517 - accuracy: 0.8935 - val_loss: 1.3895 - val_accuracy: 0.7828\n",
            "\n",
            "Epoch 00076: loss improved from 1.06724 to 1.05166, saving model to /content/drive/My Drive/ComputerVisionModels/alexnet/weights\n",
            "INFO:tensorflow:Assets written to: /content/drive/My Drive/ComputerVisionModels/alexnet/weights/assets\n"
          ]
        },
        {
          "output_type": "stream",
          "name": "stderr",
          "text": [
            "INFO:tensorflow:Assets written to: /content/drive/My Drive/ComputerVisionModels/alexnet/weights/assets\n"
          ]
        },
        {
          "output_type": "stream",
          "name": "stdout",
          "text": [
            "Epoch 77/100\n",
            "500/500 [==============================] - 5s 11ms/step - loss: 1.0384 - accuracy: 0.8944 - val_loss: 1.4182 - val_accuracy: 0.7729\n",
            "\n",
            "Epoch 00077: loss improved from 1.05166 to 1.03840, saving model to /content/drive/My Drive/ComputerVisionModels/alexnet/weights\n",
            "INFO:tensorflow:Assets written to: /content/drive/My Drive/ComputerVisionModels/alexnet/weights/assets\n"
          ]
        },
        {
          "output_type": "stream",
          "name": "stderr",
          "text": [
            "INFO:tensorflow:Assets written to: /content/drive/My Drive/ComputerVisionModels/alexnet/weights/assets\n"
          ]
        },
        {
          "output_type": "stream",
          "name": "stdout",
          "text": [
            "Epoch 78/100\n",
            "500/500 [==============================] - 5s 11ms/step - loss: 1.0261 - accuracy: 0.8988 - val_loss: 1.3551 - val_accuracy: 0.7889\n",
            "\n",
            "Epoch 00078: loss improved from 1.03840 to 1.02610, saving model to /content/drive/My Drive/ComputerVisionModels/alexnet/weights\n",
            "INFO:tensorflow:Assets written to: /content/drive/My Drive/ComputerVisionModels/alexnet/weights/assets\n"
          ]
        },
        {
          "output_type": "stream",
          "name": "stderr",
          "text": [
            "INFO:tensorflow:Assets written to: /content/drive/My Drive/ComputerVisionModels/alexnet/weights/assets\n"
          ]
        },
        {
          "output_type": "stream",
          "name": "stdout",
          "text": [
            "Epoch 79/100\n",
            "500/500 [==============================] - 6s 11ms/step - loss: 1.0142 - accuracy: 0.8992 - val_loss: 1.3558 - val_accuracy: 0.7853\n",
            "\n",
            "Epoch 00079: loss improved from 1.02610 to 1.01423, saving model to /content/drive/My Drive/ComputerVisionModels/alexnet/weights\n",
            "INFO:tensorflow:Assets written to: /content/drive/My Drive/ComputerVisionModels/alexnet/weights/assets\n"
          ]
        },
        {
          "output_type": "stream",
          "name": "stderr",
          "text": [
            "INFO:tensorflow:Assets written to: /content/drive/My Drive/ComputerVisionModels/alexnet/weights/assets\n"
          ]
        },
        {
          "output_type": "stream",
          "name": "stdout",
          "text": [
            "Epoch 80/100\n",
            "500/500 [==============================] - 6s 11ms/step - loss: 1.0006 - accuracy: 0.9023 - val_loss: 1.4028 - val_accuracy: 0.7673\n",
            "\n",
            "Epoch 00080: loss improved from 1.01423 to 1.00061, saving model to /content/drive/My Drive/ComputerVisionModels/alexnet/weights\n",
            "INFO:tensorflow:Assets written to: /content/drive/My Drive/ComputerVisionModels/alexnet/weights/assets\n"
          ]
        },
        {
          "output_type": "stream",
          "name": "stderr",
          "text": [
            "INFO:tensorflow:Assets written to: /content/drive/My Drive/ComputerVisionModels/alexnet/weights/assets\n"
          ]
        },
        {
          "output_type": "stream",
          "name": "stdout",
          "text": [
            "Epoch 81/100\n",
            "500/500 [==============================] - 5s 11ms/step - loss: 0.9912 - accuracy: 0.9015 - val_loss: 1.3939 - val_accuracy: 0.7688\n",
            "\n",
            "Epoch 00081: loss improved from 1.00061 to 0.99117, saving model to /content/drive/My Drive/ComputerVisionModels/alexnet/weights\n",
            "INFO:tensorflow:Assets written to: /content/drive/My Drive/ComputerVisionModels/alexnet/weights/assets\n"
          ]
        },
        {
          "output_type": "stream",
          "name": "stderr",
          "text": [
            "INFO:tensorflow:Assets written to: /content/drive/My Drive/ComputerVisionModels/alexnet/weights/assets\n"
          ]
        },
        {
          "output_type": "stream",
          "name": "stdout",
          "text": [
            "Epoch 82/100\n",
            "500/500 [==============================] - 5s 11ms/step - loss: 0.9807 - accuracy: 0.9045 - val_loss: 1.3622 - val_accuracy: 0.7764\n",
            "\n",
            "Epoch 00082: loss improved from 0.99117 to 0.98070, saving model to /content/drive/My Drive/ComputerVisionModels/alexnet/weights\n",
            "INFO:tensorflow:Assets written to: /content/drive/My Drive/ComputerVisionModels/alexnet/weights/assets\n"
          ]
        },
        {
          "output_type": "stream",
          "name": "stderr",
          "text": [
            "INFO:tensorflow:Assets written to: /content/drive/My Drive/ComputerVisionModels/alexnet/weights/assets\n"
          ]
        },
        {
          "output_type": "stream",
          "name": "stdout",
          "text": [
            "Epoch 83/100\n",
            "500/500 [==============================] - 5s 11ms/step - loss: 0.9674 - accuracy: 0.9085 - val_loss: 1.3378 - val_accuracy: 0.7815\n",
            "\n",
            "Epoch 00083: loss improved from 0.98070 to 0.96742, saving model to /content/drive/My Drive/ComputerVisionModels/alexnet/weights\n",
            "INFO:tensorflow:Assets written to: /content/drive/My Drive/ComputerVisionModels/alexnet/weights/assets\n"
          ]
        },
        {
          "output_type": "stream",
          "name": "stderr",
          "text": [
            "INFO:tensorflow:Assets written to: /content/drive/My Drive/ComputerVisionModels/alexnet/weights/assets\n"
          ]
        },
        {
          "output_type": "stream",
          "name": "stdout",
          "text": [
            "Epoch 84/100\n",
            "500/500 [==============================] - 6s 11ms/step - loss: 0.9552 - accuracy: 0.9103 - val_loss: 1.3501 - val_accuracy: 0.7786\n",
            "\n",
            "Epoch 00084: loss improved from 0.96742 to 0.95523, saving model to /content/drive/My Drive/ComputerVisionModels/alexnet/weights\n",
            "INFO:tensorflow:Assets written to: /content/drive/My Drive/ComputerVisionModels/alexnet/weights/assets\n"
          ]
        },
        {
          "output_type": "stream",
          "name": "stderr",
          "text": [
            "INFO:tensorflow:Assets written to: /content/drive/My Drive/ComputerVisionModels/alexnet/weights/assets\n"
          ]
        },
        {
          "output_type": "stream",
          "name": "stdout",
          "text": [
            "Epoch 85/100\n",
            "500/500 [==============================] - 5s 11ms/step - loss: 0.9490 - accuracy: 0.9096 - val_loss: 1.3664 - val_accuracy: 0.7697\n",
            "\n",
            "Epoch 00085: loss improved from 0.95523 to 0.94896, saving model to /content/drive/My Drive/ComputerVisionModels/alexnet/weights\n",
            "INFO:tensorflow:Assets written to: /content/drive/My Drive/ComputerVisionModels/alexnet/weights/assets\n"
          ]
        },
        {
          "output_type": "stream",
          "name": "stderr",
          "text": [
            "INFO:tensorflow:Assets written to: /content/drive/My Drive/ComputerVisionModels/alexnet/weights/assets\n"
          ]
        },
        {
          "output_type": "stream",
          "name": "stdout",
          "text": [
            "Epoch 86/100\n",
            "500/500 [==============================] - 5s 11ms/step - loss: 0.9386 - accuracy: 0.9116 - val_loss: 1.3558 - val_accuracy: 0.7717\n",
            "\n",
            "Epoch 00086: loss improved from 0.94896 to 0.93865, saving model to /content/drive/My Drive/ComputerVisionModels/alexnet/weights\n",
            "INFO:tensorflow:Assets written to: /content/drive/My Drive/ComputerVisionModels/alexnet/weights/assets\n"
          ]
        },
        {
          "output_type": "stream",
          "name": "stderr",
          "text": [
            "INFO:tensorflow:Assets written to: /content/drive/My Drive/ComputerVisionModels/alexnet/weights/assets\n"
          ]
        },
        {
          "output_type": "stream",
          "name": "stdout",
          "text": [
            "Epoch 87/100\n",
            "500/500 [==============================] - 6s 11ms/step - loss: 0.9268 - accuracy: 0.9134 - val_loss: 1.3460 - val_accuracy: 0.7770\n",
            "\n",
            "Epoch 00087: loss improved from 0.93865 to 0.92677, saving model to /content/drive/My Drive/ComputerVisionModels/alexnet/weights\n",
            "INFO:tensorflow:Assets written to: /content/drive/My Drive/ComputerVisionModels/alexnet/weights/assets\n"
          ]
        },
        {
          "output_type": "stream",
          "name": "stderr",
          "text": [
            "INFO:tensorflow:Assets written to: /content/drive/My Drive/ComputerVisionModels/alexnet/weights/assets\n"
          ]
        },
        {
          "output_type": "stream",
          "name": "stdout",
          "text": [
            "Epoch 88/100\n",
            "500/500 [==============================] - 5s 11ms/step - loss: 0.9188 - accuracy: 0.9156 - val_loss: 1.3171 - val_accuracy: 0.7860\n",
            "\n",
            "Epoch 00088: loss improved from 0.92677 to 0.91882, saving model to /content/drive/My Drive/ComputerVisionModels/alexnet/weights\n",
            "INFO:tensorflow:Assets written to: /content/drive/My Drive/ComputerVisionModels/alexnet/weights/assets\n"
          ]
        },
        {
          "output_type": "stream",
          "name": "stderr",
          "text": [
            "INFO:tensorflow:Assets written to: /content/drive/My Drive/ComputerVisionModels/alexnet/weights/assets\n"
          ]
        },
        {
          "output_type": "stream",
          "name": "stdout",
          "text": [
            "Epoch 89/100\n",
            "500/500 [==============================] - 6s 11ms/step - loss: 0.9062 - accuracy: 0.9185 - val_loss: 1.3149 - val_accuracy: 0.7810\n",
            "\n",
            "Epoch 00089: loss improved from 0.91882 to 0.90621, saving model to /content/drive/My Drive/ComputerVisionModels/alexnet/weights\n",
            "INFO:tensorflow:Assets written to: /content/drive/My Drive/ComputerVisionModels/alexnet/weights/assets\n"
          ]
        },
        {
          "output_type": "stream",
          "name": "stderr",
          "text": [
            "INFO:tensorflow:Assets written to: /content/drive/My Drive/ComputerVisionModels/alexnet/weights/assets\n"
          ]
        },
        {
          "output_type": "stream",
          "name": "stdout",
          "text": [
            "Epoch 90/100\n",
            "500/500 [==============================] - 6s 11ms/step - loss: 0.8929 - accuracy: 0.9225 - val_loss: 1.3181 - val_accuracy: 0.7871\n",
            "\n",
            "Epoch 00090: loss improved from 0.90621 to 0.89289, saving model to /content/drive/My Drive/ComputerVisionModels/alexnet/weights\n",
            "INFO:tensorflow:Assets written to: /content/drive/My Drive/ComputerVisionModels/alexnet/weights/assets\n"
          ]
        },
        {
          "output_type": "stream",
          "name": "stderr",
          "text": [
            "INFO:tensorflow:Assets written to: /content/drive/My Drive/ComputerVisionModels/alexnet/weights/assets\n"
          ]
        },
        {
          "output_type": "stream",
          "name": "stdout",
          "text": [
            "Epoch 91/100\n",
            "500/500 [==============================] - 6s 11ms/step - loss: 0.8887 - accuracy: 0.9198 - val_loss: 1.3257 - val_accuracy: 0.7825\n",
            "\n",
            "Epoch 00091: loss improved from 0.89289 to 0.88868, saving model to /content/drive/My Drive/ComputerVisionModels/alexnet/weights\n",
            "INFO:tensorflow:Assets written to: /content/drive/My Drive/ComputerVisionModels/alexnet/weights/assets\n"
          ]
        },
        {
          "output_type": "stream",
          "name": "stderr",
          "text": [
            "INFO:tensorflow:Assets written to: /content/drive/My Drive/ComputerVisionModels/alexnet/weights/assets\n"
          ]
        },
        {
          "output_type": "stream",
          "name": "stdout",
          "text": [
            "Epoch 92/100\n",
            "500/500 [==============================] - 6s 11ms/step - loss: 0.8790 - accuracy: 0.9237 - val_loss: 1.3294 - val_accuracy: 0.7757\n",
            "\n",
            "Epoch 00092: loss improved from 0.88868 to 0.87897, saving model to /content/drive/My Drive/ComputerVisionModels/alexnet/weights\n",
            "INFO:tensorflow:Assets written to: /content/drive/My Drive/ComputerVisionModels/alexnet/weights/assets\n"
          ]
        },
        {
          "output_type": "stream",
          "name": "stderr",
          "text": [
            "INFO:tensorflow:Assets written to: /content/drive/My Drive/ComputerVisionModels/alexnet/weights/assets\n"
          ]
        },
        {
          "output_type": "stream",
          "name": "stdout",
          "text": [
            "Epoch 93/100\n",
            "500/500 [==============================] - 6s 11ms/step - loss: 0.8681 - accuracy: 0.9253 - val_loss: 1.3085 - val_accuracy: 0.7809\n",
            "\n",
            "Epoch 00093: loss improved from 0.87897 to 0.86811, saving model to /content/drive/My Drive/ComputerVisionModels/alexnet/weights\n",
            "INFO:tensorflow:Assets written to: /content/drive/My Drive/ComputerVisionModels/alexnet/weights/assets\n"
          ]
        },
        {
          "output_type": "stream",
          "name": "stderr",
          "text": [
            "INFO:tensorflow:Assets written to: /content/drive/My Drive/ComputerVisionModels/alexnet/weights/assets\n"
          ]
        },
        {
          "output_type": "stream",
          "name": "stdout",
          "text": [
            "Epoch 94/100\n",
            "500/500 [==============================] - 5s 11ms/step - loss: 0.8619 - accuracy: 0.9255 - val_loss: 1.3433 - val_accuracy: 0.7680\n",
            "\n",
            "Epoch 00094: loss improved from 0.86811 to 0.86185, saving model to /content/drive/My Drive/ComputerVisionModels/alexnet/weights\n",
            "INFO:tensorflow:Assets written to: /content/drive/My Drive/ComputerVisionModels/alexnet/weights/assets\n"
          ]
        },
        {
          "output_type": "stream",
          "name": "stderr",
          "text": [
            "INFO:tensorflow:Assets written to: /content/drive/My Drive/ComputerVisionModels/alexnet/weights/assets\n"
          ]
        },
        {
          "output_type": "stream",
          "name": "stdout",
          "text": [
            "Epoch 95/100\n",
            "500/500 [==============================] - 6s 11ms/step - loss: 0.8527 - accuracy: 0.9280 - val_loss: 1.3048 - val_accuracy: 0.7828\n",
            "\n",
            "Epoch 00095: loss improved from 0.86185 to 0.85273, saving model to /content/drive/My Drive/ComputerVisionModels/alexnet/weights\n",
            "INFO:tensorflow:Assets written to: /content/drive/My Drive/ComputerVisionModels/alexnet/weights/assets\n"
          ]
        },
        {
          "output_type": "stream",
          "name": "stderr",
          "text": [
            "INFO:tensorflow:Assets written to: /content/drive/My Drive/ComputerVisionModels/alexnet/weights/assets\n"
          ]
        },
        {
          "output_type": "stream",
          "name": "stdout",
          "text": [
            "Epoch 96/100\n",
            "500/500 [==============================] - 6s 11ms/step - loss: 0.8427 - accuracy: 0.9306 - val_loss: 1.2914 - val_accuracy: 0.7868\n",
            "\n",
            "Epoch 00096: loss improved from 0.85273 to 0.84273, saving model to /content/drive/My Drive/ComputerVisionModels/alexnet/weights\n",
            "INFO:tensorflow:Assets written to: /content/drive/My Drive/ComputerVisionModels/alexnet/weights/assets\n"
          ]
        },
        {
          "output_type": "stream",
          "name": "stderr",
          "text": [
            "INFO:tensorflow:Assets written to: /content/drive/My Drive/ComputerVisionModels/alexnet/weights/assets\n"
          ]
        },
        {
          "output_type": "stream",
          "name": "stdout",
          "text": [
            "Epoch 97/100\n",
            "500/500 [==============================] - 5s 11ms/step - loss: 0.8387 - accuracy: 0.9308 - val_loss: 1.2850 - val_accuracy: 0.7841\n",
            "\n",
            "Epoch 00097: loss improved from 0.84273 to 0.83870, saving model to /content/drive/My Drive/ComputerVisionModels/alexnet/weights\n",
            "INFO:tensorflow:Assets written to: /content/drive/My Drive/ComputerVisionModels/alexnet/weights/assets\n"
          ]
        },
        {
          "output_type": "stream",
          "name": "stderr",
          "text": [
            "INFO:tensorflow:Assets written to: /content/drive/My Drive/ComputerVisionModels/alexnet/weights/assets\n"
          ]
        },
        {
          "output_type": "stream",
          "name": "stdout",
          "text": [
            "Epoch 98/100\n",
            "500/500 [==============================] - 5s 11ms/step - loss: 0.8257 - accuracy: 0.9336 - val_loss: 1.2600 - val_accuracy: 0.7890\n",
            "\n",
            "Epoch 00098: loss improved from 0.83870 to 0.82566, saving model to /content/drive/My Drive/ComputerVisionModels/alexnet/weights\n",
            "INFO:tensorflow:Assets written to: /content/drive/My Drive/ComputerVisionModels/alexnet/weights/assets\n"
          ]
        },
        {
          "output_type": "stream",
          "name": "stderr",
          "text": [
            "INFO:tensorflow:Assets written to: /content/drive/My Drive/ComputerVisionModels/alexnet/weights/assets\n"
          ]
        },
        {
          "output_type": "stream",
          "name": "stdout",
          "text": [
            "Epoch 99/100\n",
            "500/500 [==============================] - 6s 11ms/step - loss: 0.8238 - accuracy: 0.9333 - val_loss: 1.2860 - val_accuracy: 0.7859\n",
            "\n",
            "Epoch 00099: loss improved from 0.82566 to 0.82382, saving model to /content/drive/My Drive/ComputerVisionModels/alexnet/weights\n",
            "INFO:tensorflow:Assets written to: /content/drive/My Drive/ComputerVisionModels/alexnet/weights/assets\n"
          ]
        },
        {
          "output_type": "stream",
          "name": "stderr",
          "text": [
            "INFO:tensorflow:Assets written to: /content/drive/My Drive/ComputerVisionModels/alexnet/weights/assets\n"
          ]
        },
        {
          "output_type": "stream",
          "name": "stdout",
          "text": [
            "Epoch 100/100\n",
            "500/500 [==============================] - 5s 11ms/step - loss: 0.8126 - accuracy: 0.9348 - val_loss: 1.2924 - val_accuracy: 0.7789\n",
            "\n",
            "Epoch 00100: loss improved from 0.82382 to 0.81261, saving model to /content/drive/My Drive/ComputerVisionModels/alexnet/weights\n",
            "INFO:tensorflow:Assets written to: /content/drive/My Drive/ComputerVisionModels/alexnet/weights/assets\n"
          ]
        },
        {
          "output_type": "stream",
          "name": "stderr",
          "text": [
            "INFO:tensorflow:Assets written to: /content/drive/My Drive/ComputerVisionModels/alexnet/weights/assets\n"
          ]
        },
        {
          "output_type": "display_data",
          "data": {
            "image/png": "[encoded data removed]",
            "text/plain": [
              "<Figure size 432x288 with 1 Axes>"
            ]
          },
          "metadata": {
            "needs_background": "light"
          }
        }
      ]
    },
    {
      "cell_type": "markdown",
      "metadata": {
        "id": "nUhdLp-cB1_G"
      },
      "source": [
        "Here we test our model on test set and show how AlexNet predicts on sample images in the test set."
      ]
    },
    {
      "cell_type": "code",
      "metadata": {
        "id": "ok-a_tSrKW8w",
        "colab": {
          "base_uri": "https://localhost:8080/",
          "height": 1000
        },
        "outputId": "c56b5b94-9a9c-4034-fc95-0c568e1d0723"
      },
      "source": [
        "labels = [\"airplane\", \"automobile\", \"bird\", \"cat\", \"deer\", \"dog\", \"frog\", \"horse\", \"ship\", \"truck\"]\n",
        "\n",
        "pred = np.argmax(model.predict(test_x), axis = 1)\n",
        "\n",
        "print(\"Test Accuracy: {:.2%}\".format(np.sum(pred == test_y) / len(test_y)))\n",
        "\n",
        "sample_x = test_x[: 9]\n",
        "sample_y = test_y[: 9]\n",
        "\n",
        "fig = plt.figure(figsize = (10, 40))\n",
        "\n",
        "for i in range(len(sample_x)):\n",
        "    ax = fig.add_subplot(911 + i)\n",
        "    ax.imshow(test_x[i])\n",
        "\n",
        "    ax.set_title(\"Labelled as \" + labels[int(sample_y[i])] + \", classified as \" + labels[int(pred[i])])"
      ],
      "execution_count": 7,
      "outputs": [
        {
          "output_type": "stream",
          "name": "stdout",
          "text": [
            "Test Accuracy: 78.84%\n"
          ]
        },
        {
          "output_type": "display_data",
          "data": {
            "image/png": "[encoded data removed]",
            "text/plain": [
              "<Figure size 720x2880 with 9 Axes>"
            ]
          },
          "metadata": {
            "needs_background": "light"
          }
        }
      ]
    }
  ]
}