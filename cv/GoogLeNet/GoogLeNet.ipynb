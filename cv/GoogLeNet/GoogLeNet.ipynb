{
 "cells": [
  {
   "cell_type": "markdown",
   "metadata": {
    "id": "LikIUYuS_DyQ"
   },
   "source": [
    "#### GoogLeNet\n",
    "\n",
    "This notebook is an implement of [___Going deeper with convolutions___](https://arxiv.org/pdf/1409.4842.pdf) by Szedegy et al. The original model was trained for ImageNet dataset, but in this notebook we fine-tuned it for Cifar 10 dataset, which is a relatively smaller dataset and thus takes less space to store on clusters and less time for training. "
   ]
  },
  {
   "cell_type": "markdown",
   "metadata": {
    "id": "MfJAV5slGQq_"
   },
   "source": [
    "We first need to install and import all the dependent libraries in the session."
   ]
  },
  {
   "cell_type": "code",
   "execution_count": 1,
   "metadata": {
    "colab": {
     "base_uri": "https://localhost:8080/"
    },
    "id": "aVhDJW4GGVUT",
    "outputId": "66856870-e9da-4eab-d752-29b82882efed"
   },
   "outputs": [
    {
     "name": "stderr",
     "output_type": "stream",
     "text": [
      "2021-12-22 19:44:44.461432: I tensorflow/stream_executor/platform/default/dso_loader.cc:53] Successfully opened dynamic library libcudart.so.11.0\n",
      "2021-12-22 19:45:30.760224: I tensorflow/stream_executor/platform/default/dso_loader.cc:53] Successfully opened dynamic library libcuda.so.1\n",
      "2021-12-22 19:45:30.886331: I tensorflow/core/common_runtime/gpu/gpu_device.cc:1731] Found device 0 with properties: \n",
      "pciBusID: 0004:04:00.0 name: Tesla V100-SXM2-16GB computeCapability: 7.0\n",
      "coreClock: 1.53GHz coreCount: 80 deviceMemorySize: 15.00GiB deviceMemoryBandwidth: 836.37GiB/s\n",
      "2021-12-22 19:45:30.886362: I tensorflow/stream_executor/platform/default/dso_loader.cc:53] Successfully opened dynamic library libcudart.so.11.0\n",
      "2021-12-22 19:45:30.922065: I tensorflow/stream_executor/platform/default/dso_loader.cc:53] Successfully opened dynamic library libcublas.so.11\n",
      "2021-12-22 19:45:30.922119: I tensorflow/stream_executor/platform/default/dso_loader.cc:53] Successfully opened dynamic library libcublasLt.so.11\n",
      "2021-12-22 19:45:30.957272: I tensorflow/stream_executor/platform/default/dso_loader.cc:53] Successfully opened dynamic library libcufft.so.10\n",
      "2021-12-22 19:45:30.979641: I tensorflow/stream_executor/platform/default/dso_loader.cc:53] Successfully opened dynamic library libcurand.so.10\n",
      "2021-12-22 19:45:31.010396: I tensorflow/stream_executor/platform/default/dso_loader.cc:53] Successfully opened dynamic library libcusolver.so.11\n",
      "2021-12-22 19:45:31.036545: I tensorflow/stream_executor/platform/default/dso_loader.cc:53] Successfully opened dynamic library libcusparse.so.11\n",
      "2021-12-22 19:45:31.053344: I tensorflow/stream_executor/platform/default/dso_loader.cc:53] Successfully opened dynamic library libcudnn.so.8\n",
      "2021-12-22 19:45:31.056587: I tensorflow/core/common_runtime/gpu/gpu_device.cc:1869] Adding visible gpu devices: 0\n",
      "2021-12-22 19:45:31.056645: I tensorflow/stream_executor/platform/default/dso_loader.cc:53] Successfully opened dynamic library libcudart.so.11.0\n",
      "2021-12-22 19:45:31.907440: I tensorflow/core/common_runtime/gpu/gpu_device.cc:1256] Device interconnect StreamExecutor with strength 1 edge matrix:\n",
      "2021-12-22 19:45:31.907505: I tensorflow/core/common_runtime/gpu/gpu_device.cc:1262]      0 \n",
      "2021-12-22 19:45:31.907517: I tensorflow/core/common_runtime/gpu/gpu_device.cc:1275] 0:   N \n",
      "2021-12-22 19:45:31.911583: I tensorflow/core/common_runtime/gpu/gpu_device.cc:1416] Created TensorFlow device (/job:localhost/replica:0/task:0/device:GPU:0 with 14674 MB memory) -> physical GPU (device: 0, name: Tesla V100-SXM2-16GB, pci bus id: 0004:04:00.0, compute capability: 7.0)\n"
     ]
    }
   ],
   "source": [
    "import matplotlib.pyplot as plt\n",
    "import numpy as np\n",
    "import tensorflow as tf\n",
    "from tensorflow.compat.v1 import ConfigProto\n",
    "from tensorflow.compat.v1 import InteractiveSession\n",
    "from tensorflow.keras.layers import *\n",
    "from tensorflow.keras.regularizers import l2\n",
    "from tensorflow.keras import Model\n",
    "import tensorflow_datasets as tfds\n",
    "from sklearn.model_selection import train_test_split\n",
    "\n",
    "config = ConfigProto()\n",
    "config.gpu_options.allow_growth = True\n",
    "session = InteractiveSession(config=config)"
   ]
  },
  {
   "cell_type": "markdown",
   "metadata": {
    "id": "NLaTochAFfm8"
   },
   "source": [
    "In this part of the program, we get the Cifar 10 dataset using tensorflow dataset and separate it into training set and test set. "
   ]
  },
  {
   "cell_type": "code",
   "execution_count": 2,
   "metadata": {
    "colab": {
     "base_uri": "https://localhost:8080/",
     "height": 418,
     "referenced_widgets": [
      "ef34eedb880e47f0aafadb3120aea380",
      "5b03611d6e4f413880d2f78e8af48660",
      "86dcb6a2cce648308ce633ce58c823bf",
      "c7d2b12d99a94e6eac212b9dec6155e4",
      "1f09dfc329ee4495ae7c6e02c5ac4f20",
      "754dcdf1f0014f9e8ff92d079300a4b6",
      "095fd4b4b25f4e68b154989d6b464231",
      "f02b2aed8dee418c970acd806f6b44e3",
      "2ce666a9fb3142c6b890daedfac51fd3",
      "c1c7163ac2644d9abfafc901a7e81885",
      "584d88dea75345b6ae9a7d77bc9f21b0",
      "8bbe3653ecb7450d81dbb98b211534f7",
      "8a306137fd9a47d5b2714e40c3437921",
      "b1c87ac0da134e1ea63991e95ebfab6f",
      "b66f9b62ab494371bcf456a64335f285",
      "454a4447a407462ca644bc81137ed5f6",
      "bb44a87e7b0645188471745eb88a96b3",
      "1fd992ac91ea4405af96725a54cf67d8",
      "91b0df07c4aa48fd96490e89989c32a4",
      "4cf7e40f36224c54b3fdd772c4f04fed",
      "d5d5b7b6075c40aa85160b83292f8019",
      "f3c09692f9c74c589f7f0efe7d85f037",
      "ea7aa48c2fd941c197c0326a86477406",
      "bedd3e4bdc974d588cd706f7aa5c822e",
      "903e93a4bfcf4225918592e53af05af5",
      "0506b1f3ffe045af8df7624b765e4058",
      "388ce343e4414db794323d3d1ed8284a",
      "8803ce07a20340f587fbc19e3255c139",
      "1c10b1926b9b48249ed95dac10fd2b24",
      "f2d4da8079be4ac9b4e843fa60f4e64a",
      "db765227a4a74fd0ab29bed7b5f9a9f9",
      "4800278ddb4746aebaefedaed79f3579",
      "918cc0a5f0e14470b6ee30fd91ee6f01",
      "4b3d25b04a2242f3aea9f8b5cc789e62",
      "0528db7a4e6c4b7e9eceeefc7ae5b10e",
      "b20ec0d20c74431eaff3354b7de34266",
      "0aa807b0b17f4a689afb39b465107ad9",
      "ce7c4feb7a7a4421aacf1910d53534d0",
      "d3a53533ffab4a76ac9ada9169bfff28",
      "63cfa3dcb2c646b59e5b2dd938f404ce",
      "81e8f533e9134a1b8075f123ff1b7358",
      "2e27bbd74a24414b86e1da4a0ef640c8",
      "abcc9b9a982344a7bd83dba8d4539874",
      "c1c992efae044df39517b5c4973cef27",
      "d1f74e10bfd8422bae016f78d961f5e2",
      "c4ce107456c64fc78c02dc942fecb846",
      "b1eef36a9ffc41b6baf4e1e694ed69ac",
      "78ae403b10a24741bf3fbd9fd8423fa8",
      "d7e933cc705c4d1496f60b855fe441c4",
      "06da06ab509a45548823fbdc133a6eef",
      "decc1bda93694cb2810fd7ecf3a1ee8b",
      "fd0bf5bdb12f49e39b023a4b070ac169",
      "4ae75544b32a4e18abb8f804689a5c4b",
      "eb30d606d3c648c0baeb6983ec2fb048",
      "1ae399483646413eb54d43c50ead2be8",
      "edca3d397f2344a6b17ce9ae8d57ab34",
      "2762f59788ad4aed92a7dffebec14ac2",
      "e150ae3eeddc42498e5a5d792093eecd",
      "f257b3cc3a05417498147fd0c7f432ce",
      "75bbb328dbef4f8f8e106663ff6dd1c7",
      "b27c0d4d0de1434e99b9d01765a8bc13",
      "0ffd2946869e4ba59d0e9c1c4c4e94eb",
      "70194de5ff26462c923dfd8ed271e114",
      "97b4ab535dc84e2391b567c17250a566",
      "e4fd949cbbe3488588dedd0cba58cb3f",
      "1b67eaff6ad144db93eab03e3fe4e679",
      "4969ad24c0a04c7db5c8cdf1549b7007",
      "88cbc1cfddc0491499f08c13d2c6dd36",
      "5fb22e29634c4e2a9d7b2688536effef",
      "7a52b439688a44cba259f55fe3b7aa45",
      "fdc273dbf7744e18b54eea536fada0f7",
      "8fb6c52e547c40ac9066ef0c21507777",
      "00547a582ab94234a28584c5447e5ce7",
      "60afa2a56862455e9d8b5a3cbb56079c",
      "864acb9747f6406f91716d97467f3daf",
      "122d06b20f5f423e976f4c1ddd768aac",
      "7bad3800395d4abebcc3df2c2ac9a9f5"
     ]
    },
    "id": "B_ecmr8NFtIM",
    "outputId": "18bcff8d-d0d5-4a6c-c4a8-053ae4a8a5de",
    "scrolled": true
   },
   "outputs": [
    {
     "name": "stderr",
     "output_type": "stream",
     "text": [
      "2021-12-22 19:45:31.962649: I tensorflow/core/common_runtime/gpu/gpu_device.cc:1731] Found device 0 with properties: \n",
      "pciBusID: 0004:04:00.0 name: Tesla V100-SXM2-16GB computeCapability: 7.0\n",
      "coreClock: 1.53GHz coreCount: 80 deviceMemorySize: 15.00GiB deviceMemoryBandwidth: 836.37GiB/s\n",
      "2021-12-22 19:45:31.965065: I tensorflow/core/common_runtime/gpu/gpu_device.cc:1869] Adding visible gpu devices: 0\n",
      "2021-12-22 19:45:31.966438: I tensorflow/core/common_runtime/gpu/gpu_device.cc:1731] Found device 0 with properties: \n",
      "pciBusID: 0004:04:00.0 name: Tesla V100-SXM2-16GB computeCapability: 7.0\n",
      "coreClock: 1.53GHz coreCount: 80 deviceMemorySize: 15.00GiB deviceMemoryBandwidth: 836.37GiB/s\n",
      "2021-12-22 19:45:31.968861: I tensorflow/core/common_runtime/gpu/gpu_device.cc:1869] Adding visible gpu devices: 0\n",
      "2021-12-22 19:45:31.968882: I tensorflow/core/common_runtime/gpu/gpu_device.cc:1256] Device interconnect StreamExecutor with strength 1 edge matrix:\n",
      "2021-12-22 19:45:31.968890: I tensorflow/core/common_runtime/gpu/gpu_device.cc:1262]      0 \n",
      "2021-12-22 19:45:31.968896: I tensorflow/core/common_runtime/gpu/gpu_device.cc:1275] 0:   N \n",
      "2021-12-22 19:45:31.971363: I tensorflow/core/common_runtime/gpu/gpu_device.cc:1416] Created TensorFlow device (/job:localhost/replica:0/task:0/device:GPU:0 with 14674 MB memory) -> physical GPU (device: 0, name: Tesla V100-SXM2-16GB, pci bus id: 0004:04:00.0, compute capability: 7.0)\n",
      "2021-12-22 19:45:32.024268: I tensorflow/compiler/mlir/mlir_graph_optimization_pass.cc:176] None of the MLIR Optimization Passes are enabled (registered 2)\n",
      "2021-12-22 19:45:32.087977: I tensorflow/core/platform/profile_utils/cpu_utils.cc:114] CPU Frequency: 3783000000 Hz\n"
     ]
    }
   ],
   "source": [
    "def get_data():\n",
    "    train, test = tfds.as_numpy(tfds.load(\"cifar10\", split = [\"train\", \"test\"]\n",
    "                                          , shuffle_files = True, as_supervised = True, batch_size = -1))\n",
    "    \n",
    "    return train[0], test[0], train[1], test[1]\n",
    "\n",
    "train_x, test_x, train_y, test_y = get_data()\n",
    "train_x = train_x / 255.0\n",
    "test_x = test_x / 255.0"
   ]
  },
  {
   "cell_type": "markdown",
   "metadata": {
    "id": "WK2DZExoAPVk"
   },
   "source": [
    "This is function that constructs a GoogLeNet model. In ```inception``` function we constructs an inception block while in ```createGoogLeNet``` function we build a fine-tuned GoogLeNet model. The structure of the model is almost same with the original paper, but the kernel size and strides are adjusted to fit the smaller pictures of Cifar 10. The most important change is that we only keep four inception layers because the images are very small and deep network would only cause overfitting instead of increasing performance. We define ```weight_decay``` as the hyperparameters of the model for kernel regularization."
   ]
  },
  {
   "cell_type": "code",
   "execution_count": 3,
   "metadata": {
    "id": "71DVAiu4KFjz"
   },
   "outputs": [],
   "source": [
    "def inception(input, f1, f3r, f3, f5r, f5, pp, weight_decay, output = False, output_name = None):\n",
    "    x1 = Conv2D(kernel_size = 1, filters = f1, activation = \"relu\", padding = \"same\", kernel_regularizer = l2(weight_decay))(input)\n",
    "    \n",
    "    x2 = Conv2D(kernel_size = 1, filters = f3r, activation = \"relu\", padding = \"same\", kernel_regularizer = l2(weight_decay))(input)\n",
    "    x2 = BatchNormalization()(x2)\n",
    "    x2 = Conv2D(kernel_size = 3, filters = f3, activation = \"relu\", padding = \"same\", kernel_regularizer = l2(weight_decay))(x2)\n",
    "    \n",
    "    x3 = Conv2D(kernel_size = 1, filters = f5r, activation = \"relu\", padding = \"same\", kernel_regularizer = l2(weight_decay))(input)\n",
    "    x3 = BatchNormalization()(x3)\n",
    "    x3 = Conv2D(kernel_size = 5, filters = f5, activation = \"relu\", padding = \"same\", kernel_regularizer = l2(weight_decay))(x3)\n",
    "     \n",
    "    x4 = MaxPooling2D(pool_size = 3, padding = \"same\", strides = 1)(input)\n",
    "    x4 = Conv2D(kernel_size = 1, filters = pp, activation = \"relu\", padding = \"same\", kernel_regularizer = l2(weight_decay))(x4)\n",
    "    \n",
    "    x5 = None\n",
    "    \n",
    "    if output == True:\n",
    "        x5 = GlobalAveragePooling2D()(x)\n",
    "        x5 = Conv2D(kernel_size = 1, padding = \"same\", filters = 128, activation = \"relu\", kernel_regularizer = l2(weight_decay))(x5)\n",
    "        x5 = BatchNormalization()(x5)\n",
    "        x5 = Flatten()(x5)\n",
    "        x5 = Dense(1024, activation = \"relu\", kernel_regularizer = l2(weight_decay))(x5)\n",
    "        x5 = Dropout(rate = .7)(x5)\n",
    "        x5 = Dense(10, activation = \"softmax\", name = output_name)(x5)\n",
    "    \n",
    "    x = Concatenate()([x1, x2, x3, x4])\n",
    "    x = BatchNormalization()(x)\n",
    "    x = Dropout(.3)(x)\n",
    "    return x, x5\n",
    "\n",
    "def createGoogLeNet(weight_decay):\n",
    "    input = Input(shape = (32, 32, 3), name = \"image\")\n",
    "    x, _ = inception(input, 64, 96, 128, 16, 32, 32, weight_decay)\n",
    "    x, _ = inception(x, 128, 128, 192, 32, 96, 64, weight_decay)\n",
    "    x, _ = inception(x, 192, 96, 208, 16, 48, 64, weight_decay)\n",
    "    x, _ = inception(x, 160, 112, 224, 24, 64, 64, weight_decay)\n",
    "    x = GlobalAveragePooling2D()(x)\n",
    "    x = Flatten()(x)\n",
    "    x = Dropout(rate = .7)(x)\n",
    "    output = Dense(10, activation = \"softmax\", name = \"out\")(x)\n",
    "\n",
    "    model = tf.keras.Model(inputs = [input], outputs = [output], name = \"GoogLeNet\")\n",
    "\n",
    "    return model\n"
   ]
  },
  {
   "cell_type": "markdown",
   "metadata": {
    "id": "L7dpVq72RSei"
   },
   "source": [
    "This part trains the GoogLeNet model on Cifar 10 dataset. We tested several sets of hyperparameters and adopted one with the best validation loss. We then store the best weights of each training epochs on server so that we can continue training even if the session disconnects. We also add learning rate scheduler to slow down learning rate when validation loss stops increasing. We show the result of the training process with a graph about the training and validation accuracy for each epoch. "
   ]
  },
  {
   "cell_type": "code",
   "execution_count": 4,
   "metadata": {
    "colab": {
     "base_uri": "https://localhost:8080/",
     "height": 1000
    },
    "id": "FaLmu9n5ROzk",
    "outputId": "a80fc0d9-c1e7-4a5e-a5ab-3705804797b9"
   },
   "outputs": [
    {
     "name": "stdout",
     "output_type": "stream",
     "text": [
      "Epoch 1/50\n"
     ]
    },
    {
     "name": "stderr",
     "output_type": "stream",
     "text": [
      "2021-12-22 19:45:39.869573: I tensorflow/stream_executor/platform/default/dso_loader.cc:53] Successfully opened dynamic library libcudnn.so.8\n",
      "2021-12-22 19:45:40.666325: I tensorflow/stream_executor/cuda/cuda_dnn.cc:359] Loaded cuDNN version 8101\n",
      "2021-12-22 19:45:42.494394: I tensorflow/stream_executor/platform/default/dso_loader.cc:53] Successfully opened dynamic library libcublas.so.11\n",
      "2021-12-22 19:45:43.014344: I tensorflow/stream_executor/platform/default/dso_loader.cc:53] Successfully opened dynamic library libcublasLt.so.11\n"
     ]
    },
    {
     "name": "stdout",
     "output_type": "stream",
     "text": [
      "625/625 [==============================] - 58s 80ms/step - loss: 147.6950 - accuracy: 0.3061 - val_loss: 85.4922 - val_accuracy: 0.2477\n",
      "\n",
      "Epoch 00001: val_loss improved from inf to 85.49220, saving model to weights\n"
     ]
    },
    {
     "name": "stderr",
     "output_type": "stream",
     "text": [
      "2021-12-22 19:46:37.658819: W tensorflow/python/util/util.cc:348] Sets are not currently considered sequences, but this may change in the future, so consider avoiding using them.\n"
     ]
    },
    {
     "name": "stdout",
     "output_type": "stream",
     "text": [
      "INFO:tensorflow:Assets written to: weights/assets\n"
     ]
    },
    {
     "name": "stderr",
     "output_type": "stream",
     "text": [
      "INFO:tensorflow:Assets written to: weights/assets\n"
     ]
    },
    {
     "name": "stdout",
     "output_type": "stream",
     "text": [
      "Epoch 2/50\n",
      "625/625 [==============================] - 49s 79ms/step - loss: 54.6293 - accuracy: 0.4541 - val_loss: 33.2104 - val_accuracy: 0.3919\n",
      "\n",
      "Epoch 00002: val_loss improved from 85.49220 to 33.21042, saving model to weights\n",
      "INFO:tensorflow:Assets written to: weights/assets\n"
     ]
    },
    {
     "name": "stderr",
     "output_type": "stream",
     "text": [
      "INFO:tensorflow:Assets written to: weights/assets\n"
     ]
    },
    {
     "name": "stdout",
     "output_type": "stream",
     "text": [
      "Epoch 3/50\n",
      "625/625 [==============================] - 49s 79ms/step - loss: 21.8853 - accuracy: 0.5239 - val_loss: 13.9475 - val_accuracy: 0.4975\n",
      "\n",
      "Epoch 00003: val_loss improved from 33.21042 to 13.94749, saving model to weights\n",
      "INFO:tensorflow:Assets written to: weights/assets\n"
     ]
    },
    {
     "name": "stderr",
     "output_type": "stream",
     "text": [
      "INFO:tensorflow:Assets written to: weights/assets\n"
     ]
    },
    {
     "name": "stdout",
     "output_type": "stream",
     "text": [
      "Epoch 4/50\n",
      "625/625 [==============================] - 49s 79ms/step - loss: 9.8000 - accuracy: 0.5703 - val_loss: 6.8927 - val_accuracy: 0.5705\n",
      "\n",
      "Epoch 00004: val_loss improved from 13.94749 to 6.89270, saving model to weights\n",
      "INFO:tensorflow:Assets written to: weights/assets\n"
     ]
    },
    {
     "name": "stderr",
     "output_type": "stream",
     "text": [
      "INFO:tensorflow:Assets written to: weights/assets\n"
     ]
    },
    {
     "name": "stdout",
     "output_type": "stream",
     "text": [
      "Epoch 5/50\n",
      "625/625 [==============================] - 49s 79ms/step - loss: 5.3115 - accuracy: 0.6111 - val_loss: 4.1905 - val_accuracy: 0.6182\n",
      "\n",
      "Epoch 00005: val_loss improved from 6.89270 to 4.19049, saving model to weights\n",
      "INFO:tensorflow:Assets written to: weights/assets\n"
     ]
    },
    {
     "name": "stderr",
     "output_type": "stream",
     "text": [
      "INFO:tensorflow:Assets written to: weights/assets\n"
     ]
    },
    {
     "name": "stdout",
     "output_type": "stream",
     "text": [
      "Epoch 6/50\n",
      "625/625 [==============================] - 49s 79ms/step - loss: 3.5115 - accuracy: 0.6427 - val_loss: 3.0655 - val_accuracy: 0.6323\n",
      "\n",
      "Epoch 00006: val_loss improved from 4.19049 to 3.06554, saving model to weights\n",
      "INFO:tensorflow:Assets written to: weights/assets\n"
     ]
    },
    {
     "name": "stderr",
     "output_type": "stream",
     "text": [
      "INFO:tensorflow:Assets written to: weights/assets\n"
     ]
    },
    {
     "name": "stdout",
     "output_type": "stream",
     "text": [
      "Epoch 7/50\n",
      "625/625 [==============================] - 49s 79ms/step - loss: 2.6559 - accuracy: 0.6750 - val_loss: 2.5277 - val_accuracy: 0.6390\n",
      "\n",
      "Epoch 00007: val_loss improved from 3.06554 to 2.52769, saving model to weights\n",
      "INFO:tensorflow:Assets written to: weights/assets\n"
     ]
    },
    {
     "name": "stderr",
     "output_type": "stream",
     "text": [
      "INFO:tensorflow:Assets written to: weights/assets\n"
     ]
    },
    {
     "name": "stdout",
     "output_type": "stream",
     "text": [
      "Epoch 8/50\n",
      "625/625 [==============================] - 49s 79ms/step - loss: 2.1831 - accuracy: 0.6969 - val_loss: 2.2280 - val_accuracy: 0.6177\n",
      "\n",
      "Epoch 00008: val_loss improved from 2.52769 to 2.22801, saving model to weights\n",
      "INFO:tensorflow:Assets written to: weights/assets\n"
     ]
    },
    {
     "name": "stderr",
     "output_type": "stream",
     "text": [
      "INFO:tensorflow:Assets written to: weights/assets\n"
     ]
    },
    {
     "name": "stdout",
     "output_type": "stream",
     "text": [
      "Epoch 9/50\n",
      "625/625 [==============================] - 49s 79ms/step - loss: 1.8632 - accuracy: 0.7180 - val_loss: 1.7515 - val_accuracy: 0.7223\n",
      "\n",
      "Epoch 00009: val_loss improved from 2.22801 to 1.75152, saving model to weights\n",
      "INFO:tensorflow:Assets written to: weights/assets\n"
     ]
    },
    {
     "name": "stderr",
     "output_type": "stream",
     "text": [
      "INFO:tensorflow:Assets written to: weights/assets\n"
     ]
    },
    {
     "name": "stdout",
     "output_type": "stream",
     "text": [
      "Epoch 10/50\n",
      "625/625 [==============================] - 49s 79ms/step - loss: 1.6330 - accuracy: 0.7394 - val_loss: 1.6163 - val_accuracy: 0.7098\n",
      "\n",
      "Epoch 00010: val_loss improved from 1.75152 to 1.61631, saving model to weights\n",
      "INFO:tensorflow:Assets written to: weights/assets\n"
     ]
    },
    {
     "name": "stderr",
     "output_type": "stream",
     "text": [
      "INFO:tensorflow:Assets written to: weights/assets\n"
     ]
    },
    {
     "name": "stdout",
     "output_type": "stream",
     "text": [
      "Epoch 11/50\n",
      "625/625 [==============================] - 49s 79ms/step - loss: 1.4708 - accuracy: 0.7543 - val_loss: 1.5045 - val_accuracy: 0.7106\n",
      "\n",
      "Epoch 00011: val_loss improved from 1.61631 to 1.50449, saving model to weights\n",
      "INFO:tensorflow:Assets written to: weights/assets\n"
     ]
    },
    {
     "name": "stderr",
     "output_type": "stream",
     "text": [
      "INFO:tensorflow:Assets written to: weights/assets\n"
     ]
    },
    {
     "name": "stdout",
     "output_type": "stream",
     "text": [
      "Epoch 12/50\n",
      "625/625 [==============================] - 49s 79ms/step - loss: 1.3422 - accuracy: 0.7664 - val_loss: 1.3968 - val_accuracy: 0.7296\n",
      "\n",
      "Epoch 00012: val_loss improved from 1.50449 to 1.39682, saving model to weights\n",
      "INFO:tensorflow:Assets written to: weights/assets\n"
     ]
    },
    {
     "name": "stderr",
     "output_type": "stream",
     "text": [
      "INFO:tensorflow:Assets written to: weights/assets\n"
     ]
    },
    {
     "name": "stdout",
     "output_type": "stream",
     "text": [
      "Epoch 13/50\n",
      "625/625 [==============================] - 49s 79ms/step - loss: 1.2382 - accuracy: 0.7785 - val_loss: 1.3748 - val_accuracy: 0.7200\n",
      "\n",
      "Epoch 00013: val_loss improved from 1.39682 to 1.37483, saving model to weights\n",
      "INFO:tensorflow:Assets written to: weights/assets\n"
     ]
    },
    {
     "name": "stderr",
     "output_type": "stream",
     "text": [
      "INFO:tensorflow:Assets written to: weights/assets\n"
     ]
    },
    {
     "name": "stdout",
     "output_type": "stream",
     "text": [
      "Epoch 14/50\n",
      "625/625 [==============================] - 49s 79ms/step - loss: 1.1538 - accuracy: 0.7876 - val_loss: 1.3691 - val_accuracy: 0.7155\n",
      "\n",
      "Epoch 00014: val_loss improved from 1.37483 to 1.36911, saving model to weights\n",
      "INFO:tensorflow:Assets written to: weights/assets\n"
     ]
    },
    {
     "name": "stderr",
     "output_type": "stream",
     "text": [
      "INFO:tensorflow:Assets written to: weights/assets\n"
     ]
    },
    {
     "name": "stdout",
     "output_type": "stream",
     "text": [
      "Epoch 15/50\n",
      "625/625 [==============================] - 49s 79ms/step - loss: 1.0985 - accuracy: 0.7925 - val_loss: 1.1225 - val_accuracy: 0.7773\n",
      "\n",
      "Epoch 00015: val_loss improved from 1.36911 to 1.12250, saving model to weights\n",
      "INFO:tensorflow:Assets written to: weights/assets\n"
     ]
    },
    {
     "name": "stderr",
     "output_type": "stream",
     "text": [
      "INFO:tensorflow:Assets written to: weights/assets\n"
     ]
    },
    {
     "name": "stdout",
     "output_type": "stream",
     "text": [
      "Epoch 16/50\n",
      "625/625 [==============================] - 49s 79ms/step - loss: 1.0457 - accuracy: 0.8016 - val_loss: 1.0847 - val_accuracy: 0.7797\n",
      "\n",
      "Epoch 00016: val_loss improved from 1.12250 to 1.08470, saving model to weights\n",
      "INFO:tensorflow:Assets written to: weights/assets\n"
     ]
    },
    {
     "name": "stderr",
     "output_type": "stream",
     "text": [
      "INFO:tensorflow:Assets written to: weights/assets\n"
     ]
    },
    {
     "name": "stdout",
     "output_type": "stream",
     "text": [
      "Epoch 17/50\n",
      "625/625 [==============================] - 49s 79ms/step - loss: 0.9999 - accuracy: 0.8084 - val_loss: 1.1121 - val_accuracy: 0.7546\n",
      "\n",
      "Epoch 00017: val_loss did not improve from 1.08470\n",
      "Epoch 18/50\n",
      "625/625 [==============================] - 49s 79ms/step - loss: 0.9613 - accuracy: 0.8140 - val_loss: 1.0803 - val_accuracy: 0.7660\n",
      "\n",
      "Epoch 00018: val_loss improved from 1.08470 to 1.08026, saving model to weights\n",
      "INFO:tensorflow:Assets written to: weights/assets\n"
     ]
    },
    {
     "name": "stderr",
     "output_type": "stream",
     "text": [
      "INFO:tensorflow:Assets written to: weights/assets\n"
     ]
    },
    {
     "name": "stdout",
     "output_type": "stream",
     "text": [
      "Epoch 19/50\n",
      "625/625 [==============================] - 49s 79ms/step - loss: 0.9291 - accuracy: 0.8202 - val_loss: 1.0464 - val_accuracy: 0.7742\n",
      "\n",
      "Epoch 00019: val_loss improved from 1.08026 to 1.04644, saving model to weights\n",
      "INFO:tensorflow:Assets written to: weights/assets\n"
     ]
    },
    {
     "name": "stderr",
     "output_type": "stream",
     "text": [
      "INFO:tensorflow:Assets written to: weights/assets\n"
     ]
    },
    {
     "name": "stdout",
     "output_type": "stream",
     "text": [
      "Epoch 20/50\n",
      "625/625 [==============================] - 49s 79ms/step - loss: 0.8964 - accuracy: 0.8251 - val_loss: 1.0311 - val_accuracy: 0.7657\n",
      "\n",
      "Epoch 00020: val_loss improved from 1.04644 to 1.03111, saving model to weights\n",
      "INFO:tensorflow:Assets written to: weights/assets\n"
     ]
    },
    {
     "name": "stderr",
     "output_type": "stream",
     "text": [
      "INFO:tensorflow:Assets written to: weights/assets\n"
     ]
    },
    {
     "name": "stdout",
     "output_type": "stream",
     "text": [
      "Epoch 21/50\n",
      "625/625 [==============================] - 49s 79ms/step - loss: 0.8768 - accuracy: 0.8278 - val_loss: 1.0417 - val_accuracy: 0.7689\n",
      "\n",
      "Epoch 00021: val_loss did not improve from 1.03111\n",
      "Epoch 22/50\n",
      "625/625 [==============================] - 49s 78ms/step - loss: 0.8537 - accuracy: 0.8318 - val_loss: 0.9628 - val_accuracy: 0.7915\n",
      "\n",
      "Epoch 00022: val_loss improved from 1.03111 to 0.96284, saving model to weights\n",
      "INFO:tensorflow:Assets written to: weights/assets\n"
     ]
    },
    {
     "name": "stderr",
     "output_type": "stream",
     "text": [
      "INFO:tensorflow:Assets written to: weights/assets\n"
     ]
    },
    {
     "name": "stdout",
     "output_type": "stream",
     "text": [
      "Epoch 23/50\n",
      "625/625 [==============================] - 49s 79ms/step - loss: 0.8327 - accuracy: 0.8359 - val_loss: 0.9621 - val_accuracy: 0.7933\n",
      "\n",
      "Epoch 00023: val_loss improved from 0.96284 to 0.96206, saving model to weights\n",
      "INFO:tensorflow:Assets written to: weights/assets\n"
     ]
    },
    {
     "name": "stderr",
     "output_type": "stream",
     "text": [
      "INFO:tensorflow:Assets written to: weights/assets\n"
     ]
    },
    {
     "name": "stdout",
     "output_type": "stream",
     "text": [
      "Epoch 24/50\n",
      "625/625 [==============================] - 49s 79ms/step - loss: 0.8177 - accuracy: 0.8406 - val_loss: 1.0086 - val_accuracy: 0.7775\n",
      "\n",
      "Epoch 00024: val_loss did not improve from 0.96206\n",
      "Epoch 25/50\n",
      "625/625 [==============================] - 49s 78ms/step - loss: 0.8086 - accuracy: 0.8408 - val_loss: 0.8912 - val_accuracy: 0.8033\n",
      "\n",
      "Epoch 00025: val_loss improved from 0.96206 to 0.89119, saving model to weights\n",
      "INFO:tensorflow:Assets written to: weights/assets\n"
     ]
    },
    {
     "name": "stderr",
     "output_type": "stream",
     "text": [
      "INFO:tensorflow:Assets written to: weights/assets\n"
     ]
    },
    {
     "name": "stdout",
     "output_type": "stream",
     "text": [
      "Epoch 26/50\n",
      "625/625 [==============================] - 49s 79ms/step - loss: 0.7892 - accuracy: 0.8469 - val_loss: 0.8986 - val_accuracy: 0.8079\n",
      "\n",
      "Epoch 00026: val_loss did not improve from 0.89119\n",
      "Epoch 27/50\n",
      "625/625 [==============================] - 49s 78ms/step - loss: 0.7755 - accuracy: 0.8476 - val_loss: 1.0105 - val_accuracy: 0.7731\n",
      "\n",
      "Epoch 00027: val_loss did not improve from 0.89119\n",
      "Epoch 28/50\n",
      "625/625 [==============================] - 49s 79ms/step - loss: 0.7643 - accuracy: 0.8523 - val_loss: 0.9830 - val_accuracy: 0.7790\n",
      "\n",
      "Epoch 00028: val_loss did not improve from 0.89119\n",
      "Epoch 29/50\n",
      "625/625 [==============================] - 49s 78ms/step - loss: 0.7519 - accuracy: 0.8541 - val_loss: 0.9162 - val_accuracy: 0.8004\n",
      "\n",
      "Epoch 00029: val_loss did not improve from 0.89119\n",
      "Epoch 30/50\n",
      "625/625 [==============================] - 49s 78ms/step - loss: 0.7435 - accuracy: 0.8551 - val_loss: 0.8504 - val_accuracy: 0.8202\n",
      "\n",
      "Epoch 00030: val_loss improved from 0.89119 to 0.85041, saving model to weights\n",
      "INFO:tensorflow:Assets written to: weights/assets\n"
     ]
    },
    {
     "name": "stderr",
     "output_type": "stream",
     "text": [
      "INFO:tensorflow:Assets written to: weights/assets\n"
     ]
    },
    {
     "name": "stdout",
     "output_type": "stream",
     "text": [
      "Epoch 31/50\n",
      "625/625 [==============================] - 49s 78ms/step - loss: 0.7352 - accuracy: 0.8561 - val_loss: 0.9266 - val_accuracy: 0.7863\n",
      "\n",
      "Epoch 00031: val_loss did not improve from 0.85041\n",
      "Epoch 32/50\n",
      "625/625 [==============================] - 49s 78ms/step - loss: 0.7233 - accuracy: 0.8619 - val_loss: 0.9250 - val_accuracy: 0.7954\n",
      "\n",
      "Epoch 00032: val_loss did not improve from 0.85041\n",
      "Epoch 33/50\n",
      "625/625 [==============================] - 49s 78ms/step - loss: 0.7190 - accuracy: 0.8597 - val_loss: 0.9072 - val_accuracy: 0.7990\n",
      "\n",
      "Epoch 00033: val_loss did not improve from 0.85041\n",
      "Epoch 34/50\n",
      "625/625 [==============================] - 49s 78ms/step - loss: 0.7117 - accuracy: 0.8634 - val_loss: 0.8921 - val_accuracy: 0.8023\n",
      "\n",
      "Epoch 00034: val_loss did not improve from 0.85041\n",
      "Epoch 35/50\n",
      "625/625 [==============================] - 49s 79ms/step - loss: 0.7053 - accuracy: 0.8630 - val_loss: 0.8572 - val_accuracy: 0.8066\n",
      "\n",
      "Epoch 00035: val_loss did not improve from 0.85041\n",
      "Epoch 36/50\n",
      "625/625 [==============================] - 49s 78ms/step - loss: 0.5880 - accuracy: 0.9082 - val_loss: 0.7243 - val_accuracy: 0.8580\n",
      "\n",
      "Epoch 00036: val_loss improved from 0.85041 to 0.72426, saving model to weights\n",
      "INFO:tensorflow:Assets written to: weights/assets\n"
     ]
    },
    {
     "name": "stderr",
     "output_type": "stream",
     "text": [
      "INFO:tensorflow:Assets written to: weights/assets\n"
     ]
    },
    {
     "name": "stdout",
     "output_type": "stream",
     "text": [
      "Epoch 37/50\n",
      "625/625 [==============================] - 49s 78ms/step - loss: 0.5463 - accuracy: 0.9221 - val_loss: 0.7102 - val_accuracy: 0.8606\n",
      "\n",
      "Epoch 00037: val_loss improved from 0.72426 to 0.71024, saving model to weights\n",
      "INFO:tensorflow:Assets written to: weights/assets\n"
     ]
    },
    {
     "name": "stderr",
     "output_type": "stream",
     "text": [
      "INFO:tensorflow:Assets written to: weights/assets\n"
     ]
    },
    {
     "name": "stdout",
     "output_type": "stream",
     "text": [
      "Epoch 38/50\n",
      "625/625 [==============================] - 49s 78ms/step - loss: 0.5291 - accuracy: 0.9259 - val_loss: 0.7076 - val_accuracy: 0.8597\n",
      "\n",
      "Epoch 00038: val_loss improved from 0.71024 to 0.70762, saving model to weights\n",
      "INFO:tensorflow:Assets written to: weights/assets\n"
     ]
    },
    {
     "name": "stderr",
     "output_type": "stream",
     "text": [
      "INFO:tensorflow:Assets written to: weights/assets\n"
     ]
    },
    {
     "name": "stdout",
     "output_type": "stream",
     "text": [
      "Epoch 39/50\n",
      "625/625 [==============================] - 49s 79ms/step - loss: 0.5149 - accuracy: 0.9309 - val_loss: 0.6898 - val_accuracy: 0.8655\n",
      "\n",
      "Epoch 00039: val_loss improved from 0.70762 to 0.68976, saving model to weights\n",
      "INFO:tensorflow:Assets written to: weights/assets\n"
     ]
    },
    {
     "name": "stderr",
     "output_type": "stream",
     "text": [
      "INFO:tensorflow:Assets written to: weights/assets\n"
     ]
    },
    {
     "name": "stdout",
     "output_type": "stream",
     "text": [
      "Epoch 40/50\n",
      "625/625 [==============================] - 49s 79ms/step - loss: 0.5033 - accuracy: 0.9351 - val_loss: 0.6920 - val_accuracy: 0.8620\n",
      "\n",
      "Epoch 00040: val_loss did not improve from 0.68976\n",
      "Epoch 41/50\n",
      "625/625 [==============================] - 49s 79ms/step - loss: 0.4936 - accuracy: 0.9353 - val_loss: 0.6939 - val_accuracy: 0.8616\n",
      "\n",
      "Epoch 00041: val_loss did not improve from 0.68976\n",
      "Epoch 42/50\n",
      "625/625 [==============================] - 49s 79ms/step - loss: 0.4874 - accuracy: 0.9355 - val_loss: 0.6873 - val_accuracy: 0.8637\n",
      "\n",
      "Epoch 00042: val_loss improved from 0.68976 to 0.68730, saving model to weights\n",
      "INFO:tensorflow:Assets written to: weights/assets\n"
     ]
    },
    {
     "name": "stderr",
     "output_type": "stream",
     "text": [
      "INFO:tensorflow:Assets written to: weights/assets\n"
     ]
    },
    {
     "name": "stdout",
     "output_type": "stream",
     "text": [
      "Epoch 43/50\n",
      "625/625 [==============================] - 49s 79ms/step - loss: 0.4795 - accuracy: 0.9377 - val_loss: 0.6994 - val_accuracy: 0.8578\n",
      "\n",
      "Epoch 00043: val_loss did not improve from 0.68730\n",
      "Epoch 44/50\n",
      "625/625 [==============================] - 49s 79ms/step - loss: 0.4714 - accuracy: 0.9395 - val_loss: 0.6645 - val_accuracy: 0.8684\n",
      "\n",
      "Epoch 00044: val_loss improved from 0.68730 to 0.66445, saving model to weights\n",
      "INFO:tensorflow:Assets written to: weights/assets\n"
     ]
    },
    {
     "name": "stderr",
     "output_type": "stream",
     "text": [
      "INFO:tensorflow:Assets written to: weights/assets\n"
     ]
    },
    {
     "name": "stdout",
     "output_type": "stream",
     "text": [
      "Epoch 45/50\n",
      "625/625 [==============================] - 49s 79ms/step - loss: 0.4651 - accuracy: 0.9429 - val_loss: 0.6747 - val_accuracy: 0.8633\n",
      "\n",
      "Epoch 00045: val_loss did not improve from 0.66445\n",
      "Epoch 46/50\n",
      "625/625 [==============================] - 49s 78ms/step - loss: 0.4582 - accuracy: 0.9440 - val_loss: 0.6873 - val_accuracy: 0.8587\n",
      "\n",
      "Epoch 00046: val_loss did not improve from 0.66445\n",
      "Epoch 47/50\n",
      "625/625 [==============================] - 49s 78ms/step - loss: 0.4540 - accuracy: 0.9454 - val_loss: 0.6794 - val_accuracy: 0.8618\n",
      "\n",
      "Epoch 00047: val_loss did not improve from 0.66445\n",
      "Epoch 48/50\n",
      "625/625 [==============================] - 49s 79ms/step - loss: 0.4515 - accuracy: 0.9459 - val_loss: 0.7091 - val_accuracy: 0.8520\n",
      "\n",
      "Epoch 00048: val_loss did not improve from 0.66445\n",
      "Epoch 49/50\n",
      "625/625 [==============================] - 49s 79ms/step - loss: 0.4457 - accuracy: 0.9460 - val_loss: 0.6701 - val_accuracy: 0.8640\n",
      "\n",
      "Epoch 00049: val_loss did not improve from 0.66445\n",
      "Epoch 50/50\n",
      "625/625 [==============================] - 49s 78ms/step - loss: 0.4298 - accuracy: 0.9539 - val_loss: 0.6681 - val_accuracy: 0.8659\n",
      "\n",
      "Epoch 00050: val_loss did not improve from 0.66445\n"
     ]
    },
    {
     "data": {
      "image/png": "[encoded data removed]",
      "text/plain": [
       "<Figure size 432x288 with 1 Axes>"
      ]
     },
     "metadata": {
      "needs_background": "light"
     },
     "output_type": "display_data"
    }
   ],
   "source": [
    "# Set a checkpoint to save weights\n",
    "cp = tf.keras.callbacks.ModelCheckpoint(\"weights\", monitor = \"val_loss\", verbose = 1, save_best_only = True, mode = \"auto\")\n",
    "lr = tf.keras.callbacks.ReduceLROnPlateau(monitor='val_loss', factor=0.1, patience=5, verbose=0, mode='auto', min_delta=0.0001, cooldown=0, min_lr=0)\n",
    "\n",
    "model = createGoogLeNet(.1)\n",
    "model.compile(optimizer = tf.keras.optimizers.Adam(learning_rate = 5e-5),\n",
    "              loss = tf.keras.losses.SparseCategoricalCrossentropy(),\n",
    "              metrics = [\"accuracy\"])\n",
    "\n",
    "# We can use the existing data if the training process has started\n",
    "# model.load_weights(\"weights\") \n",
    "\n",
    "history = model.fit({\"image\": train_x}, {\"out\": train_y}, epochs = 50, validation_split = .2, callbacks = [cp, lr], batch_size = 64)\n",
    "\n",
    "plt.plot(history.history['accuracy'])\n",
    "plt.plot(history.history['val_accuracy'])\n",
    "plt.title('model accuracy')\n",
    "plt.ylabel('accuracy')\n",
    "plt.xlabel('epoch')\n",
    "plt.legend(['train', 'val'], loc = 'upper left')\n",
    "plt.show()\n"
   ]
  },
  {
   "cell_type": "markdown",
   "metadata": {
    "id": "nUhdLp-cB1_G"
   },
   "source": [
    "Here we test our model on test set and show how GoogLeNet predicts on sample images in the test set."
   ]
  },
  {
   "cell_type": "code",
   "execution_count": 5,
   "metadata": {
    "colab": {
     "base_uri": "https://localhost:8080/",
     "height": 409
    },
    "id": "ok-a_tSrKW8w",
    "outputId": "d6cfd62e-84d6-4efc-f979-b43c1c9c557c"
   },
   "outputs": [
    {
     "name": "stdout",
     "output_type": "stream",
     "text": [
      "Test Accuracy: 85.44%\n"
     ]
    },
    {
     "data": {
      "image/png": "[encoded data removed]",
      "text/plain": [
       "<Figure size 720x2880 with 9 Axes>"
      ]
     },
     "metadata": {
      "needs_background": "light"
     },
     "output_type": "display_data"
    }
   ],
   "source": [
    "labels = [\"airplane\", \"automobile\", \"bird\", \"cat\", \"deer\", \"dog\", \"frog\", \"horse\", \"ship\", \"truck\"]\n",
    "\n",
    "pred = np.argmax(model.predict(test_x), axis = 1)\n",
    "\n",
    "print(\"Test Accuracy: {:.2%}\".format(np.sum(pred == test_y) / len(test_y)))\n",
    "\n",
    "sample_data = test_x[: 9]\n",
    "sample_label = test_y[: 9]\n",
    "\n",
    "fig = plt.figure(figsize = (10, 40))\n",
    "\n",
    "for i in range(len(sample_data)):\n",
    "    ax = fig.add_subplot(911 + i)\n",
    "    ax.imshow(test_x[i])\n",
    "\n",
    "    ax.set_title(\"Labelled as \" + labels[int(sample_label[i])] + \", classified as \" + labels[int(pred[i])])"
   ]
  }
 ],
 "metadata": {
  "accelerator": "GPU",
  "colab": {
   "collapsed_sections": [],
   "machine_shape": "hm",
   "name": "GoogLeNet.ipynb",
   "provenance": []
  },
  "kernelspec": {
   "display_name": "Python 3 (ipykernel)",
   "language": "python",
   "name": "python3"
  },
  "language_info": {
   "codemirror_mode": {
    "name": "ipython",
    "version": 3
   },
   "file_extension": ".py",
   "mimetype": "text/x-python",
   "name": "python",
   "nbconvert_exporter": "python",
   "pygments_lexer": "ipython3",
   "version": "3.8.0"
  },
  "widgets": {
   "application/vnd.jupyter.widget-state+json": {
    "00547a582ab94234a28584c5447e5ce7": {
     "model_module": "@jupyter-widgets/base",
     "model_module_version": "1.2.0",
     "model_name": "LayoutModel",
     "state": {
      "_model_module": "@jupyter-widgets/base",
      "_model_module_version": "1.2.0",
      "_model_name": "LayoutModel",
      "_view_count": null,
      "_view_module": "@jupyter-widgets/base",
      "_view_module_version": "1.2.0",
      "_view_name": "LayoutView",
      "align_content": null,
      "align_items": null,
      "align_self": null,
      "border": null,
      "bottom": null,
      "display": null,
      "flex": null,
      "flex_flow": null,
      "grid_area": null,
      "grid_auto_columns": null,
      "grid_auto_flow": null,
      "grid_auto_rows": null,
      "grid_column": null,
      "grid_gap": null,
      "grid_row": null,
      "grid_template_areas": null,
      "grid_template_columns": null,
      "grid_template_rows": null,
      "height": null,
      "justify_content": null,
      "justify_items": null,
      "left": null,
      "margin": null,
      "max_height": null,
      "max_width": null,
      "min_height": null,
      "min_width": null,
      "object_fit": null,
      "object_position": null,
      "order": null,
      "overflow": null,
      "overflow_x": null,
      "overflow_y": null,
      "padding": null,
      "right": null,
      "top": null,
      "visibility": null,
      "width": null
     }
    },
    "0506b1f3ffe045af8df7624b765e4058": {
     "model_module": "@jupyter-widgets/controls",
     "model_module_version": "1.5.0",
     "model_name": "FloatProgressModel",
     "state": {
      "_dom_classes": [],
      "_model_module": "@jupyter-widgets/controls",
      "_model_module_version": "1.5.0",
      "_model_name": "FloatProgressModel",
      "_view_count": null,
      "_view_module": "@jupyter-widgets/controls",
      "_view_module_version": "1.5.0",
      "_view_name": "ProgressView",
      "bar_style": "success",
      "description": "",
      "description_tooltip": null,
      "layout": "IPY_MODEL_db765227a4a74fd0ab29bed7b5f9a9f9",
      "max": 1,
      "min": 0,
      "orientation": "horizontal",
      "style": "IPY_MODEL_f2d4da8079be4ac9b4e843fa60f4e64a",
      "value": 1
     }
    },
    "0528db7a4e6c4b7e9eceeefc7ae5b10e": {
     "model_module": "@jupyter-widgets/base",
     "model_module_version": "1.2.0",
     "model_name": "LayoutModel",
     "state": {
      "_model_module": "@jupyter-widgets/base",
      "_model_module_version": "1.2.0",
      "_model_name": "LayoutModel",
      "_view_count": null,
      "_view_module": "@jupyter-widgets/base",
      "_view_module_version": "1.2.0",
      "_view_name": "LayoutView",
      "align_content": null,
      "align_items": null,
      "align_self": null,
      "border": null,
      "bottom": null,
      "display": null,
      "flex": null,
      "flex_flow": null,
      "grid_area": null,
      "grid_auto_columns": null,
      "grid_auto_flow": null,
      "grid_auto_rows": null,
      "grid_column": null,
      "grid_gap": null,
      "grid_row": null,
      "grid_template_areas": null,
      "grid_template_columns": null,
      "grid_template_rows": null,
      "height": null,
      "justify_content": null,
      "justify_items": null,
      "left": null,
      "margin": null,
      "max_height": null,
      "max_width": null,
      "min_height": null,
      "min_width": null,
      "object_fit": null,
      "object_position": null,
      "order": null,
      "overflow": null,
      "overflow_x": null,
      "overflow_y": null,
      "padding": null,
      "right": null,
      "top": null,
      "visibility": null,
      "width": null
     }
    },
    "06da06ab509a45548823fbdc133a6eef": {
     "model_module": "@jupyter-widgets/controls",
     "model_module_version": "1.5.0",
     "model_name": "DescriptionStyleModel",
     "state": {
      "_model_module": "@jupyter-widgets/controls",
      "_model_module_version": "1.5.0",
      "_model_name": "DescriptionStyleModel",
      "_view_count": null,
      "_view_module": "@jupyter-widgets/base",
      "_view_module_version": "1.2.0",
      "_view_name": "StyleView",
      "description_width": ""
     }
    },
    "095fd4b4b25f4e68b154989d6b464231": {
     "model_module": "@jupyter-widgets/base",
     "model_module_version": "1.2.0",
     "model_name": "LayoutModel",
     "state": {
      "_model_module": "@jupyter-widgets/base",
      "_model_module_version": "1.2.0",
      "_model_name": "LayoutModel",
      "_view_count": null,
      "_view_module": "@jupyter-widgets/base",
      "_view_module_version": "1.2.0",
      "_view_name": "LayoutView",
      "align_content": null,
      "align_items": null,
      "align_self": null,
      "border": null,
      "bottom": null,
      "display": null,
      "flex": null,
      "flex_flow": null,
      "grid_area": null,
      "grid_auto_columns": null,
      "grid_auto_flow": null,
      "grid_auto_rows": null,
      "grid_column": null,
      "grid_gap": null,
      "grid_row": null,
      "grid_template_areas": null,
      "grid_template_columns": null,
      "grid_template_rows": null,
      "height": null,
      "justify_content": null,
      "justify_items": null,
      "left": null,
      "margin": null,
      "max_height": null,
      "max_width": null,
      "min_height": null,
      "min_width": null,
      "object_fit": null,
      "object_position": null,
      "order": null,
      "overflow": null,
      "overflow_x": null,
      "overflow_y": null,
      "padding": null,
      "right": null,
      "top": null,
      "visibility": null,
      "width": null
     }
    },
    "0aa807b0b17f4a689afb39b465107ad9": {
     "model_module": "@jupyter-widgets/controls",
     "model_module_version": "1.5.0",
     "model_name": "FloatProgressModel",
     "state": {
      "_dom_classes": [],
      "_model_module": "@jupyter-widgets/controls",
      "_model_module_version": "1.5.0",
      "_model_name": "FloatProgressModel",
      "_view_count": null,
      "_view_module": "@jupyter-widgets/controls",
      "_view_module_version": "1.5.0",
      "_view_name": "ProgressView",
      "bar_style": "info",
      "description": "",
      "description_tooltip": null,
      "layout": "IPY_MODEL_2e27bbd74a24414b86e1da4a0ef640c8",
      "max": 1,
      "min": 0,
      "orientation": "horizontal",
      "style": "IPY_MODEL_81e8f533e9134a1b8075f123ff1b7358",
      "value": 1
     }
    },
    "0ffd2946869e4ba59d0e9c1c4c4e94eb": {
     "model_module": "@jupyter-widgets/base",
     "model_module_version": "1.2.0",
     "model_name": "LayoutModel",
     "state": {
      "_model_module": "@jupyter-widgets/base",
      "_model_module_version": "1.2.0",
      "_model_name": "LayoutModel",
      "_view_count": null,
      "_view_module": "@jupyter-widgets/base",
      "_view_module_version": "1.2.0",
      "_view_name": "LayoutView",
      "align_content": null,
      "align_items": null,
      "align_self": null,
      "border": null,
      "bottom": null,
      "display": null,
      "flex": null,
      "flex_flow": null,
      "grid_area": null,
      "grid_auto_columns": null,
      "grid_auto_flow": null,
      "grid_auto_rows": null,
      "grid_column": null,
      "grid_gap": null,
      "grid_row": null,
      "grid_template_areas": null,
      "grid_template_columns": null,
      "grid_template_rows": null,
      "height": null,
      "justify_content": null,
      "justify_items": null,
      "left": null,
      "margin": null,
      "max_height": null,
      "max_width": null,
      "min_height": null,
      "min_width": null,
      "object_fit": null,
      "object_position": null,
      "order": null,
      "overflow": null,
      "overflow_x": null,
      "overflow_y": null,
      "padding": null,
      "right": null,
      "top": null,
      "visibility": null,
      "width": null
     }
    },
    "122d06b20f5f423e976f4c1ddd768aac": {
     "model_module": "@jupyter-widgets/controls",
     "model_module_version": "1.5.0",
     "model_name": "DescriptionStyleModel",
     "state": {
      "_model_module": "@jupyter-widgets/controls",
      "_model_module_version": "1.5.0",
      "_model_name": "DescriptionStyleModel",
      "_view_count": null,
      "_view_module": "@jupyter-widgets/base",
      "_view_module_version": "1.2.0",
      "_view_name": "StyleView",
      "description_width": ""
     }
    },
    "1ae399483646413eb54d43c50ead2be8": {
     "model_module": "@jupyter-widgets/base",
     "model_module_version": "1.2.0",
     "model_name": "LayoutModel",
     "state": {
      "_model_module": "@jupyter-widgets/base",
      "_model_module_version": "1.2.0",
      "_model_name": "LayoutModel",
      "_view_count": null,
      "_view_module": "@jupyter-widgets/base",
      "_view_module_version": "1.2.0",
      "_view_name": "LayoutView",
      "align_content": null,
      "align_items": null,
      "align_self": null,
      "border": null,
      "bottom": null,
      "display": null,
      "flex": null,
      "flex_flow": null,
      "grid_area": null,
      "grid_auto_columns": null,
      "grid_auto_flow": null,
      "grid_auto_rows": null,
      "grid_column": null,
      "grid_gap": null,
      "grid_row": null,
      "grid_template_areas": null,
      "grid_template_columns": null,
      "grid_template_rows": null,
      "height": null,
      "justify_content": null,
      "justify_items": null,
      "left": null,
      "margin": null,
      "max_height": null,
      "max_width": null,
      "min_height": null,
      "min_width": null,
      "object_fit": null,
      "object_position": null,
      "order": null,
      "overflow": null,
      "overflow_x": null,
      "overflow_y": null,
      "padding": null,
      "right": null,
      "top": null,
      "visibility": null,
      "width": null
     }
    },
    "1b67eaff6ad144db93eab03e3fe4e679": {
     "model_module": "@jupyter-widgets/base",
     "model_module_version": "1.2.0",
     "model_name": "LayoutModel",
     "state": {
      "_model_module": "@jupyter-widgets/base",
      "_model_module_version": "1.2.0",
      "_model_name": "LayoutModel",
      "_view_count": null,
      "_view_module": "@jupyter-widgets/base",
      "_view_module_version": "1.2.0",
      "_view_name": "LayoutView",
      "align_content": null,
      "align_items": null,
      "align_self": null,
      "border": null,
      "bottom": null,
      "display": null,
      "flex": null,
      "flex_flow": null,
      "grid_area": null,
      "grid_auto_columns": null,
      "grid_auto_flow": null,
      "grid_auto_rows": null,
      "grid_column": null,
      "grid_gap": null,
      "grid_row": null,
      "grid_template_areas": null,
      "grid_template_columns": null,
      "grid_template_rows": null,
      "height": null,
      "justify_content": null,
      "justify_items": null,
      "left": null,
      "margin": null,
      "max_height": null,
      "max_width": null,
      "min_height": null,
      "min_width": null,
      "object_fit": null,
      "object_position": null,
      "order": null,
      "overflow": null,
      "overflow_x": null,
      "overflow_y": null,
      "padding": null,
      "right": null,
      "top": null,
      "visibility": null,
      "width": null
     }
    },
    "1c10b1926b9b48249ed95dac10fd2b24": {
     "model_module": "@jupyter-widgets/base",
     "model_module_version": "1.2.0",
     "model_name": "LayoutModel",
     "state": {
      "_model_module": "@jupyter-widgets/base",
      "_model_module_version": "1.2.0",
      "_model_name": "LayoutModel",
      "_view_count": null,
      "_view_module": "@jupyter-widgets/base",
      "_view_module_version": "1.2.0",
      "_view_name": "LayoutView",
      "align_content": null,
      "align_items": null,
      "align_self": null,
      "border": null,
      "bottom": null,
      "display": null,
      "flex": null,
      "flex_flow": null,
      "grid_area": null,
      "grid_auto_columns": null,
      "grid_auto_flow": null,
      "grid_auto_rows": null,
      "grid_column": null,
      "grid_gap": null,
      "grid_row": null,
      "grid_template_areas": null,
      "grid_template_columns": null,
      "grid_template_rows": null,
      "height": null,
      "justify_content": null,
      "justify_items": null,
      "left": null,
      "margin": null,
      "max_height": null,
      "max_width": null,
      "min_height": null,
      "min_width": null,
      "object_fit": null,
      "object_position": null,
      "order": null,
      "overflow": null,
      "overflow_x": null,
      "overflow_y": null,
      "padding": null,
      "right": null,
      "top": null,
      "visibility": null,
      "width": null
     }
    },
    "1f09dfc329ee4495ae7c6e02c5ac4f20": {
     "model_module": "@jupyter-widgets/controls",
     "model_module_version": "1.5.0",
     "model_name": "HTMLModel",
     "state": {
      "_dom_classes": [],
      "_model_module": "@jupyter-widgets/controls",
      "_model_module_version": "1.5.0",
      "_model_name": "HTMLModel",
      "_view_count": null,
      "_view_module": "@jupyter-widgets/controls",
      "_view_module_version": "1.5.0",
      "_view_name": "HTMLView",
      "description": "",
      "description_tooltip": null,
      "layout": "IPY_MODEL_584d88dea75345b6ae9a7d77bc9f21b0",
      "placeholder": "​",
      "style": "IPY_MODEL_c1c7163ac2644d9abfafc901a7e81885",
      "value": " 1/1 [00:13&lt;00:00, 11.55s/ url]"
     }
    },
    "1fd992ac91ea4405af96725a54cf67d8": {
     "model_module": "@jupyter-widgets/base",
     "model_module_version": "1.2.0",
     "model_name": "LayoutModel",
     "state": {
      "_model_module": "@jupyter-widgets/base",
      "_model_module_version": "1.2.0",
      "_model_name": "LayoutModel",
      "_view_count": null,
      "_view_module": "@jupyter-widgets/base",
      "_view_module_version": "1.2.0",
      "_view_name": "LayoutView",
      "align_content": null,
      "align_items": null,
      "align_self": null,
      "border": null,
      "bottom": null,
      "display": null,
      "flex": null,
      "flex_flow": null,
      "grid_area": null,
      "grid_auto_columns": null,
      "grid_auto_flow": null,
      "grid_auto_rows": null,
      "grid_column": null,
      "grid_gap": null,
      "grid_row": null,
      "grid_template_areas": null,
      "grid_template_columns": null,
      "grid_template_rows": null,
      "height": null,
      "justify_content": null,
      "justify_items": null,
      "left": null,
      "margin": null,
      "max_height": null,
      "max_width": null,
      "min_height": null,
      "min_width": null,
      "object_fit": null,
      "object_position": null,
      "order": null,
      "overflow": null,
      "overflow_x": null,
      "overflow_y": null,
      "padding": null,
      "right": null,
      "top": null,
      "visibility": null,
      "width": null
     }
    },
    "2762f59788ad4aed92a7dffebec14ac2": {
     "model_module": "@jupyter-widgets/base",
     "model_module_version": "1.2.0",
     "model_name": "LayoutModel",
     "state": {
      "_model_module": "@jupyter-widgets/base",
      "_model_module_version": "1.2.0",
      "_model_name": "LayoutModel",
      "_view_count": null,
      "_view_module": "@jupyter-widgets/base",
      "_view_module_version": "1.2.0",
      "_view_name": "LayoutView",
      "align_content": null,
      "align_items": null,
      "align_self": null,
      "border": null,
      "bottom": null,
      "display": null,
      "flex": null,
      "flex_flow": null,
      "grid_area": null,
      "grid_auto_columns": null,
      "grid_auto_flow": null,
      "grid_auto_rows": null,
      "grid_column": null,
      "grid_gap": null,
      "grid_row": null,
      "grid_template_areas": null,
      "grid_template_columns": null,
      "grid_template_rows": null,
      "height": null,
      "justify_content": null,
      "justify_items": null,
      "left": null,
      "margin": null,
      "max_height": null,
      "max_width": null,
      "min_height": null,
      "min_width": null,
      "object_fit": null,
      "object_position": null,
      "order": null,
      "overflow": null,
      "overflow_x": null,
      "overflow_y": null,
      "padding": null,
      "right": null,
      "top": null,
      "visibility": null,
      "width": null
     }
    },
    "2ce666a9fb3142c6b890daedfac51fd3": {
     "model_module": "@jupyter-widgets/base",
     "model_module_version": "1.2.0",
     "model_name": "LayoutModel",
     "state": {
      "_model_module": "@jupyter-widgets/base",
      "_model_module_version": "1.2.0",
      "_model_name": "LayoutModel",
      "_view_count": null,
      "_view_module": "@jupyter-widgets/base",
      "_view_module_version": "1.2.0",
      "_view_name": "LayoutView",
      "align_content": null,
      "align_items": null,
      "align_self": null,
      "border": null,
      "bottom": null,
      "display": null,
      "flex": null,
      "flex_flow": null,
      "grid_area": null,
      "grid_auto_columns": null,
      "grid_auto_flow": null,
      "grid_auto_rows": null,
      "grid_column": null,
      "grid_gap": null,
      "grid_row": null,
      "grid_template_areas": null,
      "grid_template_columns": null,
      "grid_template_rows": null,
      "height": null,
      "justify_content": null,
      "justify_items": null,
      "left": null,
      "margin": null,
      "max_height": null,
      "max_width": null,
      "min_height": null,
      "min_width": null,
      "object_fit": null,
      "object_position": null,
      "order": null,
      "overflow": null,
      "overflow_x": null,
      "overflow_y": null,
      "padding": null,
      "right": null,
      "top": null,
      "visibility": null,
      "width": "20px"
     }
    },
    "2e27bbd74a24414b86e1da4a0ef640c8": {
     "model_module": "@jupyter-widgets/base",
     "model_module_version": "1.2.0",
     "model_name": "LayoutModel",
     "state": {
      "_model_module": "@jupyter-widgets/base",
      "_model_module_version": "1.2.0",
      "_model_name": "LayoutModel",
      "_view_count": null,
      "_view_module": "@jupyter-widgets/base",
      "_view_module_version": "1.2.0",
      "_view_name": "LayoutView",
      "align_content": null,
      "align_items": null,
      "align_self": null,
      "border": null,
      "bottom": null,
      "display": null,
      "flex": null,
      "flex_flow": null,
      "grid_area": null,
      "grid_auto_columns": null,
      "grid_auto_flow": null,
      "grid_auto_rows": null,
      "grid_column": null,
      "grid_gap": null,
      "grid_row": null,
      "grid_template_areas": null,
      "grid_template_columns": null,
      "grid_template_rows": null,
      "height": null,
      "justify_content": null,
      "justify_items": null,
      "left": null,
      "margin": null,
      "max_height": null,
      "max_width": null,
      "min_height": null,
      "min_width": null,
      "object_fit": null,
      "object_position": null,
      "order": null,
      "overflow": null,
      "overflow_x": null,
      "overflow_y": null,
      "padding": null,
      "right": null,
      "top": null,
      "visibility": null,
      "width": "20px"
     }
    },
    "388ce343e4414db794323d3d1ed8284a": {
     "model_module": "@jupyter-widgets/controls",
     "model_module_version": "1.5.0",
     "model_name": "HTMLModel",
     "state": {
      "_dom_classes": [],
      "_model_module": "@jupyter-widgets/controls",
      "_model_module_version": "1.5.0",
      "_model_name": "HTMLModel",
      "_view_count": null,
      "_view_module": "@jupyter-widgets/controls",
      "_view_module_version": "1.5.0",
      "_view_name": "HTMLView",
      "description": "",
      "description_tooltip": null,
      "layout": "IPY_MODEL_918cc0a5f0e14470b6ee30fd91ee6f01",
      "placeholder": "​",
      "style": "IPY_MODEL_4800278ddb4746aebaefedaed79f3579",
      "value": " 1/1 [00:13&lt;00:00, 13.77s/ file]"
     }
    },
    "454a4447a407462ca644bc81137ed5f6": {
     "model_module": "@jupyter-widgets/controls",
     "model_module_version": "1.5.0",
     "model_name": "HTMLModel",
     "state": {
      "_dom_classes": [],
      "_model_module": "@jupyter-widgets/controls",
      "_model_module_version": "1.5.0",
      "_model_name": "HTMLModel",
      "_view_count": null,
      "_view_module": "@jupyter-widgets/controls",
      "_view_module_version": "1.5.0",
      "_view_name": "HTMLView",
      "description": "",
      "description_tooltip": null,
      "layout": "IPY_MODEL_f3c09692f9c74c589f7f0efe7d85f037",
      "placeholder": "​",
      "style": "IPY_MODEL_d5d5b7b6075c40aa85160b83292f8019",
      "value": " 162/162 [00:13&lt;00:00, 16.76 MiB/s]"
     }
    },
    "4800278ddb4746aebaefedaed79f3579": {
     "model_module": "@jupyter-widgets/controls",
     "model_module_version": "1.5.0",
     "model_name": "DescriptionStyleModel",
     "state": {
      "_model_module": "@jupyter-widgets/controls",
      "_model_module_version": "1.5.0",
      "_model_name": "DescriptionStyleModel",
      "_view_count": null,
      "_view_module": "@jupyter-widgets/base",
      "_view_module_version": "1.2.0",
      "_view_name": "StyleView",
      "description_width": ""
     }
    },
    "4969ad24c0a04c7db5c8cdf1549b7007": {
     "model_module": "@jupyter-widgets/controls",
     "model_module_version": "1.5.0",
     "model_name": "HBoxModel",
     "state": {
      "_dom_classes": [],
      "_model_module": "@jupyter-widgets/controls",
      "_model_module_version": "1.5.0",
      "_model_name": "HBoxModel",
      "_view_count": null,
      "_view_module": "@jupyter-widgets/controls",
      "_view_module_version": "1.5.0",
      "_view_name": "HBoxView",
      "box_style": "",
      "children": [
       "IPY_MODEL_5fb22e29634c4e2a9d7b2688536effef",
       "IPY_MODEL_7a52b439688a44cba259f55fe3b7aa45",
       "IPY_MODEL_fdc273dbf7744e18b54eea536fada0f7"
      ],
      "layout": "IPY_MODEL_88cbc1cfddc0491499f08c13d2c6dd36"
     }
    },
    "4ae75544b32a4e18abb8f804689a5c4b": {
     "model_module": "@jupyter-widgets/base",
     "model_module_version": "1.2.0",
     "model_name": "LayoutModel",
     "state": {
      "_model_module": "@jupyter-widgets/base",
      "_model_module_version": "1.2.0",
      "_model_name": "LayoutModel",
      "_view_count": null,
      "_view_module": "@jupyter-widgets/base",
      "_view_module_version": "1.2.0",
      "_view_name": "LayoutView",
      "align_content": null,
      "align_items": null,
      "align_self": null,
      "border": null,
      "bottom": null,
      "display": null,
      "flex": null,
      "flex_flow": null,
      "grid_area": null,
      "grid_auto_columns": null,
      "grid_auto_flow": null,
      "grid_auto_rows": null,
      "grid_column": null,
      "grid_gap": null,
      "grid_row": null,
      "grid_template_areas": null,
      "grid_template_columns": null,
      "grid_template_rows": null,
      "height": null,
      "justify_content": null,
      "justify_items": null,
      "left": null,
      "margin": null,
      "max_height": null,
      "max_width": null,
      "min_height": null,
      "min_width": null,
      "object_fit": null,
      "object_position": null,
      "order": null,
      "overflow": null,
      "overflow_x": null,
      "overflow_y": null,
      "padding": null,
      "right": null,
      "top": null,
      "visibility": null,
      "width": null
     }
    },
    "4b3d25b04a2242f3aea9f8b5cc789e62": {
     "model_module": "@jupyter-widgets/controls",
     "model_module_version": "1.5.0",
     "model_name": "HBoxModel",
     "state": {
      "_dom_classes": [],
      "_model_module": "@jupyter-widgets/controls",
      "_model_module_version": "1.5.0",
      "_model_name": "HBoxModel",
      "_view_count": null,
      "_view_module": "@jupyter-widgets/controls",
      "_view_module_version": "1.5.0",
      "_view_name": "HBoxView",
      "box_style": "",
      "children": [
       "IPY_MODEL_b20ec0d20c74431eaff3354b7de34266",
       "IPY_MODEL_0aa807b0b17f4a689afb39b465107ad9",
       "IPY_MODEL_ce7c4feb7a7a4421aacf1910d53534d0"
      ],
      "layout": "IPY_MODEL_0528db7a4e6c4b7e9eceeefc7ae5b10e"
     }
    },
    "4cf7e40f36224c54b3fdd772c4f04fed": {
     "model_module": "@jupyter-widgets/base",
     "model_module_version": "1.2.0",
     "model_name": "LayoutModel",
     "state": {
      "_model_module": "@jupyter-widgets/base",
      "_model_module_version": "1.2.0",
      "_model_name": "LayoutModel",
      "_view_count": null,
      "_view_module": "@jupyter-widgets/base",
      "_view_module_version": "1.2.0",
      "_view_name": "LayoutView",
      "align_content": null,
      "align_items": null,
      "align_self": null,
      "border": null,
      "bottom": null,
      "display": null,
      "flex": null,
      "flex_flow": null,
      "grid_area": null,
      "grid_auto_columns": null,
      "grid_auto_flow": null,
      "grid_auto_rows": null,
      "grid_column": null,
      "grid_gap": null,
      "grid_row": null,
      "grid_template_areas": null,
      "grid_template_columns": null,
      "grid_template_rows": null,
      "height": null,
      "justify_content": null,
      "justify_items": null,
      "left": null,
      "margin": null,
      "max_height": null,
      "max_width": null,
      "min_height": null,
      "min_width": null,
      "object_fit": null,
      "object_position": null,
      "order": null,
      "overflow": null,
      "overflow_x": null,
      "overflow_y": null,
      "padding": null,
      "right": null,
      "top": null,
      "visibility": null,
      "width": "20px"
     }
    },
    "584d88dea75345b6ae9a7d77bc9f21b0": {
     "model_module": "@jupyter-widgets/base",
     "model_module_version": "1.2.0",
     "model_name": "LayoutModel",
     "state": {
      "_model_module": "@jupyter-widgets/base",
      "_model_module_version": "1.2.0",
      "_model_name": "LayoutModel",
      "_view_count": null,
      "_view_module": "@jupyter-widgets/base",
      "_view_module_version": "1.2.0",
      "_view_name": "LayoutView",
      "align_content": null,
      "align_items": null,
      "align_self": null,
      "border": null,
      "bottom": null,
      "display": null,
      "flex": null,
      "flex_flow": null,
      "grid_area": null,
      "grid_auto_columns": null,
      "grid_auto_flow": null,
      "grid_auto_rows": null,
      "grid_column": null,
      "grid_gap": null,
      "grid_row": null,
      "grid_template_areas": null,
      "grid_template_columns": null,
      "grid_template_rows": null,
      "height": null,
      "justify_content": null,
      "justify_items": null,
      "left": null,
      "margin": null,
      "max_height": null,
      "max_width": null,
      "min_height": null,
      "min_width": null,
      "object_fit": null,
      "object_position": null,
      "order": null,
      "overflow": null,
      "overflow_x": null,
      "overflow_y": null,
      "padding": null,
      "right": null,
      "top": null,
      "visibility": null,
      "width": null
     }
    },
    "5b03611d6e4f413880d2f78e8af48660": {
     "model_module": "@jupyter-widgets/base",
     "model_module_version": "1.2.0",
     "model_name": "LayoutModel",
     "state": {
      "_model_module": "@jupyter-widgets/base",
      "_model_module_version": "1.2.0",
      "_model_name": "LayoutModel",
      "_view_count": null,
      "_view_module": "@jupyter-widgets/base",
      "_view_module_version": "1.2.0",
      "_view_name": "LayoutView",
      "align_content": null,
      "align_items": null,
      "align_self": null,
      "border": null,
      "bottom": null,
      "display": null,
      "flex": null,
      "flex_flow": null,
      "grid_area": null,
      "grid_auto_columns": null,
      "grid_auto_flow": null,
      "grid_auto_rows": null,
      "grid_column": null,
      "grid_gap": null,
      "grid_row": null,
      "grid_template_areas": null,
      "grid_template_columns": null,
      "grid_template_rows": null,
      "height": null,
      "justify_content": null,
      "justify_items": null,
      "left": null,
      "margin": null,
      "max_height": null,
      "max_width": null,
      "min_height": null,
      "min_width": null,
      "object_fit": null,
      "object_position": null,
      "order": null,
      "overflow": null,
      "overflow_x": null,
      "overflow_y": null,
      "padding": null,
      "right": null,
      "top": null,
      "visibility": null,
      "width": null
     }
    },
    "5fb22e29634c4e2a9d7b2688536effef": {
     "model_module": "@jupyter-widgets/controls",
     "model_module_version": "1.5.0",
     "model_name": "HTMLModel",
     "state": {
      "_dom_classes": [],
      "_model_module": "@jupyter-widgets/controls",
      "_model_module_version": "1.5.0",
      "_model_name": "HTMLModel",
      "_view_count": null,
      "_view_module": "@jupyter-widgets/controls",
      "_view_module_version": "1.5.0",
      "_view_name": "HTMLView",
      "description": "",
      "description_tooltip": null,
      "layout": "IPY_MODEL_00547a582ab94234a28584c5447e5ce7",
      "placeholder": "​",
      "style": "IPY_MODEL_8fb6c52e547c40ac9066ef0c21507777",
      "value": "100%"
     }
    },
    "60afa2a56862455e9d8b5a3cbb56079c": {
     "model_module": "@jupyter-widgets/controls",
     "model_module_version": "1.5.0",
     "model_name": "ProgressStyleModel",
     "state": {
      "_model_module": "@jupyter-widgets/controls",
      "_model_module_version": "1.5.0",
      "_model_name": "ProgressStyleModel",
      "_view_count": null,
      "_view_module": "@jupyter-widgets/base",
      "_view_module_version": "1.2.0",
      "_view_name": "StyleView",
      "bar_color": null,
      "description_width": ""
     }
    },
    "63cfa3dcb2c646b59e5b2dd938f404ce": {
     "model_module": "@jupyter-widgets/base",
     "model_module_version": "1.2.0",
     "model_name": "LayoutModel",
     "state": {
      "_model_module": "@jupyter-widgets/base",
      "_model_module_version": "1.2.0",
      "_model_name": "LayoutModel",
      "_view_count": null,
      "_view_module": "@jupyter-widgets/base",
      "_view_module_version": "1.2.0",
      "_view_name": "LayoutView",
      "align_content": null,
      "align_items": null,
      "align_self": null,
      "border": null,
      "bottom": null,
      "display": null,
      "flex": null,
      "flex_flow": null,
      "grid_area": null,
      "grid_auto_columns": null,
      "grid_auto_flow": null,
      "grid_auto_rows": null,
      "grid_column": null,
      "grid_gap": null,
      "grid_row": null,
      "grid_template_areas": null,
      "grid_template_columns": null,
      "grid_template_rows": null,
      "height": null,
      "justify_content": null,
      "justify_items": null,
      "left": null,
      "margin": null,
      "max_height": null,
      "max_width": null,
      "min_height": null,
      "min_width": null,
      "object_fit": null,
      "object_position": null,
      "order": null,
      "overflow": null,
      "overflow_x": null,
      "overflow_y": null,
      "padding": null,
      "right": null,
      "top": null,
      "visibility": null,
      "width": null
     }
    },
    "70194de5ff26462c923dfd8ed271e114": {
     "model_module": "@jupyter-widgets/controls",
     "model_module_version": "1.5.0",
     "model_name": "ProgressStyleModel",
     "state": {
      "_model_module": "@jupyter-widgets/controls",
      "_model_module_version": "1.5.0",
      "_model_name": "ProgressStyleModel",
      "_view_count": null,
      "_view_module": "@jupyter-widgets/base",
      "_view_module_version": "1.2.0",
      "_view_name": "StyleView",
      "bar_color": null,
      "description_width": ""
     }
    },
    "754dcdf1f0014f9e8ff92d079300a4b6": {
     "model_module": "@jupyter-widgets/controls",
     "model_module_version": "1.5.0",
     "model_name": "DescriptionStyleModel",
     "state": {
      "_model_module": "@jupyter-widgets/controls",
      "_model_module_version": "1.5.0",
      "_model_name": "DescriptionStyleModel",
      "_view_count": null,
      "_view_module": "@jupyter-widgets/base",
      "_view_module_version": "1.2.0",
      "_view_name": "StyleView",
      "description_width": ""
     }
    },
    "75bbb328dbef4f8f8e106663ff6dd1c7": {
     "model_module": "@jupyter-widgets/controls",
     "model_module_version": "1.5.0",
     "model_name": "HTMLModel",
     "state": {
      "_dom_classes": [],
      "_model_module": "@jupyter-widgets/controls",
      "_model_module_version": "1.5.0",
      "_model_name": "HTMLModel",
      "_view_count": null,
      "_view_module": "@jupyter-widgets/controls",
      "_view_module_version": "1.5.0",
      "_view_name": "HTMLView",
      "description": "",
      "description_tooltip": null,
      "layout": "IPY_MODEL_1b67eaff6ad144db93eab03e3fe4e679",
      "placeholder": "​",
      "style": "IPY_MODEL_e4fd949cbbe3488588dedd0cba58cb3f",
      "value": " 9925/0 [00:09&lt;00:00, 1006.06 examples/s]"
     }
    },
    "78ae403b10a24741bf3fbd9fd8423fa8": {
     "model_module": "@jupyter-widgets/controls",
     "model_module_version": "1.5.0",
     "model_name": "FloatProgressModel",
     "state": {
      "_dom_classes": [],
      "_model_module": "@jupyter-widgets/controls",
      "_model_module_version": "1.5.0",
      "_model_name": "FloatProgressModel",
      "_view_count": null,
      "_view_module": "@jupyter-widgets/controls",
      "_view_module_version": "1.5.0",
      "_view_name": "ProgressView",
      "bar_style": "danger",
      "description": "",
      "description_tooltip": null,
      "layout": "IPY_MODEL_4ae75544b32a4e18abb8f804689a5c4b",
      "max": 50000,
      "min": 0,
      "orientation": "horizontal",
      "style": "IPY_MODEL_fd0bf5bdb12f49e39b023a4b070ac169",
      "value": 49999
     }
    },
    "7a52b439688a44cba259f55fe3b7aa45": {
     "model_module": "@jupyter-widgets/controls",
     "model_module_version": "1.5.0",
     "model_name": "FloatProgressModel",
     "state": {
      "_dom_classes": [],
      "_model_module": "@jupyter-widgets/controls",
      "_model_module_version": "1.5.0",
      "_model_name": "FloatProgressModel",
      "_view_count": null,
      "_view_module": "@jupyter-widgets/controls",
      "_view_module_version": "1.5.0",
      "_view_name": "ProgressView",
      "bar_style": "danger",
      "description": "",
      "description_tooltip": null,
      "layout": "IPY_MODEL_864acb9747f6406f91716d97467f3daf",
      "max": 10000,
      "min": 0,
      "orientation": "horizontal",
      "style": "IPY_MODEL_60afa2a56862455e9d8b5a3cbb56079c",
      "value": 9999
     }
    },
    "7bad3800395d4abebcc3df2c2ac9a9f5": {
     "model_module": "@jupyter-widgets/base",
     "model_module_version": "1.2.0",
     "model_name": "LayoutModel",
     "state": {
      "_model_module": "@jupyter-widgets/base",
      "_model_module_version": "1.2.0",
      "_model_name": "LayoutModel",
      "_view_count": null,
      "_view_module": "@jupyter-widgets/base",
      "_view_module_version": "1.2.0",
      "_view_name": "LayoutView",
      "align_content": null,
      "align_items": null,
      "align_self": null,
      "border": null,
      "bottom": null,
      "display": null,
      "flex": null,
      "flex_flow": null,
      "grid_area": null,
      "grid_auto_columns": null,
      "grid_auto_flow": null,
      "grid_auto_rows": null,
      "grid_column": null,
      "grid_gap": null,
      "grid_row": null,
      "grid_template_areas": null,
      "grid_template_columns": null,
      "grid_template_rows": null,
      "height": null,
      "justify_content": null,
      "justify_items": null,
      "left": null,
      "margin": null,
      "max_height": null,
      "max_width": null,
      "min_height": null,
      "min_width": null,
      "object_fit": null,
      "object_position": null,
      "order": null,
      "overflow": null,
      "overflow_x": null,
      "overflow_y": null,
      "padding": null,
      "right": null,
      "top": null,
      "visibility": null,
      "width": null
     }
    },
    "81e8f533e9134a1b8075f123ff1b7358": {
     "model_module": "@jupyter-widgets/controls",
     "model_module_version": "1.5.0",
     "model_name": "ProgressStyleModel",
     "state": {
      "_model_module": "@jupyter-widgets/controls",
      "_model_module_version": "1.5.0",
      "_model_name": "ProgressStyleModel",
      "_view_count": null,
      "_view_module": "@jupyter-widgets/base",
      "_view_module_version": "1.2.0",
      "_view_name": "StyleView",
      "bar_color": null,
      "description_width": ""
     }
    },
    "864acb9747f6406f91716d97467f3daf": {
     "model_module": "@jupyter-widgets/base",
     "model_module_version": "1.2.0",
     "model_name": "LayoutModel",
     "state": {
      "_model_module": "@jupyter-widgets/base",
      "_model_module_version": "1.2.0",
      "_model_name": "LayoutModel",
      "_view_count": null,
      "_view_module": "@jupyter-widgets/base",
      "_view_module_version": "1.2.0",
      "_view_name": "LayoutView",
      "align_content": null,
      "align_items": null,
      "align_self": null,
      "border": null,
      "bottom": null,
      "display": null,
      "flex": null,
      "flex_flow": null,
      "grid_area": null,
      "grid_auto_columns": null,
      "grid_auto_flow": null,
      "grid_auto_rows": null,
      "grid_column": null,
      "grid_gap": null,
      "grid_row": null,
      "grid_template_areas": null,
      "grid_template_columns": null,
      "grid_template_rows": null,
      "height": null,
      "justify_content": null,
      "justify_items": null,
      "left": null,
      "margin": null,
      "max_height": null,
      "max_width": null,
      "min_height": null,
      "min_width": null,
      "object_fit": null,
      "object_position": null,
      "order": null,
      "overflow": null,
      "overflow_x": null,
      "overflow_y": null,
      "padding": null,
      "right": null,
      "top": null,
      "visibility": null,
      "width": null
     }
    },
    "86dcb6a2cce648308ce633ce58c823bf": {
     "model_module": "@jupyter-widgets/controls",
     "model_module_version": "1.5.0",
     "model_name": "HTMLModel",
     "state": {
      "_dom_classes": [],
      "_model_module": "@jupyter-widgets/controls",
      "_model_module_version": "1.5.0",
      "_model_name": "HTMLModel",
      "_view_count": null,
      "_view_module": "@jupyter-widgets/controls",
      "_view_module_version": "1.5.0",
      "_view_name": "HTMLView",
      "description": "",
      "description_tooltip": null,
      "layout": "IPY_MODEL_095fd4b4b25f4e68b154989d6b464231",
      "placeholder": "​",
      "style": "IPY_MODEL_754dcdf1f0014f9e8ff92d079300a4b6",
      "value": "Dl Completed...: 100%"
     }
    },
    "8803ce07a20340f587fbc19e3255c139": {
     "model_module": "@jupyter-widgets/controls",
     "model_module_version": "1.5.0",
     "model_name": "DescriptionStyleModel",
     "state": {
      "_model_module": "@jupyter-widgets/controls",
      "_model_module_version": "1.5.0",
      "_model_name": "DescriptionStyleModel",
      "_view_count": null,
      "_view_module": "@jupyter-widgets/base",
      "_view_module_version": "1.2.0",
      "_view_name": "StyleView",
      "description_width": ""
     }
    },
    "88cbc1cfddc0491499f08c13d2c6dd36": {
     "model_module": "@jupyter-widgets/base",
     "model_module_version": "1.2.0",
     "model_name": "LayoutModel",
     "state": {
      "_model_module": "@jupyter-widgets/base",
      "_model_module_version": "1.2.0",
      "_model_name": "LayoutModel",
      "_view_count": null,
      "_view_module": "@jupyter-widgets/base",
      "_view_module_version": "1.2.0",
      "_view_name": "LayoutView",
      "align_content": null,
      "align_items": null,
      "align_self": null,
      "border": null,
      "bottom": null,
      "display": null,
      "flex": null,
      "flex_flow": null,
      "grid_area": null,
      "grid_auto_columns": null,
      "grid_auto_flow": null,
      "grid_auto_rows": null,
      "grid_column": null,
      "grid_gap": null,
      "grid_row": null,
      "grid_template_areas": null,
      "grid_template_columns": null,
      "grid_template_rows": null,
      "height": null,
      "justify_content": null,
      "justify_items": null,
      "left": null,
      "margin": null,
      "max_height": null,
      "max_width": null,
      "min_height": null,
      "min_width": null,
      "object_fit": null,
      "object_position": null,
      "order": null,
      "overflow": null,
      "overflow_x": null,
      "overflow_y": null,
      "padding": null,
      "right": null,
      "top": null,
      "visibility": null,
      "width": null
     }
    },
    "8a306137fd9a47d5b2714e40c3437921": {
     "model_module": "@jupyter-widgets/base",
     "model_module_version": "1.2.0",
     "model_name": "LayoutModel",
     "state": {
      "_model_module": "@jupyter-widgets/base",
      "_model_module_version": "1.2.0",
      "_model_name": "LayoutModel",
      "_view_count": null,
      "_view_module": "@jupyter-widgets/base",
      "_view_module_version": "1.2.0",
      "_view_name": "LayoutView",
      "align_content": null,
      "align_items": null,
      "align_self": null,
      "border": null,
      "bottom": null,
      "display": null,
      "flex": null,
      "flex_flow": null,
      "grid_area": null,
      "grid_auto_columns": null,
      "grid_auto_flow": null,
      "grid_auto_rows": null,
      "grid_column": null,
      "grid_gap": null,
      "grid_row": null,
      "grid_template_areas": null,
      "grid_template_columns": null,
      "grid_template_rows": null,
      "height": null,
      "justify_content": null,
      "justify_items": null,
      "left": null,
      "margin": null,
      "max_height": null,
      "max_width": null,
      "min_height": null,
      "min_width": null,
      "object_fit": null,
      "object_position": null,
      "order": null,
      "overflow": null,
      "overflow_x": null,
      "overflow_y": null,
      "padding": null,
      "right": null,
      "top": null,
      "visibility": null,
      "width": null
     }
    },
    "8bbe3653ecb7450d81dbb98b211534f7": {
     "model_module": "@jupyter-widgets/controls",
     "model_module_version": "1.5.0",
     "model_name": "HBoxModel",
     "state": {
      "_dom_classes": [],
      "_model_module": "@jupyter-widgets/controls",
      "_model_module_version": "1.5.0",
      "_model_name": "HBoxModel",
      "_view_count": null,
      "_view_module": "@jupyter-widgets/controls",
      "_view_module_version": "1.5.0",
      "_view_name": "HBoxView",
      "box_style": "",
      "children": [
       "IPY_MODEL_b1c87ac0da134e1ea63991e95ebfab6f",
       "IPY_MODEL_b66f9b62ab494371bcf456a64335f285",
       "IPY_MODEL_454a4447a407462ca644bc81137ed5f6"
      ],
      "layout": "IPY_MODEL_8a306137fd9a47d5b2714e40c3437921"
     }
    },
    "8fb6c52e547c40ac9066ef0c21507777": {
     "model_module": "@jupyter-widgets/controls",
     "model_module_version": "1.5.0",
     "model_name": "DescriptionStyleModel",
     "state": {
      "_model_module": "@jupyter-widgets/controls",
      "_model_module_version": "1.5.0",
      "_model_name": "DescriptionStyleModel",
      "_view_count": null,
      "_view_module": "@jupyter-widgets/base",
      "_view_module_version": "1.2.0",
      "_view_name": "StyleView",
      "description_width": ""
     }
    },
    "903e93a4bfcf4225918592e53af05af5": {
     "model_module": "@jupyter-widgets/controls",
     "model_module_version": "1.5.0",
     "model_name": "HTMLModel",
     "state": {
      "_dom_classes": [],
      "_model_module": "@jupyter-widgets/controls",
      "_model_module_version": "1.5.0",
      "_model_name": "HTMLModel",
      "_view_count": null,
      "_view_module": "@jupyter-widgets/controls",
      "_view_module_version": "1.5.0",
      "_view_name": "HTMLView",
      "description": "",
      "description_tooltip": null,
      "layout": "IPY_MODEL_1c10b1926b9b48249ed95dac10fd2b24",
      "placeholder": "​",
      "style": "IPY_MODEL_8803ce07a20340f587fbc19e3255c139",
      "value": "Extraction completed...: 100%"
     }
    },
    "918cc0a5f0e14470b6ee30fd91ee6f01": {
     "model_module": "@jupyter-widgets/base",
     "model_module_version": "1.2.0",
     "model_name": "LayoutModel",
     "state": {
      "_model_module": "@jupyter-widgets/base",
      "_model_module_version": "1.2.0",
      "_model_name": "LayoutModel",
      "_view_count": null,
      "_view_module": "@jupyter-widgets/base",
      "_view_module_version": "1.2.0",
      "_view_name": "LayoutView",
      "align_content": null,
      "align_items": null,
      "align_self": null,
      "border": null,
      "bottom": null,
      "display": null,
      "flex": null,
      "flex_flow": null,
      "grid_area": null,
      "grid_auto_columns": null,
      "grid_auto_flow": null,
      "grid_auto_rows": null,
      "grid_column": null,
      "grid_gap": null,
      "grid_row": null,
      "grid_template_areas": null,
      "grid_template_columns": null,
      "grid_template_rows": null,
      "height": null,
      "justify_content": null,
      "justify_items": null,
      "left": null,
      "margin": null,
      "max_height": null,
      "max_width": null,
      "min_height": null,
      "min_width": null,
      "object_fit": null,
      "object_position": null,
      "order": null,
      "overflow": null,
      "overflow_x": null,
      "overflow_y": null,
      "padding": null,
      "right": null,
      "top": null,
      "visibility": null,
      "width": null
     }
    },
    "91b0df07c4aa48fd96490e89989c32a4": {
     "model_module": "@jupyter-widgets/controls",
     "model_module_version": "1.5.0",
     "model_name": "ProgressStyleModel",
     "state": {
      "_model_module": "@jupyter-widgets/controls",
      "_model_module_version": "1.5.0",
      "_model_name": "ProgressStyleModel",
      "_view_count": null,
      "_view_module": "@jupyter-widgets/base",
      "_view_module_version": "1.2.0",
      "_view_name": "StyleView",
      "bar_color": null,
      "description_width": ""
     }
    },
    "97b4ab535dc84e2391b567c17250a566": {
     "model_module": "@jupyter-widgets/base",
     "model_module_version": "1.2.0",
     "model_name": "LayoutModel",
     "state": {
      "_model_module": "@jupyter-widgets/base",
      "_model_module_version": "1.2.0",
      "_model_name": "LayoutModel",
      "_view_count": null,
      "_view_module": "@jupyter-widgets/base",
      "_view_module_version": "1.2.0",
      "_view_name": "LayoutView",
      "align_content": null,
      "align_items": null,
      "align_self": null,
      "border": null,
      "bottom": null,
      "display": null,
      "flex": null,
      "flex_flow": null,
      "grid_area": null,
      "grid_auto_columns": null,
      "grid_auto_flow": null,
      "grid_auto_rows": null,
      "grid_column": null,
      "grid_gap": null,
      "grid_row": null,
      "grid_template_areas": null,
      "grid_template_columns": null,
      "grid_template_rows": null,
      "height": null,
      "justify_content": null,
      "justify_items": null,
      "left": null,
      "margin": null,
      "max_height": null,
      "max_width": null,
      "min_height": null,
      "min_width": null,
      "object_fit": null,
      "object_position": null,
      "order": null,
      "overflow": null,
      "overflow_x": null,
      "overflow_y": null,
      "padding": null,
      "right": null,
      "top": null,
      "visibility": null,
      "width": "20px"
     }
    },
    "abcc9b9a982344a7bd83dba8d4539874": {
     "model_module": "@jupyter-widgets/controls",
     "model_module_version": "1.5.0",
     "model_name": "DescriptionStyleModel",
     "state": {
      "_model_module": "@jupyter-widgets/controls",
      "_model_module_version": "1.5.0",
      "_model_name": "DescriptionStyleModel",
      "_view_count": null,
      "_view_module": "@jupyter-widgets/base",
      "_view_module_version": "1.2.0",
      "_view_name": "StyleView",
      "description_width": ""
     }
    },
    "b1c87ac0da134e1ea63991e95ebfab6f": {
     "model_module": "@jupyter-widgets/controls",
     "model_module_version": "1.5.0",
     "model_name": "HTMLModel",
     "state": {
      "_dom_classes": [],
      "_model_module": "@jupyter-widgets/controls",
      "_model_module_version": "1.5.0",
      "_model_name": "HTMLModel",
      "_view_count": null,
      "_view_module": "@jupyter-widgets/controls",
      "_view_module_version": "1.5.0",
      "_view_name": "HTMLView",
      "description": "",
      "description_tooltip": null,
      "layout": "IPY_MODEL_1fd992ac91ea4405af96725a54cf67d8",
      "placeholder": "​",
      "style": "IPY_MODEL_bb44a87e7b0645188471745eb88a96b3",
      "value": "Dl Size...: 100%"
     }
    },
    "b1eef36a9ffc41b6baf4e1e694ed69ac": {
     "model_module": "@jupyter-widgets/controls",
     "model_module_version": "1.5.0",
     "model_name": "HTMLModel",
     "state": {
      "_dom_classes": [],
      "_model_module": "@jupyter-widgets/controls",
      "_model_module_version": "1.5.0",
      "_model_name": "HTMLModel",
      "_view_count": null,
      "_view_module": "@jupyter-widgets/controls",
      "_view_module_version": "1.5.0",
      "_view_name": "HTMLView",
      "description": "",
      "description_tooltip": null,
      "layout": "IPY_MODEL_decc1bda93694cb2810fd7ecf3a1ee8b",
      "placeholder": "​",
      "style": "IPY_MODEL_06da06ab509a45548823fbdc133a6eef",
      "value": "100%"
     }
    },
    "b20ec0d20c74431eaff3354b7de34266": {
     "model_module": "@jupyter-widgets/controls",
     "model_module_version": "1.5.0",
     "model_name": "HTMLModel",
     "state": {
      "_dom_classes": [],
      "_model_module": "@jupyter-widgets/controls",
      "_model_module_version": "1.5.0",
      "_model_name": "HTMLModel",
      "_view_count": null,
      "_view_module": "@jupyter-widgets/controls",
      "_view_module_version": "1.5.0",
      "_view_name": "HTMLView",
      "description": "",
      "description_tooltip": null,
      "layout": "IPY_MODEL_63cfa3dcb2c646b59e5b2dd938f404ce",
      "placeholder": "​",
      "style": "IPY_MODEL_d3a53533ffab4a76ac9ada9169bfff28",
      "value": ""
     }
    },
    "b27c0d4d0de1434e99b9d01765a8bc13": {
     "model_module": "@jupyter-widgets/controls",
     "model_module_version": "1.5.0",
     "model_name": "DescriptionStyleModel",
     "state": {
      "_model_module": "@jupyter-widgets/controls",
      "_model_module_version": "1.5.0",
      "_model_name": "DescriptionStyleModel",
      "_view_count": null,
      "_view_module": "@jupyter-widgets/base",
      "_view_module_version": "1.2.0",
      "_view_name": "StyleView",
      "description_width": ""
     }
    },
    "b66f9b62ab494371bcf456a64335f285": {
     "model_module": "@jupyter-widgets/controls",
     "model_module_version": "1.5.0",
     "model_name": "FloatProgressModel",
     "state": {
      "_dom_classes": [],
      "_model_module": "@jupyter-widgets/controls",
      "_model_module_version": "1.5.0",
      "_model_name": "FloatProgressModel",
      "_view_count": null,
      "_view_module": "@jupyter-widgets/controls",
      "_view_module_version": "1.5.0",
      "_view_name": "ProgressView",
      "bar_style": "success",
      "description": "",
      "description_tooltip": null,
      "layout": "IPY_MODEL_4cf7e40f36224c54b3fdd772c4f04fed",
      "max": 1,
      "min": 0,
      "orientation": "horizontal",
      "style": "IPY_MODEL_91b0df07c4aa48fd96490e89989c32a4",
      "value": 1
     }
    },
    "bb44a87e7b0645188471745eb88a96b3": {
     "model_module": "@jupyter-widgets/controls",
     "model_module_version": "1.5.0",
     "model_name": "DescriptionStyleModel",
     "state": {
      "_model_module": "@jupyter-widgets/controls",
      "_model_module_version": "1.5.0",
      "_model_name": "DescriptionStyleModel",
      "_view_count": null,
      "_view_module": "@jupyter-widgets/base",
      "_view_module_version": "1.2.0",
      "_view_name": "StyleView",
      "description_width": ""
     }
    },
    "bedd3e4bdc974d588cd706f7aa5c822e": {
     "model_module": "@jupyter-widgets/base",
     "model_module_version": "1.2.0",
     "model_name": "LayoutModel",
     "state": {
      "_model_module": "@jupyter-widgets/base",
      "_model_module_version": "1.2.0",
      "_model_name": "LayoutModel",
      "_view_count": null,
      "_view_module": "@jupyter-widgets/base",
      "_view_module_version": "1.2.0",
      "_view_name": "LayoutView",
      "align_content": null,
      "align_items": null,
      "align_self": null,
      "border": null,
      "bottom": null,
      "display": null,
      "flex": null,
      "flex_flow": null,
      "grid_area": null,
      "grid_auto_columns": null,
      "grid_auto_flow": null,
      "grid_auto_rows": null,
      "grid_column": null,
      "grid_gap": null,
      "grid_row": null,
      "grid_template_areas": null,
      "grid_template_columns": null,
      "grid_template_rows": null,
      "height": null,
      "justify_content": null,
      "justify_items": null,
      "left": null,
      "margin": null,
      "max_height": null,
      "max_width": null,
      "min_height": null,
      "min_width": null,
      "object_fit": null,
      "object_position": null,
      "order": null,
      "overflow": null,
      "overflow_x": null,
      "overflow_y": null,
      "padding": null,
      "right": null,
      "top": null,
      "visibility": null,
      "width": null
     }
    },
    "c1c7163ac2644d9abfafc901a7e81885": {
     "model_module": "@jupyter-widgets/controls",
     "model_module_version": "1.5.0",
     "model_name": "DescriptionStyleModel",
     "state": {
      "_model_module": "@jupyter-widgets/controls",
      "_model_module_version": "1.5.0",
      "_model_name": "DescriptionStyleModel",
      "_view_count": null,
      "_view_module": "@jupyter-widgets/base",
      "_view_module_version": "1.2.0",
      "_view_name": "StyleView",
      "description_width": ""
     }
    },
    "c1c992efae044df39517b5c4973cef27": {
     "model_module": "@jupyter-widgets/base",
     "model_module_version": "1.2.0",
     "model_name": "LayoutModel",
     "state": {
      "_model_module": "@jupyter-widgets/base",
      "_model_module_version": "1.2.0",
      "_model_name": "LayoutModel",
      "_view_count": null,
      "_view_module": "@jupyter-widgets/base",
      "_view_module_version": "1.2.0",
      "_view_name": "LayoutView",
      "align_content": null,
      "align_items": null,
      "align_self": null,
      "border": null,
      "bottom": null,
      "display": null,
      "flex": null,
      "flex_flow": null,
      "grid_area": null,
      "grid_auto_columns": null,
      "grid_auto_flow": null,
      "grid_auto_rows": null,
      "grid_column": null,
      "grid_gap": null,
      "grid_row": null,
      "grid_template_areas": null,
      "grid_template_columns": null,
      "grid_template_rows": null,
      "height": null,
      "justify_content": null,
      "justify_items": null,
      "left": null,
      "margin": null,
      "max_height": null,
      "max_width": null,
      "min_height": null,
      "min_width": null,
      "object_fit": null,
      "object_position": null,
      "order": null,
      "overflow": null,
      "overflow_x": null,
      "overflow_y": null,
      "padding": null,
      "right": null,
      "top": null,
      "visibility": null,
      "width": null
     }
    },
    "c4ce107456c64fc78c02dc942fecb846": {
     "model_module": "@jupyter-widgets/base",
     "model_module_version": "1.2.0",
     "model_name": "LayoutModel",
     "state": {
      "_model_module": "@jupyter-widgets/base",
      "_model_module_version": "1.2.0",
      "_model_name": "LayoutModel",
      "_view_count": null,
      "_view_module": "@jupyter-widgets/base",
      "_view_module_version": "1.2.0",
      "_view_name": "LayoutView",
      "align_content": null,
      "align_items": null,
      "align_self": null,
      "border": null,
      "bottom": null,
      "display": null,
      "flex": null,
      "flex_flow": null,
      "grid_area": null,
      "grid_auto_columns": null,
      "grid_auto_flow": null,
      "grid_auto_rows": null,
      "grid_column": null,
      "grid_gap": null,
      "grid_row": null,
      "grid_template_areas": null,
      "grid_template_columns": null,
      "grid_template_rows": null,
      "height": null,
      "justify_content": null,
      "justify_items": null,
      "left": null,
      "margin": null,
      "max_height": null,
      "max_width": null,
      "min_height": null,
      "min_width": null,
      "object_fit": null,
      "object_position": null,
      "order": null,
      "overflow": null,
      "overflow_x": null,
      "overflow_y": null,
      "padding": null,
      "right": null,
      "top": null,
      "visibility": null,
      "width": null
     }
    },
    "c7d2b12d99a94e6eac212b9dec6155e4": {
     "model_module": "@jupyter-widgets/controls",
     "model_module_version": "1.5.0",
     "model_name": "FloatProgressModel",
     "state": {
      "_dom_classes": [],
      "_model_module": "@jupyter-widgets/controls",
      "_model_module_version": "1.5.0",
      "_model_name": "FloatProgressModel",
      "_view_count": null,
      "_view_module": "@jupyter-widgets/controls",
      "_view_module_version": "1.5.0",
      "_view_name": "ProgressView",
      "bar_style": "success",
      "description": "",
      "description_tooltip": null,
      "layout": "IPY_MODEL_2ce666a9fb3142c6b890daedfac51fd3",
      "max": 1,
      "min": 0,
      "orientation": "horizontal",
      "style": "IPY_MODEL_f02b2aed8dee418c970acd806f6b44e3",
      "value": 1
     }
    },
    "ce7c4feb7a7a4421aacf1910d53534d0": {
     "model_module": "@jupyter-widgets/controls",
     "model_module_version": "1.5.0",
     "model_name": "HTMLModel",
     "state": {
      "_dom_classes": [],
      "_model_module": "@jupyter-widgets/controls",
      "_model_module_version": "1.5.0",
      "_model_name": "HTMLModel",
      "_view_count": null,
      "_view_module": "@jupyter-widgets/controls",
      "_view_module_version": "1.5.0",
      "_view_name": "HTMLView",
      "description": "",
      "description_tooltip": null,
      "layout": "IPY_MODEL_c1c992efae044df39517b5c4973cef27",
      "placeholder": "​",
      "style": "IPY_MODEL_abcc9b9a982344a7bd83dba8d4539874",
      "value": " 49917/0 [00:53&lt;00:00, 1045.17 examples/s]"
     }
    },
    "d1f74e10bfd8422bae016f78d961f5e2": {
     "model_module": "@jupyter-widgets/controls",
     "model_module_version": "1.5.0",
     "model_name": "HBoxModel",
     "state": {
      "_dom_classes": [],
      "_model_module": "@jupyter-widgets/controls",
      "_model_module_version": "1.5.0",
      "_model_name": "HBoxModel",
      "_view_count": null,
      "_view_module": "@jupyter-widgets/controls",
      "_view_module_version": "1.5.0",
      "_view_name": "HBoxView",
      "box_style": "",
      "children": [
       "IPY_MODEL_b1eef36a9ffc41b6baf4e1e694ed69ac",
       "IPY_MODEL_78ae403b10a24741bf3fbd9fd8423fa8",
       "IPY_MODEL_d7e933cc705c4d1496f60b855fe441c4"
      ],
      "layout": "IPY_MODEL_c4ce107456c64fc78c02dc942fecb846"
     }
    },
    "d3a53533ffab4a76ac9ada9169bfff28": {
     "model_module": "@jupyter-widgets/controls",
     "model_module_version": "1.5.0",
     "model_name": "DescriptionStyleModel",
     "state": {
      "_model_module": "@jupyter-widgets/controls",
      "_model_module_version": "1.5.0",
      "_model_name": "DescriptionStyleModel",
      "_view_count": null,
      "_view_module": "@jupyter-widgets/base",
      "_view_module_version": "1.2.0",
      "_view_name": "StyleView",
      "description_width": ""
     }
    },
    "d5d5b7b6075c40aa85160b83292f8019": {
     "model_module": "@jupyter-widgets/controls",
     "model_module_version": "1.5.0",
     "model_name": "DescriptionStyleModel",
     "state": {
      "_model_module": "@jupyter-widgets/controls",
      "_model_module_version": "1.5.0",
      "_model_name": "DescriptionStyleModel",
      "_view_count": null,
      "_view_module": "@jupyter-widgets/base",
      "_view_module_version": "1.2.0",
      "_view_name": "StyleView",
      "description_width": ""
     }
    },
    "d7e933cc705c4d1496f60b855fe441c4": {
     "model_module": "@jupyter-widgets/controls",
     "model_module_version": "1.5.0",
     "model_name": "HTMLModel",
     "state": {
      "_dom_classes": [],
      "_model_module": "@jupyter-widgets/controls",
      "_model_module_version": "1.5.0",
      "_model_name": "HTMLModel",
      "_view_count": null,
      "_view_module": "@jupyter-widgets/controls",
      "_view_module_version": "1.5.0",
      "_view_name": "HTMLView",
      "description": "",
      "description_tooltip": null,
      "layout": "IPY_MODEL_1ae399483646413eb54d43c50ead2be8",
      "placeholder": "​",
      "style": "IPY_MODEL_eb30d606d3c648c0baeb6983ec2fb048",
      "value": " 49999/50000 [00:00&lt;00:00, 136625.72 examples/s]"
     }
    },
    "db765227a4a74fd0ab29bed7b5f9a9f9": {
     "model_module": "@jupyter-widgets/base",
     "model_module_version": "1.2.0",
     "model_name": "LayoutModel",
     "state": {
      "_model_module": "@jupyter-widgets/base",
      "_model_module_version": "1.2.0",
      "_model_name": "LayoutModel",
      "_view_count": null,
      "_view_module": "@jupyter-widgets/base",
      "_view_module_version": "1.2.0",
      "_view_name": "LayoutView",
      "align_content": null,
      "align_items": null,
      "align_self": null,
      "border": null,
      "bottom": null,
      "display": null,
      "flex": null,
      "flex_flow": null,
      "grid_area": null,
      "grid_auto_columns": null,
      "grid_auto_flow": null,
      "grid_auto_rows": null,
      "grid_column": null,
      "grid_gap": null,
      "grid_row": null,
      "grid_template_areas": null,
      "grid_template_columns": null,
      "grid_template_rows": null,
      "height": null,
      "justify_content": null,
      "justify_items": null,
      "left": null,
      "margin": null,
      "max_height": null,
      "max_width": null,
      "min_height": null,
      "min_width": null,
      "object_fit": null,
      "object_position": null,
      "order": null,
      "overflow": null,
      "overflow_x": null,
      "overflow_y": null,
      "padding": null,
      "right": null,
      "top": null,
      "visibility": null,
      "width": "20px"
     }
    },
    "decc1bda93694cb2810fd7ecf3a1ee8b": {
     "model_module": "@jupyter-widgets/base",
     "model_module_version": "1.2.0",
     "model_name": "LayoutModel",
     "state": {
      "_model_module": "@jupyter-widgets/base",
      "_model_module_version": "1.2.0",
      "_model_name": "LayoutModel",
      "_view_count": null,
      "_view_module": "@jupyter-widgets/base",
      "_view_module_version": "1.2.0",
      "_view_name": "LayoutView",
      "align_content": null,
      "align_items": null,
      "align_self": null,
      "border": null,
      "bottom": null,
      "display": null,
      "flex": null,
      "flex_flow": null,
      "grid_area": null,
      "grid_auto_columns": null,
      "grid_auto_flow": null,
      "grid_auto_rows": null,
      "grid_column": null,
      "grid_gap": null,
      "grid_row": null,
      "grid_template_areas": null,
      "grid_template_columns": null,
      "grid_template_rows": null,
      "height": null,
      "justify_content": null,
      "justify_items": null,
      "left": null,
      "margin": null,
      "max_height": null,
      "max_width": null,
      "min_height": null,
      "min_width": null,
      "object_fit": null,
      "object_position": null,
      "order": null,
      "overflow": null,
      "overflow_x": null,
      "overflow_y": null,
      "padding": null,
      "right": null,
      "top": null,
      "visibility": null,
      "width": null
     }
    },
    "e150ae3eeddc42498e5a5d792093eecd": {
     "model_module": "@jupyter-widgets/controls",
     "model_module_version": "1.5.0",
     "model_name": "HTMLModel",
     "state": {
      "_dom_classes": [],
      "_model_module": "@jupyter-widgets/controls",
      "_model_module_version": "1.5.0",
      "_model_name": "HTMLModel",
      "_view_count": null,
      "_view_module": "@jupyter-widgets/controls",
      "_view_module_version": "1.5.0",
      "_view_name": "HTMLView",
      "description": "",
      "description_tooltip": null,
      "layout": "IPY_MODEL_0ffd2946869e4ba59d0e9c1c4c4e94eb",
      "placeholder": "​",
      "style": "IPY_MODEL_b27c0d4d0de1434e99b9d01765a8bc13",
      "value": ""
     }
    },
    "e4fd949cbbe3488588dedd0cba58cb3f": {
     "model_module": "@jupyter-widgets/controls",
     "model_module_version": "1.5.0",
     "model_name": "DescriptionStyleModel",
     "state": {
      "_model_module": "@jupyter-widgets/controls",
      "_model_module_version": "1.5.0",
      "_model_name": "DescriptionStyleModel",
      "_view_count": null,
      "_view_module": "@jupyter-widgets/base",
      "_view_module_version": "1.2.0",
      "_view_name": "StyleView",
      "description_width": ""
     }
    },
    "ea7aa48c2fd941c197c0326a86477406": {
     "model_module": "@jupyter-widgets/controls",
     "model_module_version": "1.5.0",
     "model_name": "HBoxModel",
     "state": {
      "_dom_classes": [],
      "_model_module": "@jupyter-widgets/controls",
      "_model_module_version": "1.5.0",
      "_model_name": "HBoxModel",
      "_view_count": null,
      "_view_module": "@jupyter-widgets/controls",
      "_view_module_version": "1.5.0",
      "_view_name": "HBoxView",
      "box_style": "",
      "children": [
       "IPY_MODEL_903e93a4bfcf4225918592e53af05af5",
       "IPY_MODEL_0506b1f3ffe045af8df7624b765e4058",
       "IPY_MODEL_388ce343e4414db794323d3d1ed8284a"
      ],
      "layout": "IPY_MODEL_bedd3e4bdc974d588cd706f7aa5c822e"
     }
    },
    "eb30d606d3c648c0baeb6983ec2fb048": {
     "model_module": "@jupyter-widgets/controls",
     "model_module_version": "1.5.0",
     "model_name": "DescriptionStyleModel",
     "state": {
      "_model_module": "@jupyter-widgets/controls",
      "_model_module_version": "1.5.0",
      "_model_name": "DescriptionStyleModel",
      "_view_count": null,
      "_view_module": "@jupyter-widgets/base",
      "_view_module_version": "1.2.0",
      "_view_name": "StyleView",
      "description_width": ""
     }
    },
    "edca3d397f2344a6b17ce9ae8d57ab34": {
     "model_module": "@jupyter-widgets/controls",
     "model_module_version": "1.5.0",
     "model_name": "HBoxModel",
     "state": {
      "_dom_classes": [],
      "_model_module": "@jupyter-widgets/controls",
      "_model_module_version": "1.5.0",
      "_model_name": "HBoxModel",
      "_view_count": null,
      "_view_module": "@jupyter-widgets/controls",
      "_view_module_version": "1.5.0",
      "_view_name": "HBoxView",
      "box_style": "",
      "children": [
       "IPY_MODEL_e150ae3eeddc42498e5a5d792093eecd",
       "IPY_MODEL_f257b3cc3a05417498147fd0c7f432ce",
       "IPY_MODEL_75bbb328dbef4f8f8e106663ff6dd1c7"
      ],
      "layout": "IPY_MODEL_2762f59788ad4aed92a7dffebec14ac2"
     }
    },
    "ef34eedb880e47f0aafadb3120aea380": {
     "model_module": "@jupyter-widgets/controls",
     "model_module_version": "1.5.0",
     "model_name": "HBoxModel",
     "state": {
      "_dom_classes": [],
      "_model_module": "@jupyter-widgets/controls",
      "_model_module_version": "1.5.0",
      "_model_name": "HBoxModel",
      "_view_count": null,
      "_view_module": "@jupyter-widgets/controls",
      "_view_module_version": "1.5.0",
      "_view_name": "HBoxView",
      "box_style": "",
      "children": [
       "IPY_MODEL_86dcb6a2cce648308ce633ce58c823bf",
       "IPY_MODEL_c7d2b12d99a94e6eac212b9dec6155e4",
       "IPY_MODEL_1f09dfc329ee4495ae7c6e02c5ac4f20"
      ],
      "layout": "IPY_MODEL_5b03611d6e4f413880d2f78e8af48660"
     }
    },
    "f02b2aed8dee418c970acd806f6b44e3": {
     "model_module": "@jupyter-widgets/controls",
     "model_module_version": "1.5.0",
     "model_name": "ProgressStyleModel",
     "state": {
      "_model_module": "@jupyter-widgets/controls",
      "_model_module_version": "1.5.0",
      "_model_name": "ProgressStyleModel",
      "_view_count": null,
      "_view_module": "@jupyter-widgets/base",
      "_view_module_version": "1.2.0",
      "_view_name": "StyleView",
      "bar_color": null,
      "description_width": ""
     }
    },
    "f257b3cc3a05417498147fd0c7f432ce": {
     "model_module": "@jupyter-widgets/controls",
     "model_module_version": "1.5.0",
     "model_name": "FloatProgressModel",
     "state": {
      "_dom_classes": [],
      "_model_module": "@jupyter-widgets/controls",
      "_model_module_version": "1.5.0",
      "_model_name": "FloatProgressModel",
      "_view_count": null,
      "_view_module": "@jupyter-widgets/controls",
      "_view_module_version": "1.5.0",
      "_view_name": "ProgressView",
      "bar_style": "info",
      "description": "",
      "description_tooltip": null,
      "layout": "IPY_MODEL_97b4ab535dc84e2391b567c17250a566",
      "max": 1,
      "min": 0,
      "orientation": "horizontal",
      "style": "IPY_MODEL_70194de5ff26462c923dfd8ed271e114",
      "value": 1
     }
    },
    "f2d4da8079be4ac9b4e843fa60f4e64a": {
     "model_module": "@jupyter-widgets/controls",
     "model_module_version": "1.5.0",
     "model_name": "ProgressStyleModel",
     "state": {
      "_model_module": "@jupyter-widgets/controls",
      "_model_module_version": "1.5.0",
      "_model_name": "ProgressStyleModel",
      "_view_count": null,
      "_view_module": "@jupyter-widgets/base",
      "_view_module_version": "1.2.0",
      "_view_name": "StyleView",
      "bar_color": null,
      "description_width": ""
     }
    },
    "f3c09692f9c74c589f7f0efe7d85f037": {
     "model_module": "@jupyter-widgets/base",
     "model_module_version": "1.2.0",
     "model_name": "LayoutModel",
     "state": {
      "_model_module": "@jupyter-widgets/base",
      "_model_module_version": "1.2.0",
      "_model_name": "LayoutModel",
      "_view_count": null,
      "_view_module": "@jupyter-widgets/base",
      "_view_module_version": "1.2.0",
      "_view_name": "LayoutView",
      "align_content": null,
      "align_items": null,
      "align_self": null,
      "border": null,
      "bottom": null,
      "display": null,
      "flex": null,
      "flex_flow": null,
      "grid_area": null,
      "grid_auto_columns": null,
      "grid_auto_flow": null,
      "grid_auto_rows": null,
      "grid_column": null,
      "grid_gap": null,
      "grid_row": null,
      "grid_template_areas": null,
      "grid_template_columns": null,
      "grid_template_rows": null,
      "height": null,
      "justify_content": null,
      "justify_items": null,
      "left": null,
      "margin": null,
      "max_height": null,
      "max_width": null,
      "min_height": null,
      "min_width": null,
      "object_fit": null,
      "object_position": null,
      "order": null,
      "overflow": null,
      "overflow_x": null,
      "overflow_y": null,
      "padding": null,
      "right": null,
      "top": null,
      "visibility": null,
      "width": null
     }
    },
    "fd0bf5bdb12f49e39b023a4b070ac169": {
     "model_module": "@jupyter-widgets/controls",
     "model_module_version": "1.5.0",
     "model_name": "ProgressStyleModel",
     "state": {
      "_model_module": "@jupyter-widgets/controls",
      "_model_module_version": "1.5.0",
      "_model_name": "ProgressStyleModel",
      "_view_count": null,
      "_view_module": "@jupyter-widgets/base",
      "_view_module_version": "1.2.0",
      "_view_name": "StyleView",
      "bar_color": null,
      "description_width": ""
     }
    },
    "fdc273dbf7744e18b54eea536fada0f7": {
     "model_module": "@jupyter-widgets/controls",
     "model_module_version": "1.5.0",
     "model_name": "HTMLModel",
     "state": {
      "_dom_classes": [],
      "_model_module": "@jupyter-widgets/controls",
      "_model_module_version": "1.5.0",
      "_model_name": "HTMLModel",
      "_view_count": null,
      "_view_module": "@jupyter-widgets/controls",
      "_view_module_version": "1.5.0",
      "_view_name": "HTMLView",
      "description": "",
      "description_tooltip": null,
      "layout": "IPY_MODEL_7bad3800395d4abebcc3df2c2ac9a9f5",
      "placeholder": "​",
      "style": "IPY_MODEL_122d06b20f5f423e976f4c1ddd768aac",
      "value": " 9999/10000 [00:00&lt;00:00, 83891.88 examples/s]"
     }
    }
   }
  }
 },
 "nbformat": 4,
 "nbformat_minor": 4
}
